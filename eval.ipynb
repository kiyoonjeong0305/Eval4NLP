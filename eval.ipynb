{
 "cells": [
  {
   "cell_type": "code",
   "execution_count": 1,
   "metadata": {},
   "outputs": [],
   "source": [
    "from glob import glob\n",
    "import json\n",
    "import pandas as pd\n",
    "import scipy.stats"
   ]
  },
  {
   "cell_type": "code",
   "execution_count": 2,
   "metadata": {},
   "outputs": [],
   "source": [
    "gt_path = \"/Workspace/jh/SharedTask2023/data/summarization/train_summarization.tsv\"\n",
    "gt = pd.read_csv(gt_path, delimiter='\\t')"
   ]
  },
  {
   "cell_type": "code",
   "execution_count": 3,
   "metadata": {},
   "outputs": [],
   "source": [
    "path = \"/Workspace/ky/SharedTask2023/results/summarization/Nous-Hermes-13b/train/0.7_1_1_another_sum_prompt2/\"\n",
    "score_results = []\n",
    "\n",
    "for i in range(320):\n",
    "    with open(path+f\"{i}.json\", \"r\") as f:\n",
    "        score = json.load(f)['mean_score']\n",
    "    score_results.append(score)"
   ]
  },
  {
   "cell_type": "code",
   "execution_count": 4,
   "metadata": {},
   "outputs": [],
   "source": [
    "gt['model_score'] = score_results"
   ]
  },
  {
   "cell_type": "code",
   "execution_count": 62,
   "metadata": {},
   "outputs": [
    {
     "data": {
      "text/plain": [
       "id\n",
       "dm-test-81bd721b16cad47dfd8d24baca5b30b006291db2     3.781250\n",
       "dm-test-31114653cd606fd3f4b1035f98dedd71f8282cd2     3.336806\n",
       "cnn-test-fbbafa743a8c2ecd2cedf65c6c61956b2db8ec5c    3.125000\n",
       "dm-test-9afda3cde191a883d8c166ceb5765eb53205d8f4     2.918981\n",
       "dm-test-808a439a5d83fc47baaea934c8779a7ebc62470d     2.340278\n",
       "                                                       ...   \n",
       "dm-test-2abe0f81f5b22c8a406165717e3bd7fce6fe47c6          NaN\n",
       "dm-test-5be0a9584b051175d9f4842a143b76385335d96a          NaN\n",
       "dm-test-9d0fcbd873927674d12aafce4ae7754fd591d4e2          NaN\n",
       "dm-test-b5bc2ae78441e4ac08fb01823d5fc0f1627c3166          NaN\n",
       "dm-test-e470f0a87d7513bf880412524332047020422c3f          NaN\n",
       "Name: Score, Length: 97, dtype: float64"
      ]
     },
     "execution_count": 62,
     "metadata": {},
     "output_type": "execute_result"
    }
   ],
   "source": [
    "(gt.groupby('id')['Score'].var()).sort_values(ascending=False)"
   ]
  },
  {
   "cell_type": "code",
   "execution_count": 64,
   "metadata": {},
   "outputs": [
    {
     "data": {
      "text/html": [
       "<div>\n",
       "<style scoped>\n",
       "    .dataframe tbody tr th:only-of-type {\n",
       "        vertical-align: middle;\n",
       "    }\n",
       "\n",
       "    .dataframe tbody tr th {\n",
       "        vertical-align: top;\n",
       "    }\n",
       "\n",
       "    .dataframe thead th {\n",
       "        text-align: right;\n",
       "    }\n",
       "</style>\n",
       "<table border=\"1\" class=\"dataframe\">\n",
       "  <thead>\n",
       "    <tr style=\"text-align: right;\">\n",
       "      <th></th>\n",
       "      <th>index</th>\n",
       "      <th>SRC</th>\n",
       "      <th>HYP</th>\n",
       "      <th>Score</th>\n",
       "      <th>model_id</th>\n",
       "      <th>id</th>\n",
       "      <th>model_score</th>\n",
       "    </tr>\n",
       "  </thead>\n",
       "  <tbody>\n",
       "    <tr>\n",
       "      <th>0</th>\n",
       "      <td>14</td>\n",
       "      <td>Referee Mark Clattenburg has been named to tak...</td>\n",
       "      <td>mark clattenburg will take charge of the manch...</td>\n",
       "      <td>4.166667</td>\n",
       "      <td>M17</td>\n",
       "      <td>dm-test-808a439a5d83fc47baaea934c8779a7ebc62470d</td>\n",
       "      <td>1.000</td>\n",
       "    </tr>\n",
       "    <tr>\n",
       "      <th>1</th>\n",
       "      <td>190</td>\n",
       "      <td>Referee Mark Clattenburg has been named to tak...</td>\n",
       "      <td>referee mark clattenburg has been named to tak...</td>\n",
       "      <td>3.750000</td>\n",
       "      <td>M14</td>\n",
       "      <td>dm-test-808a439a5d83fc47baaea934c8779a7ebc62470d</td>\n",
       "      <td>1.800</td>\n",
       "    </tr>\n",
       "    <tr>\n",
       "      <th>2</th>\n",
       "      <td>299</td>\n",
       "      <td>Referee Mark Clattenburg has been named to tak...</td>\n",
       "      <td>United's win over Liverpool was their first le...</td>\n",
       "      <td>1.333333</td>\n",
       "      <td>M20</td>\n",
       "      <td>dm-test-808a439a5d83fc47baaea934c8779a7ebc62470d</td>\n",
       "      <td>1.875</td>\n",
       "    </tr>\n",
       "  </tbody>\n",
       "</table>\n",
       "</div>"
      ],
      "text/plain": [
       "   index                                                SRC  \\\n",
       "0     14  Referee Mark Clattenburg has been named to tak...   \n",
       "1    190  Referee Mark Clattenburg has been named to tak...   \n",
       "2    299  Referee Mark Clattenburg has been named to tak...   \n",
       "\n",
       "                                                 HYP     Score model_id  \\\n",
       "0  mark clattenburg will take charge of the manch...  4.166667      M17   \n",
       "1  referee mark clattenburg has been named to tak...  3.750000      M14   \n",
       "2  United's win over Liverpool was their first le...  1.333333      M20   \n",
       "\n",
       "                                                 id  model_score  \n",
       "0  dm-test-808a439a5d83fc47baaea934c8779a7ebc62470d        1.000  \n",
       "1  dm-test-808a439a5d83fc47baaea934c8779a7ebc62470d        1.800  \n",
       "2  dm-test-808a439a5d83fc47baaea934c8779a7ebc62470d        1.875  "
      ]
     },
     "execution_count": 64,
     "metadata": {},
     "output_type": "execute_result"
    }
   ],
   "source": [
    "ID = \"dm-test-808a439a5d83fc47baaea934c8779a7ebc62470d\"\n",
    "\n",
    "df = gt[gt['id']==ID].sort_values(by='Score', ascending=False).reset_index(drop=False)\n",
    "df"
   ]
  },
  {
   "cell_type": "code",
   "execution_count": 71,
   "metadata": {},
   "outputs": [
    {
     "data": {
      "text/html": [
       "<div>\n",
       "<style scoped>\n",
       "    .dataframe tbody tr th:only-of-type {\n",
       "        vertical-align: middle;\n",
       "    }\n",
       "\n",
       "    .dataframe tbody tr th {\n",
       "        vertical-align: top;\n",
       "    }\n",
       "\n",
       "    .dataframe thead th {\n",
       "        text-align: right;\n",
       "    }\n",
       "</style>\n",
       "<table border=\"1\" class=\"dataframe\">\n",
       "  <thead>\n",
       "    <tr style=\"text-align: right;\">\n",
       "      <th></th>\n",
       "      <th>index</th>\n",
       "      <th>SRC</th>\n",
       "      <th>HYP</th>\n",
       "      <th>Score</th>\n",
       "      <th>model_id</th>\n",
       "      <th>id</th>\n",
       "      <th>model_score</th>\n",
       "    </tr>\n",
       "  </thead>\n",
       "  <tbody>\n",
       "    <tr>\n",
       "      <th>0</th>\n",
       "      <td>76</td>\n",
       "      <td>Radamel Falcao's former Monaco team-mate Nabil...</td>\n",
       "      <td>Nabil Dirar believes Falcao would have been be...</td>\n",
       "      <td>3.083333</td>\n",
       "      <td>M20</td>\n",
       "      <td>dm-test-4001b252a072ac149c70840b22299cc6cfab3bae</td>\n",
       "      <td>1.666667</td>\n",
       "    </tr>\n",
       "    <tr>\n",
       "      <th>1</th>\n",
       "      <td>145</td>\n",
       "      <td>(CNN)The parents of the youngest victim of the...</td>\n",
       "      <td>dzhokhar tsarnaev was found guilty on all 30 c...</td>\n",
       "      <td>3.000000</td>\n",
       "      <td>M14</td>\n",
       "      <td>cnn-test-e49792c337d3f4c13e22f710efa44cf6a4e59aba</td>\n",
       "      <td>2.666667</td>\n",
       "    </tr>\n",
       "    <tr>\n",
       "      <th>2</th>\n",
       "      <td>154</td>\n",
       "      <td>It may have been her impressive vocals that pr...</td>\n",
       "      <td>ella henderson , 19-year-old , has been announ...</td>\n",
       "      <td>3.000000</td>\n",
       "      <td>M11</td>\n",
       "      <td>dm-test-9d0fcbd873927674d12aafce4ae7754fd591d4e2</td>\n",
       "      <td>2.800000</td>\n",
       "    </tr>\n",
       "    <tr>\n",
       "      <th>3</th>\n",
       "      <td>263</td>\n",
       "      <td>Last week she was barely showing – but Demelza...</td>\n",
       "      <td>fans will see aidan turner 's new baby daughte...</td>\n",
       "      <td>2.916667</td>\n",
       "      <td>M10</td>\n",
       "      <td>dm-test-155754e1f2bc83f6836af78703edd4d00f19f381</td>\n",
       "      <td>1.250000</td>\n",
       "    </tr>\n",
       "    <tr>\n",
       "      <th>4</th>\n",
       "      <td>71</td>\n",
       "      <td>There's not been a lot to laugh about this sea...</td>\n",
       "      <td>doncaster 's media team faced a tough challeng...</td>\n",
       "      <td>2.833333</td>\n",
       "      <td>M9</td>\n",
       "      <td>dm-test-998cb27197db1fd299aff3322ac041ba4bf1148f</td>\n",
       "      <td>2.500000</td>\n",
       "    </tr>\n",
       "    <tr>\n",
       "      <th>5</th>\n",
       "      <td>206</td>\n",
       "      <td>(CNN)SpaceX on Tuesday launched a two-stage Fa...</td>\n",
       "      <td>( cnn ) spacex on tuesday launched a two - sta...</td>\n",
       "      <td>2.833333</td>\n",
       "      <td>M5</td>\n",
       "      <td>cnn-test-b8b6e729fff27c4eef87887e61d3448de9c063f6</td>\n",
       "      <td>1.333333</td>\n",
       "    </tr>\n",
       "    <tr>\n",
       "      <th>6</th>\n",
       "      <td>179</td>\n",
       "      <td>Esteban Cambiasso has won all the major Europe...</td>\n",
       "      <td>esteban cambiasso says that helping keep leice...</td>\n",
       "      <td>2.750000</td>\n",
       "      <td>M2</td>\n",
       "      <td>dm-test-2a48112ddee712f2364f128076cb2db555a043b1</td>\n",
       "      <td>1.666667</td>\n",
       "    </tr>\n",
       "    <tr>\n",
       "      <th>7</th>\n",
       "      <td>184</td>\n",
       "      <td>A man has been arrested in connection with the...</td>\n",
       "      <td>Vanessa Santillan worked as a transgender esco...</td>\n",
       "      <td>2.750000</td>\n",
       "      <td>M20</td>\n",
       "      <td>dm-test-36352fd1c61fd0c593ee7b84cbe213aa9b444439</td>\n",
       "      <td>1.666667</td>\n",
       "    </tr>\n",
       "    <tr>\n",
       "      <th>8</th>\n",
       "      <td>125</td>\n",
       "      <td>Liverpool manager Brendan Rodgers has reminded...</td>\n",
       "      <td>Liverpool captain Steven Gerrard (left) was un...</td>\n",
       "      <td>2.750000</td>\n",
       "      <td>M20</td>\n",
       "      <td>dm-test-3ba3bde4a1440134bb38ec22ba50db59986b544c</td>\n",
       "      <td>1.166667</td>\n",
       "    </tr>\n",
       "    <tr>\n",
       "      <th>9</th>\n",
       "      <td>150</td>\n",
       "      <td>Residents on the east coast of Japan's Hokkaid...</td>\n",
       "      <td>A landslide in the area of Rausu caused an ext...</td>\n",
       "      <td>2.750000</td>\n",
       "      <td>M20</td>\n",
       "      <td>dm-test-8847383b72167c3f3dd2161b5b091b580c8f4da7</td>\n",
       "      <td>4.666667</td>\n",
       "    </tr>\n",
       "    <tr>\n",
       "      <th>10</th>\n",
       "      <td>49</td>\n",
       "      <td>River Plate are keen to sign Manchester United...</td>\n",
       "      <td>radamel falcao spent eight years with the arge...</td>\n",
       "      <td>2.666667</td>\n",
       "      <td>M12</td>\n",
       "      <td>dm-test-bd4684a0f5af5dd6ac88d2fb50f902bd7f10217b</td>\n",
       "      <td>2.500000</td>\n",
       "    </tr>\n",
       "    <tr>\n",
       "      <th>11</th>\n",
       "      <td>1</td>\n",
       "      <td>One Missouri mom is making the best out of a l...</td>\n",
       "      <td>Becky Schoenig's car was stolen on Monday nigh...</td>\n",
       "      <td>2.666667</td>\n",
       "      <td>M20</td>\n",
       "      <td>dm-test-dea0ed2e587495e516ac85056e21a2076a9a993c</td>\n",
       "      <td>0.666667</td>\n",
       "    </tr>\n",
       "    <tr>\n",
       "      <th>12</th>\n",
       "      <td>78</td>\n",
       "      <td>Harry Kane's celebrations this season have alw...</td>\n",
       "      <td>Harry Kane is nominated for both the PFA Playe...</td>\n",
       "      <td>2.583333</td>\n",
       "      <td>M20</td>\n",
       "      <td>dm-test-6c1341bedf92a304318545fbf1aad88651de7909</td>\n",
       "      <td>1.333333</td>\n",
       "    </tr>\n",
       "    <tr>\n",
       "      <th>13</th>\n",
       "      <td>193</td>\n",
       "      <td>Roma ended their four-month winless streak at ...</td>\n",
       "      <td>roma beat napoli 4-2 on saturday in a key matc...</td>\n",
       "      <td>2.583333</td>\n",
       "      <td>M8</td>\n",
       "      <td>dm-test-18243373494a1722ddcd162ec67b63dd749633ab</td>\n",
       "      <td>1.533333</td>\n",
       "    </tr>\n",
       "    <tr>\n",
       "      <th>14</th>\n",
       "      <td>255</td>\n",
       "      <td>River Plate are keen to sign Manchester United...</td>\n",
       "      <td>radamel falcao spent eight years with the arge...</td>\n",
       "      <td>2.583333</td>\n",
       "      <td>M14</td>\n",
       "      <td>dm-test-bd4684a0f5af5dd6ac88d2fb50f902bd7f10217b</td>\n",
       "      <td>3.250000</td>\n",
       "    </tr>\n",
       "    <tr>\n",
       "      <th>15</th>\n",
       "      <td>319</td>\n",
       "      <td>After Chelsea forward Eden Hazard had scored g...</td>\n",
       "      <td>eden hazard scored a 1-0 lead against manchest...</td>\n",
       "      <td>2.583333</td>\n",
       "      <td>M11</td>\n",
       "      <td>dm-test-f468efac7b3c54f8c42c2c81dff108c52ebe0d7d</td>\n",
       "      <td>3.000000</td>\n",
       "    </tr>\n",
       "    <tr>\n",
       "      <th>16</th>\n",
       "      <td>131</td>\n",
       "      <td>Former Holland forward and assistant coach Pat...</td>\n",
       "      <td>patrick kluivert has been winning start in wor...</td>\n",
       "      <td>2.500000</td>\n",
       "      <td>M11</td>\n",
       "      <td>dm-test-46609841ffd23e9c22d1507edf7b176ecc4d834f</td>\n",
       "      <td>2.400000</td>\n",
       "    </tr>\n",
       "    <tr>\n",
       "      <th>17</th>\n",
       "      <td>273</td>\n",
       "      <td>Ten people, including four children, have been...</td>\n",
       "      <td>three vehicles collided on brisbane valley hig...</td>\n",
       "      <td>2.500000</td>\n",
       "      <td>M11</td>\n",
       "      <td>dm-test-02c955067d00f38b6978b805d5a8701a787f78ac</td>\n",
       "      <td>1.363636</td>\n",
       "    </tr>\n",
       "    <tr>\n",
       "      <th>18</th>\n",
       "      <td>59</td>\n",
       "      <td>Jordan Henderson has provided Liverpool with a...</td>\n",
       "      <td>Henderson's new deal is worth around £100,000-...</td>\n",
       "      <td>2.333333</td>\n",
       "      <td>M20</td>\n",
       "      <td>dm-test-6f027d030f9ca86446dc893f1d10ced4c9a3561f</td>\n",
       "      <td>0.800000</td>\n",
       "    </tr>\n",
       "    <tr>\n",
       "      <th>19</th>\n",
       "      <td>277</td>\n",
       "      <td>Esteban Cambiasso has won all the major Europe...</td>\n",
       "      <td>foxes are currently seven points adrift at the...</td>\n",
       "      <td>2.333333</td>\n",
       "      <td>M11</td>\n",
       "      <td>dm-test-2a48112ddee712f2364f128076cb2db555a043b1</td>\n",
       "      <td>2.166667</td>\n",
       "    </tr>\n",
       "    <tr>\n",
       "      <th>20</th>\n",
       "      <td>158</td>\n",
       "      <td>Roma ended their four-month winless streak at ...</td>\n",
       "      <td>roma beat napoli beat napoli in serie a on sat...</td>\n",
       "      <td>2.250000</td>\n",
       "      <td>M11</td>\n",
       "      <td>dm-test-18243373494a1722ddcd162ec67b63dd749633ab</td>\n",
       "      <td>0.900000</td>\n",
       "    </tr>\n",
       "    <tr>\n",
       "      <th>21</th>\n",
       "      <td>79</td>\n",
       "      <td>(CNN)One of the biggest TV events of all time ...</td>\n",
       "      <td>a&amp;e , lifetime and history are remaking the mi...</td>\n",
       "      <td>2.166667</td>\n",
       "      <td>M10</td>\n",
       "      <td>cnn-test-fbbafa743a8c2ecd2cedf65c6c61956b2db8ec5c</td>\n",
       "      <td>3.750000</td>\n",
       "    </tr>\n",
       "    <tr>\n",
       "      <th>22</th>\n",
       "      <td>228</td>\n",
       "      <td>Wales' crunch Euro 2016 qualifier with Belgium...</td>\n",
       "      <td>the top two sides in group b meet at cardiff c...</td>\n",
       "      <td>2.166667</td>\n",
       "      <td>M11</td>\n",
       "      <td>dm-test-31114653cd606fd3f4b1035f98dedd71f8282cd2</td>\n",
       "      <td>0.750000</td>\n",
       "    </tr>\n",
       "    <tr>\n",
       "      <th>23</th>\n",
       "      <td>205</td>\n",
       "      <td>Nathan Hughes on Friday night had his ban for ...</td>\n",
       "      <td>Wasps appealed against the three-match ban imp...</td>\n",
       "      <td>1.916667</td>\n",
       "      <td>M20</td>\n",
       "      <td>dm-test-81bd721b16cad47dfd8d24baca5b30b006291db2</td>\n",
       "      <td>2.000000</td>\n",
       "    </tr>\n",
       "    <tr>\n",
       "      <th>24</th>\n",
       "      <td>285</td>\n",
       "      <td>Arsenal manager Arsene Wenger does not know th...</td>\n",
       "      <td>alexis sanchez is glad chile forward will be l...</td>\n",
       "      <td>1.833333</td>\n",
       "      <td>M11</td>\n",
       "      <td>dm-test-9afda3cde191a883d8c166ceb5765eb53205d8f4</td>\n",
       "      <td>0.800000</td>\n",
       "    </tr>\n",
       "    <tr>\n",
       "      <th>25</th>\n",
       "      <td>259</td>\n",
       "      <td>Paul Merson has restarted his row with Andros ...</td>\n",
       "      <td>paul merson was brought on with only seven min...</td>\n",
       "      <td>1.750000</td>\n",
       "      <td>M11</td>\n",
       "      <td>dm-test-8764fb95bfad8ee849274873a92fb8d6b400eee2</td>\n",
       "      <td>1.333333</td>\n",
       "    </tr>\n",
       "    <tr>\n",
       "      <th>26</th>\n",
       "      <td>299</td>\n",
       "      <td>Referee Mark Clattenburg has been named to tak...</td>\n",
       "      <td>United's win over Liverpool was their first le...</td>\n",
       "      <td>1.333333</td>\n",
       "      <td>M20</td>\n",
       "      <td>dm-test-808a439a5d83fc47baaea934c8779a7ebc62470d</td>\n",
       "      <td>1.875000</td>\n",
       "    </tr>\n",
       "  </tbody>\n",
       "</table>\n",
       "</div>"
      ],
      "text/plain": [
       "    index                                                SRC  \\\n",
       "0      76  Radamel Falcao's former Monaco team-mate Nabil...   \n",
       "1     145  (CNN)The parents of the youngest victim of the...   \n",
       "2     154  It may have been her impressive vocals that pr...   \n",
       "3     263  Last week she was barely showing – but Demelza...   \n",
       "4      71  There's not been a lot to laugh about this sea...   \n",
       "5     206  (CNN)SpaceX on Tuesday launched a two-stage Fa...   \n",
       "6     179  Esteban Cambiasso has won all the major Europe...   \n",
       "7     184  A man has been arrested in connection with the...   \n",
       "8     125  Liverpool manager Brendan Rodgers has reminded...   \n",
       "9     150  Residents on the east coast of Japan's Hokkaid...   \n",
       "10     49  River Plate are keen to sign Manchester United...   \n",
       "11      1  One Missouri mom is making the best out of a l...   \n",
       "12     78  Harry Kane's celebrations this season have alw...   \n",
       "13    193  Roma ended their four-month winless streak at ...   \n",
       "14    255  River Plate are keen to sign Manchester United...   \n",
       "15    319  After Chelsea forward Eden Hazard had scored g...   \n",
       "16    131  Former Holland forward and assistant coach Pat...   \n",
       "17    273  Ten people, including four children, have been...   \n",
       "18     59  Jordan Henderson has provided Liverpool with a...   \n",
       "19    277  Esteban Cambiasso has won all the major Europe...   \n",
       "20    158  Roma ended their four-month winless streak at ...   \n",
       "21     79  (CNN)One of the biggest TV events of all time ...   \n",
       "22    228  Wales' crunch Euro 2016 qualifier with Belgium...   \n",
       "23    205  Nathan Hughes on Friday night had his ban for ...   \n",
       "24    285  Arsenal manager Arsene Wenger does not know th...   \n",
       "25    259  Paul Merson has restarted his row with Andros ...   \n",
       "26    299  Referee Mark Clattenburg has been named to tak...   \n",
       "\n",
       "                                                  HYP     Score model_id  \\\n",
       "0   Nabil Dirar believes Falcao would have been be...  3.083333      M20   \n",
       "1   dzhokhar tsarnaev was found guilty on all 30 c...  3.000000      M14   \n",
       "2   ella henderson , 19-year-old , has been announ...  3.000000      M11   \n",
       "3   fans will see aidan turner 's new baby daughte...  2.916667      M10   \n",
       "4   doncaster 's media team faced a tough challeng...  2.833333       M9   \n",
       "5   ( cnn ) spacex on tuesday launched a two - sta...  2.833333       M5   \n",
       "6   esteban cambiasso says that helping keep leice...  2.750000       M2   \n",
       "7   Vanessa Santillan worked as a transgender esco...  2.750000      M20   \n",
       "8   Liverpool captain Steven Gerrard (left) was un...  2.750000      M20   \n",
       "9   A landslide in the area of Rausu caused an ext...  2.750000      M20   \n",
       "10  radamel falcao spent eight years with the arge...  2.666667      M12   \n",
       "11  Becky Schoenig's car was stolen on Monday nigh...  2.666667      M20   \n",
       "12  Harry Kane is nominated for both the PFA Playe...  2.583333      M20   \n",
       "13  roma beat napoli 4-2 on saturday in a key matc...  2.583333       M8   \n",
       "14  radamel falcao spent eight years with the arge...  2.583333      M14   \n",
       "15  eden hazard scored a 1-0 lead against manchest...  2.583333      M11   \n",
       "16  patrick kluivert has been winning start in wor...  2.500000      M11   \n",
       "17  three vehicles collided on brisbane valley hig...  2.500000      M11   \n",
       "18  Henderson's new deal is worth around £100,000-...  2.333333      M20   \n",
       "19  foxes are currently seven points adrift at the...  2.333333      M11   \n",
       "20  roma beat napoli beat napoli in serie a on sat...  2.250000      M11   \n",
       "21  a&e , lifetime and history are remaking the mi...  2.166667      M10   \n",
       "22  the top two sides in group b meet at cardiff c...  2.166667      M11   \n",
       "23  Wasps appealed against the three-match ban imp...  1.916667      M20   \n",
       "24  alexis sanchez is glad chile forward will be l...  1.833333      M11   \n",
       "25  paul merson was brought on with only seven min...  1.750000      M11   \n",
       "26  United's win over Liverpool was their first le...  1.333333      M20   \n",
       "\n",
       "                                                   id  model_score  \n",
       "0    dm-test-4001b252a072ac149c70840b22299cc6cfab3bae     1.666667  \n",
       "1   cnn-test-e49792c337d3f4c13e22f710efa44cf6a4e59aba     2.666667  \n",
       "2    dm-test-9d0fcbd873927674d12aafce4ae7754fd591d4e2     2.800000  \n",
       "3    dm-test-155754e1f2bc83f6836af78703edd4d00f19f381     1.250000  \n",
       "4    dm-test-998cb27197db1fd299aff3322ac041ba4bf1148f     2.500000  \n",
       "5   cnn-test-b8b6e729fff27c4eef87887e61d3448de9c063f6     1.333333  \n",
       "6    dm-test-2a48112ddee712f2364f128076cb2db555a043b1     1.666667  \n",
       "7    dm-test-36352fd1c61fd0c593ee7b84cbe213aa9b444439     1.666667  \n",
       "8    dm-test-3ba3bde4a1440134bb38ec22ba50db59986b544c     1.166667  \n",
       "9    dm-test-8847383b72167c3f3dd2161b5b091b580c8f4da7     4.666667  \n",
       "10   dm-test-bd4684a0f5af5dd6ac88d2fb50f902bd7f10217b     2.500000  \n",
       "11   dm-test-dea0ed2e587495e516ac85056e21a2076a9a993c     0.666667  \n",
       "12   dm-test-6c1341bedf92a304318545fbf1aad88651de7909     1.333333  \n",
       "13   dm-test-18243373494a1722ddcd162ec67b63dd749633ab     1.533333  \n",
       "14   dm-test-bd4684a0f5af5dd6ac88d2fb50f902bd7f10217b     3.250000  \n",
       "15   dm-test-f468efac7b3c54f8c42c2c81dff108c52ebe0d7d     3.000000  \n",
       "16   dm-test-46609841ffd23e9c22d1507edf7b176ecc4d834f     2.400000  \n",
       "17   dm-test-02c955067d00f38b6978b805d5a8701a787f78ac     1.363636  \n",
       "18   dm-test-6f027d030f9ca86446dc893f1d10ced4c9a3561f     0.800000  \n",
       "19   dm-test-2a48112ddee712f2364f128076cb2db555a043b1     2.166667  \n",
       "20   dm-test-18243373494a1722ddcd162ec67b63dd749633ab     0.900000  \n",
       "21  cnn-test-fbbafa743a8c2ecd2cedf65c6c61956b2db8ec5c     3.750000  \n",
       "22   dm-test-31114653cd606fd3f4b1035f98dedd71f8282cd2     0.750000  \n",
       "23   dm-test-81bd721b16cad47dfd8d24baca5b30b006291db2     2.000000  \n",
       "24   dm-test-9afda3cde191a883d8c166ceb5765eb53205d8f4     0.800000  \n",
       "25   dm-test-8764fb95bfad8ee849274873a92fb8d6b400eee2     1.333333  \n",
       "26   dm-test-808a439a5d83fc47baaea934c8779a7ebc62470d     1.875000  "
      ]
     },
     "execution_count": 71,
     "metadata": {},
     "output_type": "execute_result"
    }
   ],
   "source": [
    "gt[gt['Score']<3.1].sort_values(by='Score', ascending=False).reset_index(drop=False)"
   ]
  },
  {
   "cell_type": "code",
   "execution_count": 57,
   "metadata": {},
   "outputs": [
    {
     "data": {
      "text/html": [
       "<div>\n",
       "<style scoped>\n",
       "    .dataframe tbody tr th:only-of-type {\n",
       "        vertical-align: middle;\n",
       "    }\n",
       "\n",
       "    .dataframe tbody tr th {\n",
       "        vertical-align: top;\n",
       "    }\n",
       "\n",
       "    .dataframe thead th {\n",
       "        text-align: right;\n",
       "    }\n",
       "</style>\n",
       "<table border=\"1\" class=\"dataframe\">\n",
       "  <thead>\n",
       "    <tr style=\"text-align: right;\">\n",
       "      <th></th>\n",
       "      <th>index</th>\n",
       "      <th>SRC</th>\n",
       "      <th>HYP</th>\n",
       "      <th>Score</th>\n",
       "      <th>model_id</th>\n",
       "      <th>id</th>\n",
       "      <th>model_score</th>\n",
       "    </tr>\n",
       "  </thead>\n",
       "  <tbody>\n",
       "    <tr>\n",
       "      <th>0</th>\n",
       "      <td>55</td>\n",
       "      <td>Last week she was barely showing – but Demelza...</td>\n",
       "      <td>demelza poldark is now the proud mother to the...</td>\n",
       "      <td>4.833333</td>\n",
       "      <td>M23</td>\n",
       "      <td>dm-test-155754e1f2bc83f6836af78703edd4d00f19f381</td>\n",
       "      <td>3.000000</td>\n",
       "    </tr>\n",
       "    <tr>\n",
       "      <th>1</th>\n",
       "      <td>135</td>\n",
       "      <td>Last week she was barely showing – but Demelza...</td>\n",
       "      <td>demelza poldark is now the proud mother to the...</td>\n",
       "      <td>4.750000</td>\n",
       "      <td>M8</td>\n",
       "      <td>dm-test-155754e1f2bc83f6836af78703edd4d00f19f381</td>\n",
       "      <td>0.600000</td>\n",
       "    </tr>\n",
       "    <tr>\n",
       "      <th>2</th>\n",
       "      <td>176</td>\n",
       "      <td>Last week she was barely showing – but Demelza...</td>\n",
       "      <td>last week demelza poldark was barely showing –...</td>\n",
       "      <td>4.750000</td>\n",
       "      <td>M17</td>\n",
       "      <td>dm-test-155754e1f2bc83f6836af78703edd4d00f19f381</td>\n",
       "      <td>2.000000</td>\n",
       "    </tr>\n",
       "    <tr>\n",
       "      <th>3</th>\n",
       "      <td>42</td>\n",
       "      <td>Last week she was barely showing – but Demelza...</td>\n",
       "      <td>demelza poldark is now the proud mother to the...</td>\n",
       "      <td>4.416667</td>\n",
       "      <td>M12</td>\n",
       "      <td>dm-test-155754e1f2bc83f6836af78703edd4d00f19f381</td>\n",
       "      <td>0.000000</td>\n",
       "    </tr>\n",
       "    <tr>\n",
       "      <th>4</th>\n",
       "      <td>11</td>\n",
       "      <td>Last week she was barely showing – but Demelza...</td>\n",
       "      <td>within ten minutes of tomorrow night 's episod...</td>\n",
       "      <td>3.916667</td>\n",
       "      <td>M1</td>\n",
       "      <td>dm-test-155754e1f2bc83f6836af78703edd4d00f19f381</td>\n",
       "      <td>2.428571</td>\n",
       "    </tr>\n",
       "    <tr>\n",
       "      <th>5</th>\n",
       "      <td>263</td>\n",
       "      <td>Last week she was barely showing – but Demelza...</td>\n",
       "      <td>fans will see aidan turner 's new baby daughte...</td>\n",
       "      <td>2.916667</td>\n",
       "      <td>M10</td>\n",
       "      <td>dm-test-155754e1f2bc83f6836af78703edd4d00f19f381</td>\n",
       "      <td>1.250000</td>\n",
       "    </tr>\n",
       "  </tbody>\n",
       "</table>\n",
       "</div>"
      ],
      "text/plain": [
       "   index                                                SRC  \\\n",
       "0     55  Last week she was barely showing – but Demelza...   \n",
       "1    135  Last week she was barely showing – but Demelza...   \n",
       "2    176  Last week she was barely showing – but Demelza...   \n",
       "3     42  Last week she was barely showing – but Demelza...   \n",
       "4     11  Last week she was barely showing – but Demelza...   \n",
       "5    263  Last week she was barely showing – but Demelza...   \n",
       "\n",
       "                                                 HYP     Score model_id  \\\n",
       "0  demelza poldark is now the proud mother to the...  4.833333      M23   \n",
       "1  demelza poldark is now the proud mother to the...  4.750000       M8   \n",
       "2  last week demelza poldark was barely showing –...  4.750000      M17   \n",
       "3  demelza poldark is now the proud mother to the...  4.416667      M12   \n",
       "4  within ten minutes of tomorrow night 's episod...  3.916667       M1   \n",
       "5  fans will see aidan turner 's new baby daughte...  2.916667      M10   \n",
       "\n",
       "                                                 id  model_score  \n",
       "0  dm-test-155754e1f2bc83f6836af78703edd4d00f19f381     3.000000  \n",
       "1  dm-test-155754e1f2bc83f6836af78703edd4d00f19f381     0.600000  \n",
       "2  dm-test-155754e1f2bc83f6836af78703edd4d00f19f381     2.000000  \n",
       "3  dm-test-155754e1f2bc83f6836af78703edd4d00f19f381     0.000000  \n",
       "4  dm-test-155754e1f2bc83f6836af78703edd4d00f19f381     2.428571  \n",
       "5  dm-test-155754e1f2bc83f6836af78703edd4d00f19f381     1.250000  "
      ]
     },
     "execution_count": 57,
     "metadata": {},
     "output_type": "execute_result"
    }
   ],
   "source": [
    "idx = 11\n",
    "\n",
    "df = gt[gt['id']==gt['id'][idx]].sort_values(by='Score', ascending=False).reset_index(drop=False)\n",
    "df"
   ]
  },
  {
   "cell_type": "code",
   "execution_count": 59,
   "metadata": {},
   "outputs": [
    {
     "data": {
      "text/plain": [
       "\"Last\\xa0week she was barely showing – but Demelza Poldark is now the proud mother to the show’s latest addition. Within ten minutes of tomorrow night’s episode, fans will see Aidan Turner’s dashing Ross Poldark gaze lovingly at his new baby daughter. As Sunday night’s latest heartthrob, women across the country have voiced their longing to settle down with the brooding Cornish gentleman – but unfortunately it seems as if his heart is well and truly off the market. Scroll down for video Last week she was barely showing – but Demelza Poldark is now the proud mother to the show’s latest addition He may have married his red-headed kitchen maid out of duty, but as he tells her that she makes him a better man, audiences can have little doubt about his feelings. What is rather less convincing, however, is the timeline of the pregnancy. With the climax of the previous episode being the announcement of the pregnancy, it is quite a jump to the start of tomorrow’s instalment where Demelza, played by Eleanor Tomlinson, talks about being eight months pregnant. Just minutes after – once again without any nod to the passing of time – she is giving birth, with the last month of her pregnancy passing in less than the blink of an eye. With the climax of the previous episode being the announcement of the pregnancy, it is quite a jump to the start of tomorrow’s instalment where Demelza, played by Eleanor Tomlinson, talks about being eight months pregnant As Sunday night’s latest heartthrob, women across the country have voiced their longing to settle down with Poldark – but unfortunately it seems as if his heart is well and truly off the market Their fast relationship didn't go unnoticed by fans. One posted on Twitter: ‘If you are pregnant in Poldark times expect to have it in the next 10 minutes’ It is reminiscent of the show’s previous pregnancy that saw Elizabeth, another contender for Ross’s affection, go to full term in the gap between two episodes. This didn’t go unnoticed by fans, who posted on Twitter: ‘Poldark is rather good, would watch the next one now. Though if you are pregnant in Poldark times expect to have it in the next 10 minutes.’\""
      ]
     },
     "execution_count": 59,
     "metadata": {},
     "output_type": "execute_result"
    }
   ],
   "source": [
    "df['SRC'][0]"
   ]
  },
  {
   "cell_type": "code",
   "execution_count": 60,
   "metadata": {},
   "outputs": [
    {
     "data": {
      "text/plain": [
       "'demelza poldark is now the proud mother to the show’s latest addition . within ten minutes of tomorrow night’s episode, fans will see aidan turner’s dashing ross poldark gaze lovingly at his new baby daughter . it is reminiscent of the show’s previous pregnancy that saw elizabeth, another contender for ross’s affection, go to full term in the gap between two episodes .'"
      ]
     },
     "execution_count": 60,
     "metadata": {},
     "output_type": "execute_result"
    }
   ],
   "source": [
    "df['HYP'][0]"
   ]
  },
  {
   "cell_type": "code",
   "execution_count": 61,
   "metadata": {},
   "outputs": [
    {
     "data": {
      "text/plain": [
       "\"fans will see aidan turner 's new baby daughter as sunday night 's episode . last week , demelza poldark is now the mother to the show 's tv episode . demelza poldark has been eight months pregnant .\""
      ]
     },
     "execution_count": 61,
     "metadata": {},
     "output_type": "execute_result"
    }
   ],
   "source": [
    "df['HYP'][5]"
   ]
  },
  {
   "cell_type": "code",
   "execution_count": null,
   "metadata": {},
   "outputs": [],
   "source": []
  },
  {
   "cell_type": "code",
   "execution_count": 12,
   "metadata": {},
   "outputs": [
    {
     "name": "stdout",
     "output_type": "stream",
     "text": [
      "nathan hughes on friday night had his ban for accidentally knocking out george north sensationally over-turned on appeal , following an outcry on his behalf . the wasps no 8 was initially suspended for three matches , after a disciplinary panel ruled he had been ‘ reckless ’ for failing to prevent his knee colliding with the head of the welsh lion , as he scored a try for northampton on march 27 . hughes was shown a red card for the offence , but that dismissal has now been officially rescinded .\n"
     ]
    }
   ],
   "source": [
    "print(df['HYP'][1], sep='.')"
   ]
  },
  {
   "cell_type": "code",
   "execution_count": 30,
   "metadata": {},
   "outputs": [
    {
     "data": {
      "text/plain": [
       "320"
      ]
     },
     "execution_count": 30,
     "metadata": {},
     "output_type": "execute_result"
    }
   ],
   "source": [
    "len(score_results)"
   ]
  },
  {
   "cell_type": "code",
   "execution_count": 31,
   "metadata": {},
   "outputs": [
    {
     "data": {
      "text/plain": [
       "2.000000    26\n",
       "1.000000    26\n",
       "3.000000    19\n",
       "1.666667    15\n",
       "0.000000    14\n",
       "            ..\n",
       "2.900000     1\n",
       "0.857143     1\n",
       "0.500000     1\n",
       "1.375000     1\n",
       "1.625000     1\n",
       "Name: count, Length: 89, dtype: int64"
      ]
     },
     "execution_count": 31,
     "metadata": {},
     "output_type": "execute_result"
    }
   ],
   "source": [
    "pd.Series(score_results).value_counts()"
   ]
  },
  {
   "cell_type": "code",
   "execution_count": 32,
   "metadata": {},
   "outputs": [
    {
     "data": {
      "text/plain": [
       "0.11331136754760612"
      ]
     },
     "execution_count": 32,
     "metadata": {},
     "output_type": "execute_result"
    }
   ],
   "source": [
    "scipy.stats.kendalltau(score_results, gt_score['Score'])[0]"
   ]
  },
  {
   "cell_type": "markdown",
   "metadata": {},
   "source": [
    "## Orca13B"
   ]
  },
  {
   "cell_type": "code",
   "execution_count": 14,
   "metadata": {},
   "outputs": [],
   "source": [
    "orca_path = \"/Workspace/ky/SharedTask2023/results/summarization/orca_mini_v3_7b/train/0.7_1_1_prompt_mk3/\""
   ]
  },
  {
   "cell_type": "code",
   "execution_count": 15,
   "metadata": {},
   "outputs": [],
   "source": [
    "orca_score_results = []"
   ]
  },
  {
   "cell_type": "code",
   "execution_count": 16,
   "metadata": {},
   "outputs": [],
   "source": [
    "import json"
   ]
  },
  {
   "cell_type": "code",
   "execution_count": 17,
   "metadata": {},
   "outputs": [],
   "source": [
    "for i in range(320):\n",
    "    with open(orca_path+f\"{i}.json\", \"r\") as f:\n",
    "        score = json.load(f)['mean_score']\n",
    "    orca_score_results.append(score)"
   ]
  },
  {
   "cell_type": "code",
   "execution_count": 18,
   "metadata": {},
   "outputs": [
    {
     "data": {
      "text/plain": [
       "320"
      ]
     },
     "execution_count": 18,
     "metadata": {},
     "output_type": "execute_result"
    }
   ],
   "source": [
    "len(orca_score_results)"
   ]
  },
  {
   "cell_type": "code",
   "execution_count": 20,
   "metadata": {},
   "outputs": [
    {
     "data": {
      "text/plain": [
       "0      4.583333\n",
       "1      2.666667\n",
       "2      4.333333\n",
       "3      3.583333\n",
       "4      4.833333\n",
       "         ...   \n",
       "315    4.916667\n",
       "316    3.583333\n",
       "317    4.416667\n",
       "318    4.583333\n",
       "319    2.583333\n",
       "Name: Score, Length: 320, dtype: float64"
      ]
     },
     "execution_count": 20,
     "metadata": {},
     "output_type": "execute_result"
    }
   ],
   "source": [
    "gt['Score']"
   ]
  },
  {
   "cell_type": "code",
   "execution_count": 21,
   "metadata": {},
   "outputs": [
    {
     "data": {
      "text/plain": [
       "0.059550869833880166"
      ]
     },
     "execution_count": 21,
     "metadata": {},
     "output_type": "execute_result"
    }
   ],
   "source": [
    "scipy.stats.kendalltau(orca_score_results, gt['Score'])[0]"
   ]
  },
  {
   "cell_type": "code",
   "execution_count": 15,
   "metadata": {},
   "outputs": [
    {
     "data": {
      "text/plain": [
       "4.000000    167\n",
       "3.000000     72\n",
       "3.333333     21\n",
       "2.000000     20\n",
       "2.666667     12\n",
       "2.333333     12\n",
       "3.666667     10\n",
       "1.000000      6\n",
       "Name: count, dtype: int64"
      ]
     },
     "execution_count": 15,
     "metadata": {},
     "output_type": "execute_result"
    }
   ],
   "source": [
    "pd.Series(wizard_score_results).value_counts()"
   ]
  },
  {
   "cell_type": "code",
   "execution_count": 18,
   "metadata": {},
   "outputs": [
    {
     "data": {
      "text/plain": [
       "0      4.583333\n",
       "1      2.666667\n",
       "2      4.333333\n",
       "3      3.583333\n",
       "4      4.833333\n",
       "         ...   \n",
       "115    4.583333\n",
       "116    4.000000\n",
       "117    4.750000\n",
       "118    4.583333\n",
       "119    4.666667\n",
       "Name: Score, Length: 120, dtype: float64"
      ]
     },
     "execution_count": 18,
     "metadata": {},
     "output_type": "execute_result"
    }
   ],
   "source": [
    "gt_score['Score'][:120]"
   ]
  },
  {
   "cell_type": "code",
   "execution_count": null,
   "metadata": {},
   "outputs": [],
   "source": []
  }
 ],
 "metadata": {
  "kernelspec": {
   "display_name": "Eval4NLP23",
   "language": "python",
   "name": "python3"
  },
  "language_info": {
   "codemirror_mode": {
    "name": "ipython",
    "version": 3
   },
   "file_extension": ".py",
   "mimetype": "text/x-python",
   "name": "python",
   "nbconvert_exporter": "python",
   "pygments_lexer": "ipython3",
   "version": "3.10.12"
  },
  "orig_nbformat": 4
 },
 "nbformat": 4,
 "nbformat_minor": 2
}
