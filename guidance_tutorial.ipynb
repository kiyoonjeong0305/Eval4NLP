{
 "cells": [
  {
   "attachments": {},
   "cell_type": "markdown",
   "metadata": {},
   "source": [
    "# Syntax tutorial\n",
    "\n",
    "This notebook is a terse tutorial walkthrough of the syntax of the `guidance` language (which is based on the Handlebars templating language). It is not complete, but other than the <a href=\"https://guidance.readthedocs.org\">full documentation</a>, it is a good reference."
   ]
  },
  {
   "cell_type": "code",
   "execution_count": 1,
   "metadata": {},
   "outputs": [
    {
     "name": "stderr",
     "output_type": "stream",
     "text": [
      "/opt/conda/envs/Eval4NLP23/lib/python3.10/site-packages/tqdm/auto.py:21: TqdmWarning: IProgress not found. Please update jupyter and ipywidgets. See https://ipywidgets.readthedocs.io/en/stable/user_install.html\n",
      "  from .autonotebook import tqdm as notebook_tqdm\n"
     ]
    }
   ],
   "source": [
    "import sys\n",
    "sys.path.append(\"./src\")\n",
    "from model_dict import *\n",
    "from inference import *\n",
    "import pandas as pd\n",
    "import guidance"
   ]
  },
  {
   "cell_type": "code",
   "execution_count": 2,
   "metadata": {},
   "outputs": [
    {
     "name": "stderr",
     "output_type": "stream",
     "text": [
      "You are using the default legacy behaviour of the <class 'transformers.models.llama.tokenization_llama.LlamaTokenizer'>. If you see this, DO NOT PANIC! This is expected, and simply means that the `legacy` (previous) behavior will be used so nothing changes for you. If you want to use the new behaviour, set `legacy=True`. This should only be set if you understand what it means, and thouroughly read the reason why this was added as explained in https://github.com/huggingface/transformers/pull/24565\n"
     ]
    }
   ],
   "source": [
    "# WizardLM-13B-V1.1-GPTQ\n",
    "# Nous-Hermes-13b\n",
    "# guanaco-65B-GPTQ\n",
    "\n",
    "model_name = 'Nous-Hermes-13b'\n",
    "model_path = f'/Workspace/jh/SharedTask2023/models/{model_name}'\n",
    "\n",
    "model, tokenizer, u_prompt, a_prompt = load_from_catalogue(model_name, model_path, device=\"cuda:1\")"
   ]
  },
  {
   "cell_type": "code",
   "execution_count": 3,
   "metadata": {},
   "outputs": [],
   "source": [
    "g_model = guidance.llms.Transformers(\n",
    "            model, tokenizer=tokenizer, trust_remote_code=True,\n",
    ")\n",
    "guidance.llms.Transformers.cache.clear()"
   ]
  },
  {
   "cell_type": "code",
   "execution_count": 4,
   "metadata": {},
   "outputs": [],
   "source": [
    "# we will use GPT-3 for most of the examples in this tutorial\n",
    "guidance.llm = g_model"
   ]
  },
  {
   "cell_type": "markdown",
   "metadata": {},
   "source": [
    "# ToT test"
   ]
  },
  {
   "cell_type": "code",
   "execution_count": 5,
   "metadata": {},
   "outputs": [],
   "source": [
    "sport_news =  \"\"\"\n",
    "Bayern Munich have signed South Korean centre-back Kim Min-jae from Napoli on a five-year deal.\n",
    "Kim, 26, was an integral member of the Napoli squad that ended a 33-year wait for a Serie A title last season.\n",
    "He was named the best defender in Serie A after making 35 league appearances in his debut campaign in Italy.\n",
    "\"Bayern is a dream for every footballer,\" said Kim, who has 49 international caps. \" I'm really looking forward to what's to come\"\n",
    "\"It's a new beginning for me. I'll continue to develop here. In discussions with the club, it was made clear to me from the start how interested they are in me.\"\n",
    "Thomas Tuchel's Bayern won the Bundesliga on goal difference last season and the former Chelsea boss has been keen to make improvements to his squad with the club linked with Tottenham striker Harry Kane.\n",
    "Bayern reportedly paid a release clause of 50m euros (£43m) to sign Kim.\n",
    "Kim started his career in the third tier of South Korean football, reaching the top-flight and played in the Chinese Super League before making the switch to Europe.\n",
    "He joined Napoli from Turkish side Fenerbahce in the summer of 2022.\n",
    "\"\"\""
   ]
  },
  {
   "cell_type": "code",
   "execution_count": 6,
   "metadata": {},
   "outputs": [],
   "source": [
    "business_news = '''\n",
    "British microchip designing giant Arm has announced it has filed paperwork to sell its shares in the US.\n",
    "\n",
    "The Cambridge-based company, which designs chips for devices from smartphones to game consoles, plans to list on New York's Nasdaq in September.\n",
    "\n",
    "Arm did not reveal the number of shares for sale or the price, but its proposed initial public offering (IPO) could be the biggest listing since late 2021.\n",
    "\n",
    "In March, in a blow to the UK, the firm opted against listing shares in London.\n",
    "\n",
    "On Monday, Arm announced that it had now publicly filed a registration statement relating to a proposed IPO. It said the number of shares to be offered and the price range for them were yet to be determined.\n",
    "\n",
    "But the company is reportedly looking for a valuation of between $60bn (£47bn) to $70bn.\n",
    "\n",
    "Arm was bought in 2016 by Japanese conglomerate Softbank in a deal worth £23.4bn. Prior to the takeover, it was listed in both London and New York for 18 years.\n",
    "\n",
    "Its chip design instructions and technologies are used by manufacturers like the Taiwan Semiconductor Manufacturing Company and technology giants Apple and Samsung to make their own chips.\n",
    "\n",
    "Listing a firm on a stock exchange takes it from being a private firm to a public company, with investors able to buy and sell shares of a company's stock on specific exchanges.\n",
    "\n",
    "Reports previously suggested the firm had sought to raise between $8bn and $10bn through the listing on the technology-heavy Nasdaq platform. Other major technology companies including Google, Apple and Facebook trade on the Nasdaq.\n",
    "'''"
   ]
  },
  {
   "cell_type": "code",
   "execution_count": 7,
   "metadata": {},
   "outputs": [],
   "source": [
    "news_categories = [\n",
    "    \"World\",\n",
    "    \"Business\",\n",
    "    \"Politics\",\n",
    "    \"Health\",\n",
    "    \"Education\",\n",
    "    \"Science\",\n",
    "    \"Technology\",\n",
    "    \"Entertainment\",\n",
    "    \"Arts\",\n",
    "    \"Sports\"\n",
    "]"
   ]
  },
  {
   "cell_type": "code",
   "execution_count": 25,
   "metadata": {},
   "outputs": [],
   "source": [
    "guidance.llm.cache.clear()\n",
    "torch.cuda.empty_cache()"
   ]
  },
  {
   "cell_type": "code",
   "execution_count": null,
   "metadata": {},
   "outputs": [],
   "source": [
    "'''\n",
    "[{{#geneach 'items' num_iterations=3}}\n",
    "        \"{{gen 'this'}}\",{{/geneach}}]\n",
    "        '''"
   ]
  },
  {
   "cell_type": "code",
   "execution_count": 27,
   "metadata": {},
   "outputs": [],
   "source": [
    "guidance.llm.cache.clear()"
   ]
  },
  {
   "cell_type": "code",
   "execution_count": 41,
   "metadata": {},
   "outputs": [
    {
     "data": {
      "text/html": [
       "<div id=\"guidance-stop-button-fc0888c5-5a11-4de0-8073-5e7252ce8623\" style=\"cursor: pointer; margin: 0px; display: none; float: right; padding: 3px; border-radius: 4px 4px 4px 4px; border: 0px solid rgba(127, 127, 127, 1); padding-left: 10px; padding-right: 10px; font-size: 13px; background-color: rgba(127, 127, 127, 0.25);\">Stop program</div><div id=\"guidance-content-fc0888c5-5a11-4de0-8073-5e7252ce8623\"><pre style='margin: 0px; padding: 0px; padding-left: 8px; margin-left: -8px; border-radius: 0px; border-left: 1px solid rgba(127, 127, 127, 0.2); white-space: pre-wrap; font-family: ColfaxAI, Arial; font-size: 15px; line-height: 23px;'> \n",
       "News:<span style='background-color: rgba(0, 138.56128016, 250.76166089, 0.25); display: inline;' title='{{news}}'>\n",
       "British microchip designing giant Arm has announced it has filed paperwork to sell its shares in the US.\n",
       "\n",
       "The Cambridge-based company, which designs chips for devices from smartphones to game consoles, plans to list on New York&#x27;s Nasdaq in September.\n",
       "\n",
       "Arm did not reveal the number of shares for sale or the price, but its proposed initial public offering (IPO) could be the biggest listing since late 2021.\n",
       "\n",
       "In March, in a blow to the UK, the firm opted against listing shares in London.\n",
       "\n",
       "On Monday, Arm announced that it had now publicly filed a registration statement relating to a proposed IPO. It said the number of shares to be offered and the price range for them were yet to be determined.\n",
       "\n",
       "But the company is reportedly looking for a valuation of between $60bn (£47bn) to $70bn.\n",
       "\n",
       "Arm was bought in 2016 by Japanese conglomerate Softbank in a deal worth £23.4bn. Prior to the takeover, it was listed in both London and New York for 18 years.\n",
       "\n",
       "Its chip design instructions and technologies are used by manufacturers like the Taiwan Semiconductor Manufacturing Company and technology giants Apple and Samsung to make their own chips.\n",
       "\n",
       "Listing a firm on a stock exchange takes it from being a private firm to a public company, with investors able to buy and sell shares of a company&#x27;s stock on specific exchanges.\n",
       "\n",
       "Reports previously suggested the firm had sought to raise between $8bn and $10bn through the listing on the technology-heavy Nasdaq platform. Other major technology companies including Google, Apple and Facebook trade on the Nasdaq.\n",
       "</span>\n",
       "Select a category for a given news and create a one-sentence summary of the news.\n",
       "Category: <span style='background-color: rgba(0, 165, 0, 0.25); opacity: 1.0; display: inline;' title='{{select &quot;category&quot; options=options}}'>Business</span>\n",
       "One-sentence-summary:<span style='background-color: rgba(0, 165, 0, 0.25); opacity: 1.0; display: inline;' title='{{gen &quot;summary&quot;}}'> Arm, a British microchip designing giant, has announced it has filed paperwork to sell its shares in the US.</span>\n",
       "\n",
       "Generate a strategy to summarize <span style='background-color: rgba(0, 138.56128016, 250.76166089, 0.25); display: inline;' title='{{category}}'>Business</span> news which has content like &quot;<span style='background-color: rgba(0, 138.56128016, 250.76166089, 0.25); display: inline;' title='{{summary}}'> Arm, a British microchip designing giant, has announced it has filed paperwork to sell its shares in the US.</span>&quot; \n",
       "Strategy: <span style='background-color: rgba(0, 165, 0, 0.25); opacity: 1.0; display: inline;' title='{{gen &quot;strategy&quot; temperature=1 n=3}}'><div style='background: rgba(255, 255, 255, 0.0); border-radius: 4px 0px 0px 4px; border: 1px solid rgba(0, 165, 0, 0.25); border-right: 0px; padding-left: 3px; padding-right: 3px; user-select: none; color: rgba(0, 165, 0, 0.25); display: inline; font-weight: normal; cursor: pointer' onClick='function cycle_c24d369a4ca34232ad14279a42c3764e(button_el) {    var i = 0;    while (i < 50) {        var el = document.getElementById(\"c24d369a4ca34232ad14279a42c3764e_\" + i);        if (el.style.display == \"inline\") {            el.style.display = \"none\";            var next_el = document.getElementById(\"c24d369a4ca34232ad14279a42c3764e_\" + (i+1));            if (!next_el) {                next_el = document.getElementById(\"c24d369a4ca34232ad14279a42c3764e_0\");            }            if (next_el) {                next_el.style.display = \"inline\";            }            break;        }        i += 1;    }    button_el.innerHTML = (((i+1) % 3) + 1)  + \"/\" + 3;}cycle_c24d369a4ca34232ad14279a42c3764e(this);'>1/3</div><div style='display: inline;' id='c24d369a4ca34232ad14279a42c3764e_0'>Describe the company, its significance in the industry, the key developments or reasons that make the news important or interesting.</div><div style='display: none; opacity: 0.5' id='c24d369a4ca34232ad14279a42c3764e_1'>\n",
       "1. Identify the key player: Arm, the British microchip designing giant.\n",
       "2. Identify the action: Filed paperwork to sell shares.\n",
       "3. Identify the location: US.\n",
       "4. Create a concise summary: Arm, a UK microchip designer, has filed paperwork to sell its shares in the US.</div><div style='display: none; opacity: 0.5' id='c24d369a4ca34232ad14279a42c3764e_2'>\n",
       "1. Find the key information in the news such as the company name, its purpose, and the action it has taken. \n",
       "\n",
       "2. Determine the appropriate category for this news which is Business. \n",
       "\n",
       "3. Create a catchy and concise summary that is informative, yet easy to read, by conveying the most essential details while keeping it short and precise. \n",
       "\n",
       "4. Use appropriate vocabulary and sentence structure to convey the information in a clear and accurate manner. \n",
       "\n",
       "5. Double-check the summary to ensure that it accurately reflects the news, and make necessary adjustments if needed.</div></span>\n",
       "<span style='background-color: rgba(0, 138.56128016, 250.76166089, 0.25); display: inline;' title='{{strategy}}'>[&#x27;Describe the company, its significance in the industry, the key developments or reasons that make the news important or interesting.&#x27;, &#x27;\\n1. Identify the key player: Arm, the British microchip designing giant.\\n2. Identify the action: Filed paperwork to sell shares.\\n3. Identify the location: US.\\n4. Create a concise summary: Arm, a UK microchip designer, has filed paperwork to sell its shares in the US.&#x27;, &#x27;\\n1. Find the key information in the news such as the company name, its purpose, and the action it has taken. \\n\\n2. Determine the appropriate category for this news which is Business. \\n\\n3. Create a catchy and concise summary that is informative, yet easy to read, by conveying the most essential details while keeping it short and precise. \\n\\n4. Use appropriate vocabulary and sentence structure to convey the information in a clear and accurate manner. \\n\\n5. Double-check the summary to ensure that it accurately reflects the news, and make necessary adjustments if needed.&#x27;]</span>\n",
       "\n",
       "News:<span style='background-color: rgba(0, 138.56128016, 250.76166089, 0.25); display: inline;' title='{{news}}'>\n",
       "British microchip designing giant Arm has announced it has filed paperwork to sell its shares in the US.\n",
       "\n",
       "The Cambridge-based company, which designs chips for devices from smartphones to game consoles, plans to list on New York&#x27;s Nasdaq in September.\n",
       "\n",
       "Arm did not reveal the number of shares for sale or the price, but its proposed initial public offering (IPO) could be the biggest listing since late 2021.\n",
       "\n",
       "In March, in a blow to the UK, the firm opted against listing shares in London.\n",
       "\n",
       "On Monday, Arm announced that it had now publicly filed a registration statement relating to a proposed IPO. It said the number of shares to be offered and the price range for them were yet to be determined.\n",
       "\n",
       "But the company is reportedly looking for a valuation of between $60bn (£47bn) to $70bn.\n",
       "\n",
       "Arm was bought in 2016 by Japanese conglomerate Softbank in a deal worth £23.4bn. Prior to the takeover, it was listed in both London and New York for 18 years.\n",
       "\n",
       "Its chip design instructions and technologies are used by manufacturers like the Taiwan Semiconductor Manufacturing Company and technology giants Apple and Samsung to make their own chips.\n",
       "\n",
       "Listing a firm on a stock exchange takes it from being a private firm to a public company, with investors able to buy and sell shares of a company&#x27;s stock on specific exchanges.\n",
       "\n",
       "Reports previously suggested the firm had sought to raise between $8bn and $10bn through the listing on the technology-heavy Nasdaq platform. Other major technology companies including Google, Apple and Facebook trade on the Nasdaq.\n",
       "</span>\n",
       "# <span style='opacity: 1.0; display: inline; background-color: rgba(165, 165, 165, 0.1);' title='{{#each strategy}}\n",
       "Summarize the news based on the strategy below.\n",
       "Strategy: {{this}}\n",
       "Summarization: {{gen &#x27;summarization&#x27; list_append=True}}\n",
       "\n",
       "{{/each}}'>\n",
       "Summarize the news based on the strategy below.\n",
       "Strategy: <span style='background-color: rgba(0, 138.56128016, 250.76166089, 0.25); display: inline;' title='{{this}}'>Describe the company, its significance in the industry, the key developments or reasons that make the news important or interesting.</span>\n",
       "Summarization: <span style='background-color: rgba(0, 165, 0, 0.25); opacity: 1.0; display: inline;' title='{{gen &#x27;summarization&#x27; list_append=True}}'>Arm, a British microchip designing giant, has filed paperwork to sell its shares in the US. The company, which designs chips for devices from smartphones to game consoles, plans to list on New York&#x27;s Nasdaq in September. Arm did not reveal the number of shares for sale or the price, but its proposed initial public offering (IPO) could be the biggest listing since late 2021. The firm is reportedly looking for a valuation of between $60bn and $70bn. Arm was bought in 2016 by Japanese conglomerate Softbank in a deal worth £23.4bn. Prior to the takeover, it was listed in both London and New York for 18 years. The listing on the Nasdaq takes the company from being a private firm to a public company, with investors able to buy and sell shares of its stock on specific exchanges.</span>\n",
       "\n",
       "\n",
       "Summarize the news based on the strategy below.\n",
       "Strategy: <span style='background-color: rgba(0, 138.56128016, 250.76166089, 0.25); display: inline;' title='{{this}}'>\n",
       "1. Identify the key player: Arm, the British microchip designing giant.\n",
       "2. Identify the action: Filed paperwork to sell shares.\n",
       "3. Identify the location: US.\n",
       "4. Create a concise summary: Arm, a UK microchip designer, has filed paperwork to sell its shares in the US.</span>\n",
       "Summarization: <span style='background-color: rgba(0, 165, 0, 0.25); opacity: 1.0; display: inline;' title='{{gen &#x27;summarization&#x27; list_append=True}}'>Arm, a British microchip designing giant, has filed paperwork to sell its shares in the US. The company, which designs chips for devices from smartphones to game consoles, plans to list on New York&#x27;s Nasdaq in September. Arm did not reveal the number of shares for sale or the price, but its proposed initial public offering (IPO) could be the biggest listing since late 2021. The firm is reportedly looking for a valuation of between $60bn and $70bn. Arm was bought in 2016 by Japanese conglomerate Softbank in a deal worth £23.4bn. Prior to the takeover, it was listed in both London and New York for 18 years. The listing on the Nasdaq takes the company from being a private firm to a public company, with investors able to buy and sell shares of its stock on specific exchanges.</span>\n",
       "\n",
       "\n",
       "Summarize the news based on the strategy below.\n",
       "Strategy: <span style='background-color: rgba(0, 138.56128016, 250.76166089, 0.25); display: inline;' title='{{this}}'>\n",
       "1. Find the key information in the news such as the company name, its purpose, and the action it has taken. \n",
       "\n",
       "2. Determine the appropriate category for this news which is Business. \n",
       "\n",
       "3. Create a catchy and concise summary that is informative, yet easy to read, by conveying the most essential details while keeping it short and precise. \n",
       "\n",
       "4. Use appropriate vocabulary and sentence structure to convey the information in a clear and accurate manner. \n",
       "\n",
       "5. Double-check the summary to ensure that it accurately reflects the news, and make necessary adjustments if needed.</span>\n",
       "Summarization: <span style='background-color: rgba(0, 165, 0, 0.25); opacity: 1.0; display: inline;' title='{{gen &#x27;summarization&#x27; list_append=True}}'>Arm, a British microchip designing giant, has filed paperwork to sell its shares in the US. The company, which designs chips for devices from smartphones to game consoles, plans to list on New York&#x27;s Nasdaq in September. Arm did not reveal the number of shares for sale or the price, but its proposed initial public offering (IPO) could be the biggest listing since late 2021. The firm is reportedly looking for a valuation of between $60bn and $70bn. Arm was bought in 2016 by Japanese conglomerate Softbank in a deal worth £23.4bn. Prior to the takeover, it was listed in both London and New York</span>\n",
       "\n",
       "</span>\n",
       "<span style='background-color: rgba(0, 138.56128016, 250.76166089, 0.25); display: inline;' title='{{&#x27;summarization&#x27;}}'>summarization</span>\n",
       " </pre></div>\n",
       "<script type=\"text/javascript\">(()=>{var t={296:(t,e,n)=>{var i=NaN,o=\"[object Symbol]\",r=/^\\s+|\\s+$/g,a=/^[-+]0x[0-9a-f]+$/i,s=/^0b[01]+$/i,c=/^0o[0-7]+$/i,d=parseInt,u=\"object\"==typeof n.g&&n.g&&n.g.Object===Object&&n.g,l=\"object\"==typeof self&&self&&self.Object===Object&&self,f=u||l||Function(\"return this\")(),h=Object.prototype.toString,p=Math.max,m=Math.min,g=function(){return f.Date.now()};function b(t){var e=typeof t;return!!t&&(\"object\"==e||\"function\"==e)}function y(t){if(\"number\"==typeof t)return t;if(function(t){return\"symbol\"==typeof t||function(t){return!!t&&\"object\"==typeof t}(t)&&h.call(t)==o}(t))return i;if(b(t)){var e=\"function\"==typeof t.valueOf?t.valueOf():t;t=b(e)?e+\"\":e}if(\"string\"!=typeof t)return 0===t?t:+t;t=t.replace(r,\"\");var n=s.test(t);return n||c.test(t)?d(t.slice(2),n?2:8):a.test(t)?i:+t}t.exports=function(t,e,n){var i,o,r,a,s,c,d=0,u=!1,l=!1,f=!0;if(\"function\"!=typeof t)throw new TypeError(\"Expected a function\");function h(e){var n=i,r=o;return i=o=void 0,d=e,a=t.apply(r,n)}function v(t){var n=t-c;return void 0===c||n>=e||n<0||l&&t-d>=r}function _(){var t=g();if(v(t))return w(t);s=setTimeout(_,function(t){var n=e-(t-c);return l?m(n,r-(t-d)):n}(t))}function w(t){return s=void 0,f&&i?h(t):(i=o=void 0,a)}function j(){var t=g(),n=v(t);if(i=arguments,o=this,c=t,n){if(void 0===s)return function(t){return d=t,s=setTimeout(_,e),u?h(t):a}(c);if(l)return s=setTimeout(_,e),h(c)}return void 0===s&&(s=setTimeout(_,e)),a}return e=y(e)||0,b(n)&&(u=!!n.leading,r=(l=\"maxWait\"in n)?p(y(n.maxWait)||0,e):r,f=\"trailing\"in n?!!n.trailing:f),j.cancel=function(){void 0!==s&&clearTimeout(s),d=0,i=c=o=s=void 0},j.flush=function(){return void 0===s?a:w(g())},j}},777:t=>{var e,n,i=Math.max,o=(e=function(t,e){return function(t,e,n){if(\"function\"!=typeof t)throw new TypeError(\"Expected a function\");return setTimeout((function(){t.apply(void 0,n)}),1)}(t,0,e)},n=i(void 0===n?e.length-1:n,0),function(){for(var t=arguments,o=-1,r=i(t.length-n,0),a=Array(r);++o<r;)a[o]=t[n+o];o=-1;for(var s=Array(n+1);++o<n;)s[o]=t[o];return s[n]=a,function(t,e,n){switch(n.length){case 0:return t.call(e);case 1:return t.call(e,n[0]);case 2:return t.call(e,n[0],n[1]);case 3:return t.call(e,n[0],n[1],n[2])}return t.apply(e,n)}(e,this,s)});t.exports=o}},e={};function n(i){var o=e[i];if(void 0!==o)return o.exports;var r=e[i]={exports:{}};return t[i](r,r.exports,n),r.exports}n.n=t=>{var e=t&&t.__esModule?()=>t.default:()=>t;return n.d(e,{a:e}),e},n.d=(t,e)=>{for(var i in e)n.o(e,i)&&!n.o(t,i)&&Object.defineProperty(t,i,{enumerable:!0,get:e[i]})},n.g=function(){if(\"object\"==typeof globalThis)return globalThis;try{return this||new Function(\"return this\")()}catch(t){if(\"object\"==typeof window)return window}}(),n.o=(t,e)=>Object.prototype.hasOwnProperty.call(t,e),(()=>{\"use strict\";const t=t=>{const e=new Set;do{for(const n of Reflect.ownKeys(t))e.add([t,n])}while((t=Reflect.getPrototypeOf(t))&&t!==Object.prototype);return e};function e(e,{include:n,exclude:i}={}){const o=t=>{const e=e=>\"string\"==typeof e?t===e:e.test(t);return n?n.some(e):!i||!i.some(e)};for(const[n,i]of t(e.constructor.prototype)){if(\"constructor\"===i||!o(i))continue;const t=Reflect.getOwnPropertyDescriptor(n,i);t&&\"function\"==typeof t.value&&(e[i]=e[i].bind(e))}return e}var i=n(777),o=n.n(i),r=n(296),a=n.n(r);class s{constructor(t,n){e(this),this.interfaceId=t,this.callbackMap={},this.data={},this.pendingData={},this.jcomm=new c(\"guidance_interface_target_\"+this.interfaceId,this.updateData,\"open\"),this.debouncedSendPendingData500=a()(this.sendPendingData,500),this.debouncedSendPendingData1000=a()(this.sendPendingData,1e3),n&&o()(n)}send(t,e){this.addPendingData(t,e),this.sendPendingData()}sendEvent(t){for(const e of Object.keys(t))this.addPendingData(e,t[e]);this.sendPendingData()}debouncedSendEvent500(t){for(const e of Object.keys(t))this.addPendingData(e,t[e]);this.debouncedSendPendingData500()}debouncedSend500(t,e){this.addPendingData(t,e),this.debouncedSendPendingData500()}debouncedSend1000(t,e){this.addPendingData(t,e),this.debouncedSendPendingData1000()}addPendingData(t,e){Array.isArray(t)||(t=[t]);for(const n in t)this.pendingData[t[n]]=e}updateData(t){t=JSON.parse(t.data);for(const e in t)this.data[e]=t[e];for(const e in t)e in this.callbackMap&&this.callbackMap[e](this.data[e])}subscribe(t,e){this.callbackMap[t]=e,o()((e=>this.callbackMap[t](this.data[t])))}sendPendingData(){this.jcomm.send_data(this.pendingData),this.pendingData={}}}class c{constructor(t,e,n=\"open\"){this._fire_callback=this._fire_callback.bind(this),this._register=this._register.bind(this),this.jcomm=void 0,this.callback=e,void 0!==window.Jupyter?\"register\"===n?Jupyter.notebook.kernel.comm_manager.register_target(t,this._register):(this.jcomm=Jupyter.notebook.kernel.comm_manager.new_comm(t),this.jcomm.on_msg(this._fire_callback)):void 0!==window._mgr&&(\"register\"===n?window._mgr.widgetManager.proxyKernel.registerCommTarget(t,this._register):(this.jcomm=window._mgr.widgetManager.proxyKernel.createComm(t),this.jcomm.open({},\"\"),this.jcomm.onMsg=this._fire_callback))}send_data(t){void 0!==this.jcomm?this.jcomm.send(t):console.error(\"Jupyter comm module not yet loaded! So we can't send the message.\")}_register(t,e){this.jcomm=t,this.jcomm.on_msg(this._fire_callback)}_fire_callback(t){this.callback(t.content.data)}}class d{constructor(t,n){e(this),this.id=t,this.comm=new s(t),this.comm.subscribe(\"append\",this.appendData),this.comm.subscribe(\"replace\",this.replaceData),this.comm.subscribe(\"event\",this.eventOccurred),this.element=document.getElementById(\"guidance-content-\"+t),this.stop_button=document.getElementById(\"guidance-stop-button-\"+t),this.stop_button.onclick=()=>this.comm.send(\"event\",\"stop\")}appendData(t){t&&(this.stop_button.style.display=\"inline-block\",this.element.innerHTML+=t)}replaceData(t){t&&(this.stop_button.style.display=\"inline-block\",this.element.innerHTML=t)}eventOccurred(t){\"complete\"===t&&(this.stop_button.style.display=\"none\")}}window._guidanceDisplay=function(t,e){return new d(t,e)}})()})();; window._guidanceDisplay(\"fc0888c5-5a11-4de0-8073-5e7252ce8623\");</script>"
      ]
     },
     "metadata": {},
     "output_type": "display_data"
    }
   ],
   "source": [
    "guidance.llm.cache.clear()\n",
    "\n",
    "oneshot_program = guidance('''\n",
    "News:{{news}}\n",
    "Select a category for a given news and create a one-sentence summary of the news.\n",
    "Category: {{select \"category\" options=options}}\n",
    "One-sentence-summary:{{gen \"summary\"}}\n",
    "\n",
    "Generate three strategies to summarize {{category}} news which has content like \"{{summary}}\" \n",
    "Strategy 1: {{gen \"strategy\" list_append=True}}\n",
    "Strategy 2: {{gen \"strategy\" list_append=True}}\n",
    "Strategy 3: {{gen \"strategy\" list_append=True}}\n",
    "\n",
    "{{strategy}}\n",
    "\n",
    "News:{{news}}\n",
    "# {{#each strategy}}\n",
    "Summarize the news based on the strategy below.\n",
    "Strategy: {{this}}\n",
    "Summarization: {{gen 'summarization' list_append=True}}\n",
    "\n",
    "{{/each}}\n",
    "{{'summarization'}}\n",
    "''')\n",
    "\n",
    "executed_program = oneshot_program(news=sport_news, \n",
    "                                   options=news_categories,\n",
    "                                   prompt_placeholder=u_prompt,\n",
    "                                   response_placeholder=a_prompt)()\n",
    "# executed_program()\n",
    "# guidance.llm.cache.clear()\n"
   ]
  },
  {
   "cell_type": "code",
   "execution_count": 42,
   "metadata": {},
   "outputs": [
    {
     "data": {
      "text/plain": [
       "{'llm': <guidance.llms._transformers.Transformers at 0x7fa3282eaef0>,\n",
       " 'logging': False,\n",
       " 'news': \"\\nBritish microchip designing giant Arm has announced it has filed paperwork to sell its shares in the US.\\n\\nThe Cambridge-based company, which designs chips for devices from smartphones to game consoles, plans to list on New York's Nasdaq in September.\\n\\nArm did not reveal the number of shares for sale or the price, but its proposed initial public offering (IPO) could be the biggest listing since late 2021.\\n\\nIn March, in a blow to the UK, the firm opted against listing shares in London.\\n\\nOn Monday, Arm announced that it had now publicly filed a registration statement relating to a proposed IPO. It said the number of shares to be offered and the price range for them were yet to be determined.\\n\\nBut the company is reportedly looking for a valuation of between $60bn (£47bn) to $70bn.\\n\\nArm was bought in 2016 by Japanese conglomerate Softbank in a deal worth £23.4bn. Prior to the takeover, it was listed in both London and New York for 18 years.\\n\\nIts chip design instructions and technologies are used by manufacturers like the Taiwan Semiconductor Manufacturing Company and technology giants Apple and Samsung to make their own chips.\\n\\nListing a firm on a stock exchange takes it from being a private firm to a public company, with investors able to buy and sell shares of a company's stock on specific exchanges.\\n\\nReports previously suggested the firm had sought to raise between $8bn and $10bn through the listing on the technology-heavy Nasdaq platform. Other major technology companies including Google, Apple and Facebook trade on the Nasdaq.\\n\",\n",
       " 'options': ['World',\n",
       "  'Business',\n",
       "  'Politics',\n",
       "  'Health',\n",
       "  'Education',\n",
       "  'Science',\n",
       "  'Technology',\n",
       "  'Entertainment',\n",
       "  'Arts',\n",
       "  'Sports'],\n",
       " '@raw_prefix': '\\nNews:{{!--GMARKER_START_variable_ref$&#123;&#123;news&#125;&#125;$--}}\\nBritish microchip designing giant Arm has announced it has filed paperwork to sell its shares in the US.\\n\\nThe Cambridge-based company, which designs chips for devices from smartphones to game consoles, plans to list on New York\\'s Nasdaq in September.\\n\\nArm did not reveal the number of shares for sale or the price, but its proposed initial public offering (IPO) could be the biggest listing since late 2021.\\n\\nIn March, in a blow to the UK, the firm opted against listing shares in London.\\n\\nOn Monday, Arm announced that it had now publicly filed a registration statement relating to a proposed IPO. It said the number of shares to be offered and the price range for them were yet to be determined.\\n\\nBut the company is reportedly looking for a valuation of between $60bn (£47bn) to $70bn.\\n\\nArm was bought in 2016 by Japanese conglomerate Softbank in a deal worth £23.4bn. Prior to the takeover, it was listed in both London and New York for 18 years.\\n\\nIts chip design instructions and technologies are used by manufacturers like the Taiwan Semiconductor Manufacturing Company and technology giants Apple and Samsung to make their own chips.\\n\\nListing a firm on a stock exchange takes it from being a private firm to a public company, with investors able to buy and sell shares of a company\\'s stock on specific exchanges.\\n\\nReports previously suggested the firm had sought to raise between $8bn and $10bn through the listing on the technology-heavy Nasdaq platform. Other major technology companies including Google, Apple and Facebook trade on the Nasdaq.\\n{{!--GMARKER_END_variable_ref$$--}}\\nSelect a category for a given news and create a one-sentence summary of the news.\\nCategory: {{!--GMARKER_START_select$&#123;&#123;select \"category\" options=options&#125;&#125;$--}}Business{{!--GMARKER_END_select$$--}}\\nOne-sentence-summary:{{!--GMARKER_START_gen$&#123;&#123;gen \"summary\"&#125;&#125;$--}} Arm, a British microchip designing giant, has announced it has filed paperwork to sell its shares in the US.{{!--GMARKER_END_gen$$--}}\\n\\nGenerate a strategy to summarize {{!--GMARKER_START_variable_ref$&#123;&#123;category&#125;&#125;$--}}Business{{!--GMARKER_END_variable_ref$$--}} news which has content like \"{{!--GMARKER_START_variable_ref$&#123;&#123;summary&#125;&#125;$--}} Arm, a British microchip designing giant, has announced it has filed paperwork to sell its shares in the US.{{!--GMARKER_END_variable_ref$$--}}\" \\nStrategy: {{!--GMARKER_START_gen$&#123;&#123;gen \"strategy\" temperature=1 n=3&#125;&#125;$--}}{{!--GMARKERmany_generate_start_True_3$c24d369a4ca34232ad14279a42c3764e$--}}Describe the company, its significance in the industry, the key developments or reasons that make the news important or interesting.{{!--GMARKERmany_generate_True_1$c24d369a4ca34232ad14279a42c3764e$--}}{{!--G \\n1. Identify the key player: Arm, the British microchip designing giant.\\n2. Identify the action: Filed paperwork to sell shares.\\n3. Identify the location: US.\\n4. Create a concise summary: Arm, a UK microchip designer, has filed paperwork to sell its shares in the US.--}}{{!--GMARKERmany_generate_True_2$c24d369a4ca34232ad14279a42c3764e$--}}{{!--G \\n1. Find the key information in the news such as the company name, its purpose, and the action it has taken. \\n\\n2. Determine the appropriate category for this news which is Business. \\n\\n3. Create a catchy and concise summary that is informative, yet easy to read, by conveying the most essential details while keeping it short and precise. \\n\\n4. Use appropriate vocabulary and sentence structure to convey the information in a clear and accurate manner. \\n\\n5. Double-check the summary to ensure that it accurately reflects the news, and make necessary adjustments if needed.--}}{{!--GMARKERmany_generate_end$c24d369a4ca34232ad14279a42c3764e$--}}{{!--GMARKER_END_gen$$--}}\\n{{!--GMARKER_START_variable_ref$&#123;&#123;strategy&#125;&#125;$--}}[\\'Describe the company, its significance in the industry, the key developments or reasons that make the news important or interesting.\\', \\'\\\\n1. Identify the key player: Arm, the British microchip designing giant.\\\\n2. Identify the action: Filed paperwork to sell shares.\\\\n3. Identify the location: US.\\\\n4. Create a concise summary: Arm, a UK microchip designer, has filed paperwork to sell its shares in the US.\\', \\'\\\\n1. Find the key information in the news such as the company name, its purpose, and the action it has taken. \\\\n\\\\n2. Determine the appropriate category for this news which is Business. \\\\n\\\\n3. Create a catchy and concise summary that is informative, yet easy to read, by conveying the most essential details while keeping it short and precise. \\\\n\\\\n4. Use appropriate vocabulary and sentence structure to convey the information in a clear and accurate manner. \\\\n\\\\n5. Double-check the summary to ensure that it accurately reflects the news, and make necessary adjustments if needed.\\']{{!--GMARKER_END_variable_ref$$--}}\\n\\nNews:{{!--GMARKER_START_variable_ref$&#123;&#123;news&#125;&#125;$--}}\\nBritish microchip designing giant Arm has announced it has filed paperwork to sell its shares in the US.\\n\\nThe Cambridge-based company, which designs chips for devices from smartphones to game consoles, plans to list on New York\\'s Nasdaq in September.\\n\\nArm did not reveal the number of shares for sale or the price, but its proposed initial public offering (IPO) could be the biggest listing since late 2021.\\n\\nIn March, in a blow to the UK, the firm opted against listing shares in London.\\n\\nOn Monday, Arm announced that it had now publicly filed a registration statement relating to a proposed IPO. It said the number of shares to be offered and the price range for them were yet to be determined.\\n\\nBut the company is reportedly looking for a valuation of between $60bn (£47bn) to $70bn.\\n\\nArm was bought in 2016 by Japanese conglomerate Softbank in a deal worth £23.4bn. Prior to the takeover, it was listed in both London and New York for 18 years.\\n\\nIts chip design instructions and technologies are used by manufacturers like the Taiwan Semiconductor Manufacturing Company and technology giants Apple and Samsung to make their own chips.\\n\\nListing a firm on a stock exchange takes it from being a private firm to a public company, with investors able to buy and sell shares of a company\\'s stock on specific exchanges.\\n\\nReports previously suggested the firm had sought to raise between $8bn and $10bn through the listing on the technology-heavy Nasdaq platform. Other major technology companies including Google, Apple and Facebook trade on the Nasdaq.\\n{{!--GMARKER_END_variable_ref$$--}}\\n# {{!--GMARKER_START_each$&#123;&#123;#each strategy&#125;&#125;\\nSummarize the news based on the strategy below.\\nStrategy: &#123;&#123;this&#125;&#125;\\nSummarization: &#123;&#123;gen \\'summarization\\' list_append=True&#125;&#125;\\n\\n&#123;&#123;/each&#125;&#125;$--}}\\nSummarize the news based on the strategy below.\\nStrategy: {{!--GMARKER_START_variable_ref$&#123;&#123;this&#125;&#125;$--}}Describe the company, its significance in the industry, the key developments or reasons that make the news important or interesting.{{!--GMARKER_END_variable_ref$$--}}\\nSummarization: {{!--GMARKER_START_gen$&#123;&#123;gen \\'summarization\\' list_append=True&#125;&#125;$--}}Arm, a British microchip designing giant, has filed paperwork to sell its shares in the US. The company, which designs chips for devices from smartphones to game consoles, plans to list on New York\\'s Nasdaq in September. Arm did not reveal the number of shares for sale or the price, but its proposed initial public offering (IPO) could be the biggest listing since late 2021. The firm is reportedly looking for a valuation of between $60bn and $70bn. Arm was bought in 2016 by Japanese conglomerate Softbank in a deal worth £23.4bn. Prior to the takeover, it was listed in both London and New York for 18 years. The listing on the Nasdaq takes the company from being a private firm to a public company, with investors able to buy and sell shares of its stock on specific exchanges.{{!--GMARKER_END_gen$$--}}\\n\\n\\nSummarize the news based on the strategy below.\\nStrategy: {{!--GMARKER_START_variable_ref$&#123;&#123;this&#125;&#125;$--}}\\n1. Identify the key player: Arm, the British microchip designing giant.\\n2. Identify the action: Filed paperwork to sell shares.\\n3. Identify the location: US.\\n4. Create a concise summary: Arm, a UK microchip designer, has filed paperwork to sell its shares in the US.{{!--GMARKER_END_variable_ref$$--}}\\nSummarization: {{!--GMARKER_START_gen$&#123;&#123;gen \\'summarization\\' list_append=True&#125;&#125;$--}}Arm, a British microchip designing giant, has filed paperwork to sell its shares in the US. The company, which designs chips for devices from smartphones to game consoles, plans to list on New York\\'s Nasdaq in September. Arm did not reveal the number of shares for sale or the price, but its proposed initial public offering (IPO) could be the biggest listing since late 2021. The firm is reportedly looking for a valuation of between $60bn and $70bn. Arm was bought in 2016 by Japanese conglomerate Softbank in a deal worth £23.4bn. Prior to the takeover, it was listed in both London and New York for 18 years. The listing on the Nasdaq takes the company from being a private firm to a public company, with investors able to buy and sell shares of its stock on specific exchanges.{{!--GMARKER_END_gen$$--}}\\n\\n\\nSummarize the news based on the strategy below.\\nStrategy: {{!--GMARKER_START_variable_ref$&#123;&#123;this&#125;&#125;$--}}\\n1. Find the key information in the news such as the company name, its purpose, and the action it has taken. \\n\\n2. Determine the appropriate category for this news which is Business. \\n\\n3. Create a catchy and concise summary that is informative, yet easy to read, by conveying the most essential details while keeping it short and precise. \\n\\n4. Use appropriate vocabulary and sentence structure to convey the information in a clear and accurate manner. \\n\\n5. Double-check the summary to ensure that it accurately reflects the news, and make necessary adjustments if needed.{{!--GMARKER_END_variable_ref$$--}}\\nSummarization: {{!--GMARKER_START_gen$&#123;&#123;gen \\'summarization\\' list_append=True&#125;&#125;$--}}Arm, a British microchip designing giant, has filed paperwork to sell its shares in the US. The company, which designs chips for devices from smartphones to game consoles, plans to list on New York\\'s Nasdaq in September. Arm did not reveal the number of shares for sale or the price, but its proposed initial public offering (IPO) could be the biggest listing since late 2021. The firm is reportedly looking for a valuation of between $60bn and $70bn. Arm was bought in 2016 by Japanese conglomerate Softbank in a deal worth £23.4bn. Prior to the takeover, it was listed in both London and New York{{!--GMARKER_END_gen$$--}}\\n\\n{{!--GMARKER_END_each$$--}}\\n{{!--GMARKER_START_string_literal$&#123;&#123;\\'summarization\\'&#125;&#125;$--}}summarization{{!--GMARKER_END_string_literal$$--}}\\n',\n",
       " 'category': 'Business',\n",
       " 'summary': ' Arm, a British microchip designing giant, has announced it has filed paperwork to sell its shares in the US.',\n",
       " 'strategy': ['Describe the company, its significance in the industry, the key developments or reasons that make the news important or interesting.',\n",
       "  '\\n1. Identify the key player: Arm, the British microchip designing giant.\\n2. Identify the action: Filed paperwork to sell shares.\\n3. Identify the location: US.\\n4. Create a concise summary: Arm, a UK microchip designer, has filed paperwork to sell its shares in the US.',\n",
       "  '\\n1. Find the key information in the news such as the company name, its purpose, and the action it has taken. \\n\\n2. Determine the appropriate category for this news which is Business. \\n\\n3. Create a catchy and concise summary that is informative, yet easy to read, by conveying the most essential details while keeping it short and precise. \\n\\n4. Use appropriate vocabulary and sentence structure to convey the information in a clear and accurate manner. \\n\\n5. Double-check the summary to ensure that it accurately reflects the news, and make necessary adjustments if needed.'],\n",
       " 'summarization': [\"Arm, a British microchip designing giant, has filed paperwork to sell its shares in the US. The company, which designs chips for devices from smartphones to game consoles, plans to list on New York's Nasdaq in September. Arm did not reveal the number of shares for sale or the price, but its proposed initial public offering (IPO) could be the biggest listing since late 2021. The firm is reportedly looking for a valuation of between $60bn and $70bn. Arm was bought in 2016 by Japanese conglomerate Softbank in a deal worth £23.4bn. Prior to the takeover, it was listed in both London and New York for 18 years. The listing on the Nasdaq takes the company from being a private firm to a public company, with investors able to buy and sell shares of its stock on specific exchanges.\",\n",
       "  \"Arm, a British microchip designing giant, has filed paperwork to sell its shares in the US. The company, which designs chips for devices from smartphones to game consoles, plans to list on New York's Nasdaq in September. Arm did not reveal the number of shares for sale or the price, but its proposed initial public offering (IPO) could be the biggest listing since late 2021. The firm is reportedly looking for a valuation of between $60bn and $70bn. Arm was bought in 2016 by Japanese conglomerate Softbank in a deal worth £23.4bn. Prior to the takeover, it was listed in both London and New York for 18 years. The listing on the Nasdaq takes the company from being a private firm to a public company, with investors able to buy and sell shares of its stock on specific exchanges.\",\n",
       "  \"Arm, a British microchip designing giant, has filed paperwork to sell its shares in the US. The company, which designs chips for devices from smartphones to game consoles, plans to list on New York's Nasdaq in September. Arm did not reveal the number of shares for sale or the price, but its proposed initial public offering (IPO) could be the biggest listing since late 2021. The firm is reportedly looking for a valuation of between $60bn and $70bn. Arm was bought in 2016 by Japanese conglomerate Softbank in a deal worth £23.4bn. Prior to the takeover, it was listed in both London and New York\"]}"
      ]
     },
     "execution_count": 42,
     "metadata": {},
     "output_type": "execute_result"
    }
   ],
   "source": [
    "executed_program.variables()"
   ]
  },
  {
   "cell_type": "code",
   "execution_count": null,
   "metadata": {},
   "outputs": [],
   "source": [
    "# by putting an `await` inside a `geneach` loop you can create agents that consume some\n",
    "# varable, then do something and then wait for more content\n",
    "program = guidance('''\n",
    "{{#system~}}\n",
    "You are a helpful assistant\n",
    "{{~/system}}\n",
    "\n",
    "{{~#geneach 'conversation' stop=False}}\n",
    "{{#user~}}\n",
    "{{set 'this.user_text' (await 'user_text')}}\n",
    "{{~/user}}\n",
    "\n",
    "{{#assistant~}}\n",
    "{{gen 'this.ai_text' temperature=0 max_tokens=300}}\n",
    "{{~/assistant}}\n",
    "{{~/geneach}}''')\n",
    "program = program(user_text ='hi there')"
   ]
  },
  {
   "cell_type": "code",
   "execution_count": null,
   "metadata": {},
   "outputs": [],
   "source": [
    "strategy_objective = 'Generate a strategy to summarize {{category}} news which has content like \"{{summary}}\"'\n",
    "strategy_program = guidance('''\n",
    "News:{{news}}\n",
    "Select a category for a given news and create a one-sentence summary of the news.\n",
    "Category: {{select \"category\" options=options}}\n",
    "One-sentence-summary:{{gen \"summary\"}}\n",
    "\n",
    "{{strategy_objective}}\n",
    "Strategy: {{gen \"strategies\" n=5 temperature=0.7}}\n",
    "''')\n",
    "\n",
    "\n",
    "executed_program = strategy_program(news=news, strategy_objective=strategy_objective, options=options)"
   ]
  },
  {
   "cell_type": "code",
   "execution_count": null,
   "metadata": {},
   "outputs": [],
   "source": [
    "strategy_objective = 'Generate a strategy to summarize {{category}} news which has content like \"{{summary}}\"'\n",
    "strategy_program = guidance('''\n",
    "News:{{news}}\n",
    "Select a category for a given news and create a one-sentence summary of the news.\n",
    "Category: {{select \"category\" options=options}}\n",
    "One-sentence-summary:{{gen \"summary\"}}\n",
    "\n",
    "{{strategy_objective}}\n",
    "Strategy: {{gen \"strategies\" n=5 temperature=0.7}}\n",
    "''')\n",
    "\n",
    "\n",
    "executed_program = strategy_program(news=news, strategy_objective=strategy_objective, options=options)\n"
   ]
  },
  {
   "cell_type": "code",
   "execution_count": null,
   "metadata": {},
   "outputs": [],
   "source": [
    "evaluation_objective = 'Score pessimistically the input based on the objective on a continuous scale from 0 to 10, where a score of zero means\\\n",
    "irrelevant, factually incorrect and not readable\" and score of ten means\\\n",
    "relevant, factually correct, good readability.'\n",
    "# evaluation_objective = 'Score pessimistically the input based on the objective on a continuous scale from 0 to 100, where a score of zero means\\\n",
    "# irrelevant, factually incorrect and not readable\" and score of one hundred means\\\n",
    "# relevant, factually correct, good readability.'\n",
    "evaluation_program = guidance('''\n",
    "Objective: {{evaluation_objective}}\n",
    "Input: {{input}}\n",
    "Score: {{gen 'score' pattern='(10|[0-9])'}}\n",
    "''')"
   ]
  },
  {
   "cell_type": "code",
   "execution_count": null,
   "metadata": {},
   "outputs": [],
   "source": [
    "total_score = []\n",
    "for strategy in executed_program[\"strategies\"]:\n",
    "    executed_eval_program = evaluation_program(input=strategy, evaluation_objective=evaluation_objective)\n",
    "    total_score.append(executed_eval_program['score'])\n",
    "    guidance.llm.cache.clear()"
   ]
  },
  {
   "cell_type": "code",
   "execution_count": null,
   "metadata": {},
   "outputs": [],
   "source": [
    "total_score"
   ]
  },
  {
   "cell_type": "code",
   "execution_count": null,
   "metadata": {},
   "outputs": [],
   "source": [
    "program = guidance('''\n",
    "News:{{news}}\n",
    "Select a category for a given news and create a one-sentence summary of the news.\n",
    "Category: {{select \"category\" options=options}}\n",
    "One-sentence-summary:{{gen \"summary\"}}\n",
    "\n",
    "Generate a strategy to summarize {{category}} news which has content like \"{{summary}}\" \n",
    "Strategy: {{gen \"strategy\" temperature=0.7 n=3}}\n",
    "\n",
    "News:{{news}}\n",
    "{{#each strategy}}\n",
    "Summarize the news based on the strategy below.\n",
    "Strategy: {{this}}\n",
    "Summarization: {{gen 'summarization'}}\n",
    "\n",
    "{{/each}}\n",
    "\n",
    "''')\n",
    "\n",
    "executed_program = program(news=news, options=options)"
   ]
  },
  {
   "cell_type": "code",
   "execution_count": null,
   "metadata": {},
   "outputs": [],
   "source": [
    "executed_program['summarization']"
   ]
  },
  {
   "cell_type": "code",
   "execution_count": null,
   "metadata": {},
   "outputs": [],
   "source": [
    "program = guidance('''\n",
    "News:{{news}}\n",
    "Select a category for a given news and create a one-sentence summary of the news.\n",
    "Category: {{select \"category\" options=options}}\n",
    "One-sentence-summary:{{gen \"summary\"}}\n",
    "\n",
    "Generate a strategy to summarize {{category}} news which has content like \"{{summary}}\" \n",
    "Strategy: {{gen \"strategy\" temperature=0.7 n=3}}\n",
    "\n",
    "{{#each strategy}}Strategy: {{this}}\n",
    "Score the strategy based on how appropriate it is to summarize {{category}} news which has content like \"{{summary}}\"\n",
    "Score: {{gen 'score' pattern='(100|[1-9]?[0-9])'}}\n",
    "\n",
    "{{/each}}\n",
    "\n",
    "''')\n",
    "\n",
    "executed_program = program(news=news, options=options, silent=True)"
   ]
  },
  {
   "cell_type": "code",
   "execution_count": null,
   "metadata": {},
   "outputs": [],
   "source": [
    "# it is often useful to execute a part of the program, but then not include that part in later context\n",
    "# given to the language model. This can be done using the hidden=True argument. Several commands support\n",
    "# hidden=True, but here we use the {{#block}} command (which is just a generic block command that does\n",
    "# nothing other than what the arguments you pass to it do)\n",
    "program = guidance('''Based on the category and facts of a given news story, generate summary approache to summarize the news in a brief but compelling way:\n",
    "{{#block hidden=True}}{{news}}{{/block}}\n",
    "Strategies:{{gen \"strategies\" temperature=1 n=3}}\n",
    "I will show you a news and three straties for summarizing the news, and you should score each of them on a continuous scale from 0 to 100\n",
    "focusing on how appropriate it is for making brief and informative summarization and call them score_1, score_2 and score_3.\n",
    "News: {{news}}.\n",
    "Strategies: {{strategies}}\n",
    "\n",
    "''')\n",
    "\n",
    "executed_program = program(news=news)"
   ]
  },
  {
   "cell_type": "code",
   "execution_count": null,
   "metadata": {},
   "outputs": [],
   "source": [
    "executed_program['logprobs']"
   ]
  },
  {
   "attachments": {},
   "cell_type": "markdown",
   "metadata": {},
   "source": [
    "Silent execution"
   ]
  },
  {
   "cell_type": "code",
   "execution_count": null,
   "metadata": {},
   "outputs": [],
   "source": [
    "# if you want to run a program without displaying the output, you can use the silent=True argument\n",
    "executed_program = program(email='I hate tacos', silent=True)\n",
    "executed_program['answer']"
   ]
  },
  {
   "attachments": {},
   "cell_type": "markdown",
   "metadata": {},
   "source": [
    "Generating with `n>1`"
   ]
  },
  {
   "cell_type": "code",
   "execution_count": null,
   "metadata": {},
   "outputs": [],
   "source": [
    "# the {{gen}} command the n=number argument to generate multiple completions\n",
    "# only the first completion is used for future context, but the variable set\n",
    "# by the command is a list of all the completions, and you can interactively\n",
    "# click through each completion in the notebook visualization\n",
    "program = guidance('''The best thing about the beach is{{gen 'best' n=3 temperature=0.7 max_tokens=7}}''')\n",
    "executed_program = program()"
   ]
  },
  {
   "cell_type": "code",
   "execution_count": null,
   "metadata": {},
   "outputs": [],
   "source": [
    "executed_program[\"best\"]"
   ]
  },
  {
   "attachments": {},
   "cell_type": "markdown",
   "metadata": {},
   "source": [
    "Calling custom user defined functions"
   ]
  },
  {
   "cell_type": "code",
   "execution_count": null,
   "metadata": {},
   "outputs": [],
   "source": [
    "# all the built in commands are functions from guidance.library.* but you can also pass in your own functions\n",
    "def aggregate(best):\n",
    "    return '\\n'.join(['- ' + x for x in best])\n",
    "\n",
    "# note that we use hidden=True to prevent the {{gen}} command from being included in the output, and instead\n",
    "# just use the variable it sets as an input to the aggregate function\n",
    "program = guidance('''The best thing about the beach is{{gen 'best' n=3 temperature=0.7 max_tokens=7 hidden=True}}\n",
    "{{aggregate best}}''')\n",
    "executed_program = program(aggregate=aggregate)"
   ]
  },
  {
   "attachments": {},
   "cell_type": "markdown",
   "metadata": {},
   "source": [
    "Await"
   ]
  },
  {
   "cell_type": "code",
   "execution_count": null,
   "metadata": {},
   "outputs": [],
   "source": [
    "# sometimes you want to partially execute a program, the `await` command allows you to do this\n",
    "# it awaits a variable and then consumes that variables (so after the await command the variable)\n",
    "prompt = guidance('''Generate a response to the following email:\n",
    "{{email}}.\n",
    "Response:{{gen \"response\"}}\n",
    "{{await 'instruction'}}\n",
    "{{gen 'updated_response'}}''', stream=True)\n",
    "\n",
    "# note how the executed program is only partially executed, it stops at the await command\n",
    "# because the instruction variable is not yet set\n",
    "prompt = prompt(email='Hello there')\n"
   ]
  },
  {
   "cell_type": "code",
   "execution_count": null,
   "metadata": {},
   "outputs": [],
   "source": [
    "prompt2 = prompt(instruction='Please translate the response above to Portuguese.')\n",
    "prompt2"
   ]
  },
  {
   "cell_type": "code",
   "execution_count": null,
   "metadata": {},
   "outputs": [],
   "source": [
    "prompt2 = prompt(instruction='Please translate the response above to Chinese.')\n",
    "prompt2"
   ]
  },
  {
   "attachments": {},
   "cell_type": "markdown",
   "metadata": {},
   "source": [
    "## Chat"
   ]
  },
  {
   "cell_type": "code",
   "execution_count": null,
   "metadata": {},
   "outputs": [],
   "source": [
    "# to use role based chat tags you need a chat model, here we use gpt-3.5-turbo but you can use 'gpt-4' as well\n",
    "guidance.llm = guidance.llms.OpenAI(\"gpt-3.5-turbo\")"
   ]
  },
  {
   "cell_type": "code",
   "execution_count": null,
   "metadata": {},
   "outputs": [],
   "source": [
    "# note that we enclose all of the text in one of the valid role tags for the model\n",
    "# `system`, `user`, and `assistant` are just shorthand for {{#role name=\"system\"}}...{{/role}}\n",
    "# the whitepace outside the role tags is ignored by gpt-4, the whitespace inside the role tags is not\n",
    "# so we use the ~ to remove the whitespace we don't want to give to the model (but want to keep in the code for clarity)\n",
    "program = guidance('''\n",
    "{{#system~}}\n",
    "You are a helpful assistant.\n",
    "{{~/system}}\n",
    "\n",
    "{{#user~}}\n",
    "{{conversation_question}}\n",
    "{{~/user}}\n",
    "\n",
    "{{! this is a comment. note that we don't have to use a stop=\"stop_string\" for the gen command below because Guidance infers the stop string from the role tag }}\n",
    "{{#assistant~}}\n",
    "{{gen 'response'}}\n",
    "{{~/assistant}}''')\n",
    "\n",
    "executed_program = program(conversation_question='What is the meaning of life?')"
   ]
  },
  {
   "attachments": {},
   "cell_type": "markdown",
   "metadata": {},
   "source": [
    "Multistep"
   ]
  },
  {
   "cell_type": "code",
   "execution_count": null,
   "metadata": {},
   "outputs": [],
   "source": [
    "# you can create and guide multi-turn conversations by using a series of role tags\n",
    "experts = guidance('''\n",
    "{{#system~}}\n",
    "You are a helpful assistant.\n",
    "{{~/system}}\n",
    "\n",
    "{{#user~}}\n",
    "I want a response to the following question:\n",
    "{{query}}\n",
    "Who are 3 world-class experts (past or present) who would be great at answering this?\n",
    "Please don't answer the question or comment on it yet.\n",
    "{{~/user}}\n",
    "\n",
    "{{#assistant~}}\n",
    "{{gen 'experts' temperature=0 max_tokens=300}}\n",
    "{{~/assistant}}\n",
    "\n",
    "{{#user~}}\n",
    "Great, now please answer the question as if these experts had collaborated in writing a joint anonymous answer.\n",
    "In other words, their identity is not revealed, nor is the fact that there is a panel of experts answering the question.\n",
    "If the experts would disagree, just present their different positions as alternatives in the answer itself (e.g. 'some might argue... others might argue...').\n",
    "Please start your answer with ANSWER:\n",
    "{{~/user}}\n",
    "\n",
    "{{#assistant~}}\n",
    "{{gen 'answer' temperature=0 max_tokens=500}}\n",
    "{{~/assistant}}''')\n",
    "                   \n",
    "experts(query='What is the meaning of life?')"
   ]
  },
  {
   "attachments": {},
   "cell_type": "markdown",
   "metadata": {},
   "source": [
    "With hidden"
   ]
  },
  {
   "cell_type": "code",
   "execution_count": null,
   "metadata": {},
   "outputs": [],
   "source": [
    "# if you want the model to have some inner dialog but then not include that dialog\n",
    "# in the context of later generations, you can use the {{#block}} command with hidden=True\n",
    "program = guidance('''\n",
    "{{#system~}}\n",
    "You are a helpful assistant.\n",
    "{{~/system}}\n",
    "\n",
    "{{#block hidden=True}}\n",
    "{{#user~}}\n",
    "Please tell me a joke\n",
    "{{~/user}}\n",
    "\n",
    "{{! note that we don't have guidance controls inside the assistant role because\n",
    "    the OpenAI API does not yet support that (Transformers chat models do) }}\n",
    "{{#assistant~}}\n",
    "{{gen 'joke'}}\n",
    "{{~/assistant}}\n",
    "{{~/block~}}\n",
    "\n",
    "{{#user~}}\n",
    "Is the following joke funny? Why or why not?\n",
    "{{joke}}\n",
    "{{~/user}}\n",
    "\n",
    "{{#assistant~}}\n",
    "{{gen 'funny'}}\n",
    "{{~/assistant}}''')\n",
    "program()\n"
   ]
  },
  {
   "attachments": {},
   "cell_type": "markdown",
   "metadata": {},
   "source": [
    "Agents"
   ]
  },
  {
   "cell_type": "code",
   "execution_count": null,
   "metadata": {},
   "outputs": [],
   "source": [
    "# by putting an `await` inside a `geneach` loop you can create agents that consume some\n",
    "# varable, then do something and then wait for more content\n",
    "program = guidance('''\n",
    "{{#system~}}\n",
    "You are a helpful assistant\n",
    "{{~/system}}\n",
    "\n",
    "{{~#geneach 'conversation' stop=False}}\n",
    "{{#user~}}\n",
    "{{set 'this.user_text' (await 'user_text')}}\n",
    "{{~/user}}\n",
    "\n",
    "{{#assistant~}}\n",
    "{{gen 'this.ai_text' temperature=0 max_tokens=300}}\n",
    "{{~/assistant}}\n",
    "{{~/geneach}}''')\n",
    "program = program(user_text ='hi there')"
   ]
  },
  {
   "cell_type": "code",
   "execution_count": null,
   "metadata": {},
   "outputs": [],
   "source": [
    "# as we go through the loop we build up a conversation variable that contains the history of the conversation\n",
    "# note that the last entry in the conversation variable is empty because the `await` call happens before any\n",
    "# content is added to the `this` variable that represents the current item in the geneach loop\n",
    "program['conversation']"
   ]
  },
  {
   "cell_type": "code",
   "execution_count": null,
   "metadata": {},
   "outputs": [],
   "source": [
    "# here we call the agent again and the loop continues, in this case building out a conversation\n",
    "program = program(user_text = 'What is the meaning of life?')"
   ]
  },
  {
   "cell_type": "code",
   "execution_count": null,
   "metadata": {},
   "outputs": [],
   "source": [
    "program['conversation']"
   ]
  },
  {
   "attachments": {},
   "cell_type": "markdown",
   "metadata": {},
   "source": [
    "Using tools\n",
    "\n",
    "The example below uses a search engine (or a mock of one) to answer user questions. The whole system is defined in a single `guidance` program, but you could also break it into multiple programs and `await` external calls if you don't want the guidance program to control the whole process."
   ]
  },
  {
   "cell_type": "code",
   "execution_count": null,
   "metadata": {},
   "outputs": [],
   "source": [
    "def is_search(completion):\n",
    "    return '<search>' in completion\n",
    "\n",
    "def search(query):\n",
    "    # Fake search results\n",
    "    return [{'title': 'How do I cancel a Subscription? | Facebook Help Center',\n",
    "        'snippet': \"To stop a monthly Subscription to a creator: Go to the creator's Facebook Page using the latest version of the Facebook app for iOS, Android or from a computer. Select Go to Supporter Hub. Select . Select Manage Subscription to go to the iTunes or Google Play Store and cancel your subscription. Cancel your Subscription at least 24 hours before ...\"},\n",
    "        {'title': 'News | FACEBOOK Stock Price Today | Analyst Opinions - Insider',\n",
    "        'snippet': 'Stock | News | FACEBOOK Stock Price Today | Analyst Opinions | Markets Insider Markets Stocks Indices Commodities Cryptocurrencies Currencies ETFs News Facebook Inc (A) Cert Deposito Arg Repr...'},\n",
    "        {'title': 'Facebook Stock Price Today (NASDAQ: META) Quote, Market Cap, Chart ...',\n",
    "        'snippet': 'Facebook Stock Price Today (NASDAQ: META) Quote, Market Cap, Chart | WallStreetZen Meta Platforms Inc Stock Add to Watchlist Overview Forecast Earnings Dividend Ownership Statistics $197.81 +2.20 (+1.12%) Updated Mar 20, 2023 Meta Platforms shares are trading... find out Why META Price Moved with a free WallStreetZen account Why Price Moved'}]\n",
    "\n",
    "search_demo = guidance('''Seach results:\n",
    "{{~#each results}}\n",
    "<result>\n",
    "{{this.title}}\n",
    "{{this.snippet}}\n",
    "</result>{{/each}}''')\n",
    "\n",
    "demo_results = [\n",
    "    {'title': 'OpenAI - Wikipedia', 'snippet': 'OpenAI systems run on the fifth most powerful supercomputer in the world. [5] [6] [7] The organization was founded in San Francisco in 2015 by Sam Altman, Reid Hoffman, Jessica Livingston, Elon Musk, Ilya Sutskever, Peter Thiel and others, [8] [1] [9] who collectively pledged US$ 1 billion. Musk resigned from the board in 2018 but remained a donor.'},\n",
    "    {'title': 'About - OpenAI', 'snippet': 'About OpenAI is an AI research and deployment company. Our mission is to ensure that artificial general intelligence benefits all of humanity. Our vision for the future of AGI Our mission is to ensure that artificial general intelligence—AI systems that are generally smarter than humans—benefits all of humanity. Read our plan for AGI'}, \n",
    "    {'title': 'Ilya Sutskever | Stanford HAI', 'snippet': '''Ilya Sutskever is Co-founder and Chief Scientist of OpenAI, which aims to build artificial general intelligence that benefits all of humanity. He leads research at OpenAI and is one of the architects behind the GPT models. Prior to OpenAI, Ilya was co-inventor of AlexNet and Sequence to Sequence Learning.'''}\n",
    "]\n",
    "\n",
    "s = search_demo(results=demo_results)\n",
    "\n",
    "practice_round = [\n",
    "    {'role': 'user', 'content' : 'Who are the founders of OpenAI?'},\n",
    "    {'role': 'assistant', 'content': '<search>Who are the founders of OpenAI</search>'},\n",
    "    {'role': 'user', 'content': str(search_demo(results=demo_results))},\n",
    "    {'role': 'assistant', 'content': 'The founders of OpenAI are Sam Altman, Reid Hoffman, Jessica Livingston, Elon Musk, Ilya Sutskever, Peter Thiel and others.'},\n",
    "]\n",
    "\n",
    "program = guidance('''\n",
    "{{#system~}}\n",
    "You are a helpful assistant.\n",
    "{{~/system}}\n",
    "\n",
    "{{#user~}}\n",
    "From now on, whenever your response depends on any factual information, please search the web by using the function <search>query</search> before responding. I will then paste web results in, and you can respond.\n",
    "{{~/user}}\n",
    "\n",
    "{{#assistant~}}\n",
    "Ok, I will do that. Let's do a practice round\n",
    "{{~/assistant}}\n",
    "\n",
    "{{#each practice}}\n",
    "{{#if (== this.role \"user\")}}\n",
    "{{#user}}{{this.content}}{{/user}}\n",
    "{{else}}\n",
    "{{#assistant}}{{this.content}}{{/assistant}}\n",
    "{{/if}}\n",
    "{{/each}}\n",
    "\n",
    "{{#user~}}\n",
    "That was great, now let's do another one.\n",
    "{{~/user}}\n",
    "\n",
    "{{#assistant~}}\n",
    "Sounds good\n",
    "{{~/assistant}}\n",
    "\n",
    "{{#user~}}\n",
    "{{user_query}}\n",
    "{{~/user}}\n",
    "\n",
    "{{#assistant~}}\n",
    "{{gen \"query\" stop=\"</search>\"}}{{#if (is_search query)}}</search>{{/if}}\n",
    "{{~/assistant}}\n",
    "\n",
    "{{#user~}}\n",
    "Search results: {{#each (search query)}}\n",
    "<result>\n",
    "{{this.title}}\n",
    "{{this.snippet}}\n",
    "</result>{{/each}}\n",
    "{{~/user}}\n",
    "\n",
    "{{#assistant~}}\n",
    "{{gen \"answer\"}}\n",
    "{{~/assistant}}\n",
    "''')\n",
    "\n",
    "query = \"What is Facebook's stock price right now?\"\n",
    "\n",
    "program = program(\n",
    "    user_query=query,\n",
    "    search=search,\n",
    "    is_search=is_search,\n",
    "    practice=practice_round\n",
    ")\n"
   ]
  },
  {
   "attachments": {},
   "cell_type": "markdown",
   "metadata": {},
   "source": [
    "<hr style=\"height: 1px; opacity: 0.5; border: none; background: #cccccc;\">\n",
    "<div style=\"text-align: center; opacity: 0.5\">Have an idea for more helpful examples? Pull requests that add to this documentation notebook are encouraged!</div>"
   ]
  }
 ],
 "metadata": {
  "kernelspec": {
   "display_name": "guidance",
   "language": "python",
   "name": "python3"
  },
  "language_info": {
   "codemirror_mode": {
    "name": "ipython",
    "version": 3
   },
   "file_extension": ".py",
   "mimetype": "text/x-python",
   "name": "python",
   "nbconvert_exporter": "python",
   "pygments_lexer": "ipython3",
   "version": "3.10.12"
  },
  "orig_nbformat": 4,
  "vscode": {
   "interpreter": {
    "hash": "fd8cabafb56980528edb83a46206c404687fdaed0bdad7c450ae020143ae38bc"
   }
  }
 },
 "nbformat": 4,
 "nbformat_minor": 2
}
