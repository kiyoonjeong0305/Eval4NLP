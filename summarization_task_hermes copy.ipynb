{
 "cells": [
  {
   "attachments": {},
   "cell_type": "markdown",
   "metadata": {},
   "source": [
    "# Eval4NLP - Summarzation task notebook\n"
   ]
  },
  {
   "cell_type": "code",
   "execution_count": 1,
   "metadata": {},
   "outputs": [
    {
     "name": "stderr",
     "output_type": "stream",
     "text": [
      "/opt/conda/envs/Eval4NLP23/lib/python3.10/site-packages/tqdm/auto.py:21: TqdmWarning: IProgress not found. Please update jupyter and ipywidgets. See https://ipywidgets.readthedocs.io/en/stable/user_install.html\n",
      "  from .autonotebook import tqdm as notebook_tqdm\n"
     ]
    }
   ],
   "source": [
    "import sys\n",
    "sys.path.append(\"./src\")\n",
    "from model_dict import *\n",
    "from inference import *\n",
    "import pandas as pd\n",
    "import guidance\n",
    "import json\n",
    "from tqdm import tqdm\n",
    "import matplotlib.pyplot as plt\n",
    "import seaborn as sns\n",
    "import numpy as np"
   ]
  },
  {
   "cell_type": "code",
   "execution_count": 2,
   "metadata": {},
   "outputs": [],
   "source": [
    "summ_path = '/Workspace/jh/SharedTask2023/data/summarization/train_summarization.tsv'\n",
    "summ_df = pd.read_csv(summ_path, delimiter=\"\\t\", quoting=csv.QUOTE_NONE)"
   ]
  },
  {
   "cell_type": "code",
   "execution_count": 4,
   "metadata": {},
   "outputs": [
    {
     "name": "stderr",
     "output_type": "stream",
     "text": [
      "You are using the default legacy behaviour of the <class 'transformers.models.llama.tokenization_llama.LlamaTokenizer'>. If you see this, DO NOT PANIC! This is expected, and simply means that the `legacy` (previous) behavior will be used so nothing changes for you. If you want to use the new behaviour, set `legacy=True`. This should only be set if you understand what it means, and thouroughly read the reason why this was added as explained in https://github.com/huggingface/transformers/pull/24565\n"
     ]
    }
   ],
   "source": [
    "# WizardLM-13B-V1.1-GPTQ\n",
    "# Nous-Hermes-13b\n",
    "# guanaco-65B-GPTQ\n",
    "\n",
    "model_name = 'Nous-Hermes-13b'\n",
    "model_path = f'/Workspace/jh/SharedTask2023/models/{model_name}'\n",
    "\n",
    "model, tokenizer, u_prompt, a_prompt = load_from_catalogue(model_name, model_path, device=\"cuda:1\")"
   ]
  },
  {
   "cell_type": "code",
   "execution_count": 5,
   "metadata": {},
   "outputs": [],
   "source": [
    "g_model = guidance.llms.Transformers(\n",
    "            model, tokenizer=tokenizer, trust_remote_code=True,\n",
    ")\n",
    "guidance.llms.Transformers.cache.clear()"
   ]
  },
  {
   "cell_type": "code",
   "execution_count": 6,
   "metadata": {},
   "outputs": [],
   "source": [
    "# we will use GPT-3 for most of the examples in this tutorial\n",
    "guidance.llm = g_model"
   ]
  },
  {
   "cell_type": "markdown",
   "metadata": {},
   "source": [
    "## Baseline Eval(0-5)"
   ]
  },
  {
   "cell_type": "code",
   "execution_count": 12,
   "metadata": {},
   "outputs": [],
   "source": [
    "guidance.llm.cache.clear()\n",
    "torch.cuda.empty_cache()"
   ]
  },
  {
   "cell_type": "code",
   "execution_count": 13,
   "metadata": {},
   "outputs": [],
   "source": [
    "eval_prompt = '''\n",
    "{{prompt_placeholder}}\n",
    "You will be given one summary written for a source document.\n",
    "Your task is to rate the summary on one metric.\n",
    "Please make sure you read and understand these instructions carefully. Please keep this document open while reviewing, and refer to it as needed.\n",
    "    \n",
    "Evaluation Criteria:\n",
    "Coherence (1-5) - the collective quality of all sentences.\\\n",
    " We align this dimension with the DUC quality question of structure and coherence whereby \\\n",
    " \"the summary should be well-structured and well-organized.\\\n",
    " The summary should not just be a heap of related information,\\\n",
    " but should build from sentence to a coherent body of information about a topic.\"\n",
    " \n",
    "Consistency (1-5) - the factual alignment between the summary and the summarized source.\\\n",
    " A factually consistent summary contains only statements that are entailed by the source document.\\\n",
    " Annotators were also asked to penalize summaries that contained hallucinated facts. \n",
    "\n",
    "Relevance (1-5) - selection of important content from the source. The summary should include only important information from the source document. Annotators were instructed to penalize summaries which contained redundancies and excess information.\n",
    "    \n",
    "Evaluation Steps for Coherence:\n",
    "1. Read the source document carefully and identify the main topic and key points.\n",
    "2. Read the summary and compare it to the source document.\\\n",
    "Check if the summary covers the main topic and key points of source document,\\\n",
    "and if it presents them in a clear and logical order\n",
    "3. Assign a score for coherence on a scale of 1 to 5, where 1 is the lowest and 5 is the highest based on the Evaluation Criteria.\n",
    "\n",
    "Evaluation Steps for Consistency:\n",
    "1. Read the source document carefully and identify the main facts and details it presents.\n",
    "2. Read the summary and compare it to the source document.\\\n",
    " Check if the summary contains any factual errors that are not supported by the source document.\n",
    "3. Assign a score for consistency based on the Evaluation Criteria.\n",
    "\n",
    "Evaluation Steps for Relevance:\n",
    "1. Read the summary and the source document carefully.\n",
    "2. Compare the summary to the source document and identify the main points of the source document.\n",
    "3. Assess how well the summary covers the main points of the source document, and how much irrelevant or redundant information it contains.\n",
    "4. Assign a relevance score from 1 to 5.\n",
    "\n",
    "——\n",
    "Source text: {{gt}}\n",
    "Summary: {{hyp}}\n",
    "{{response_placeholder}}\n",
    "Coherence Score: {{gen 'coherence' pattern='(100|[1-9]?[0-9])'}}\n",
    "Consistency Score: {{gen 'consistency' pattern='(100|[1-9]?[0-9])'}}\n",
    "Relevance Score: {{gen 'relevance' pattern='(100|[1-9]?[0-9])'}}\n",
    "'''"
   ]
  },
  {
   "cell_type": "code",
   "execution_count": 14,
   "metadata": {},
   "outputs": [
    {
     "name": "stderr",
     "output_type": "stream",
     "text": [
      "  0%|          | 0/320 [00:00<?, ?it/s]/opt/conda/envs/Eval4NLP23/lib/python3.10/site-packages/transformers/generation/configuration_utils.py:362: UserWarning: `do_sample` is set to `False`. However, `temperature` is set to `0.0` -- this flag is only used in sample-based generation modes. You should set `do_sample=True` or unset `temperature`.\n",
      "  warnings.warn(\n",
      "100%|██████████| 320/320 [05:30<00:00,  1.03s/it]\n"
     ]
    }
   ],
   "source": [
    "results_v1 = {\n",
    "           'coherence':[],\n",
    "           'consistency':[],\n",
    "           'relevance':[],\n",
    "           'summ':[],\n",
    "           'mean':[]\n",
    "           }\n",
    "\n",
    "SRC = summ_df['SRC']\n",
    "HYP = summ_df['HYP']\n",
    "\n",
    "for idx in tqdm(range(len(SRC))):\n",
    "    \n",
    "    guidance.llm.cache.clear()\n",
    "\n",
    "    eval_program = guidance('''\n",
    "    {{eval_prompt}}\n",
    "    ''')\n",
    "\n",
    "    executed_program = eval_program(\n",
    "        gt=SRC[idx],\n",
    "        hyp=HYP[idx],\n",
    "        eval_prompt=eval_prompt,\n",
    "        prompt_placeholder=u_prompt,\n",
    "        response_placeholder=a_prompt,\n",
    "        silent=True)()\n",
    "    \n",
    "    coherence = int(executed_program['coherence'])\n",
    "    consistency = int(executed_program['consistency'])\n",
    "    relevance = int(executed_program['relevance'])\n",
    "    summ = coherence + consistency + relevance\n",
    "    mean = summ/3\n",
    "    \n",
    "    results_v1['coherence'].append(coherence)\n",
    "    results_v1['consistency'].append(consistency)\n",
    "    results_v1['relevance'].append(relevance)\n",
    "    results_v1['summ'].append(summ)\n",
    "    results_v1['mean'].append(mean)\n",
    "    "
   ]
  },
  {
   "cell_type": "code",
   "execution_count": 15,
   "metadata": {},
   "outputs": [],
   "source": [
    "result_v1 = pd.DataFrame(results_v1)"
   ]
  },
  {
   "cell_type": "code",
   "execution_count": 16,
   "metadata": {},
   "outputs": [
    {
     "name": "stderr",
     "output_type": "stream",
     "text": [
      "/opt/conda/envs/Eval4NLP23/lib/python3.10/site-packages/seaborn/axisgrid.py:118: UserWarning: The figure layout has changed to tight\n",
      "  self._figure.tight_layout(*args, **kwargs)\n"
     ]
    },
    {
     "data": {
      "text/plain": [
       "<seaborn.axisgrid.FacetGrid at 0x7fa9e83cb6a0>"
      ]
     },
     "execution_count": 16,
     "metadata": {},
     "output_type": "execute_result"
    },
    {
     "data": {
      "image/png": "[encoded data removed]",
      "text/plain": [
       "<Figure size 500x500 with 1 Axes>"
      ]
     },
     "metadata": {},
     "output_type": "display_data"
    }
   ],
   "source": [
    "sns.displot(result_v1['coherence'])"
   ]
  },
  {
   "cell_type": "code",
   "execution_count": 17,
   "metadata": {},
   "outputs": [
    {
     "name": "stderr",
     "output_type": "stream",
     "text": [
      "/opt/conda/envs/Eval4NLP23/lib/python3.10/site-packages/seaborn/axisgrid.py:118: UserWarning: The figure layout has changed to tight\n",
      "  self._figure.tight_layout(*args, **kwargs)\n"
     ]
    },
    {
     "data": {
      "text/plain": [
       "<seaborn.axisgrid.FacetGrid at 0x7fa5ddb67fa0>"
      ]
     },
     "execution_count": 17,
     "metadata": {},
     "output_type": "execute_result"
    },
    {
     "data": {
      "image/png": "[encoded data removed]",
      "text/plain": [
       "<Figure size 500x500 with 1 Axes>"
      ]
     },
     "metadata": {},
     "output_type": "display_data"
    }
   ],
   "source": [
    "sns.displot(result_v1['consistency'])"
   ]
  },
  {
   "cell_type": "code",
   "execution_count": 18,
   "metadata": {},
   "outputs": [
    {
     "name": "stderr",
     "output_type": "stream",
     "text": [
      "/opt/conda/envs/Eval4NLP23/lib/python3.10/site-packages/seaborn/axisgrid.py:118: UserWarning: The figure layout has changed to tight\n",
      "  self._figure.tight_layout(*args, **kwargs)\n"
     ]
    },
    {
     "data": {
      "text/plain": [
       "<seaborn.axisgrid.FacetGrid at 0x7fa5dda3b9a0>"
      ]
     },
     "execution_count": 18,
     "metadata": {},
     "output_type": "execute_result"
    },
    {
     "data": {
      "image/png": "[encoded data removed]",
      "text/plain": [
       "<Figure size 500x500 with 1 Axes>"
      ]
     },
     "metadata": {},
     "output_type": "display_data"
    }
   ],
   "source": [
    "sns.displot(result_v1['relevance'])"
   ]
  },
  {
   "cell_type": "code",
   "execution_count": 19,
   "metadata": {},
   "outputs": [
    {
     "name": "stderr",
     "output_type": "stream",
     "text": [
      "/opt/conda/envs/Eval4NLP23/lib/python3.10/site-packages/seaborn/axisgrid.py:118: UserWarning: The figure layout has changed to tight\n",
      "  self._figure.tight_layout(*args, **kwargs)\n"
     ]
    },
    {
     "data": {
      "text/plain": [
       "<seaborn.axisgrid.FacetGrid at 0x7fa5dda725c0>"
      ]
     },
     "execution_count": 19,
     "metadata": {},
     "output_type": "execute_result"
    },
    {
     "data": {
      "image/png": "[encoded data removed]",
      "text/plain": [
       "<Figure size 500x500 with 1 Axes>"
      ]
     },
     "metadata": {},
     "output_type": "display_data"
    }
   ],
   "source": [
    "sns.displot(result_v1['mean'])"
   ]
  },
  {
   "cell_type": "markdown",
   "metadata": {},
   "source": [
    "# Baseline Eval (poor fair good great excellent)"
   ]
  },
  {
   "cell_type": "code",
   "execution_count": 20,
   "metadata": {},
   "outputs": [],
   "source": [
    "guidance.llm.cache.clear()\n",
    "torch.cuda.empty_cache()"
   ]
  },
  {
   "cell_type": "code",
   "execution_count": 21,
   "metadata": {},
   "outputs": [],
   "source": [
    "options = ['poor', 'fair', 'good', 'great', 'excellent']"
   ]
  },
  {
   "cell_type": "code",
   "execution_count": 22,
   "metadata": {},
   "outputs": [],
   "source": [
    "eval_v2_prompt = '''\n",
    "{{prompt_placeholder}}\n",
    "You will be given one summary written for a source document.\n",
    "Your task is to rate the summary on one metric.\n",
    "Please make sure you read and understand these instructions carefully. Please keep this document open while reviewing, and refer to it as needed.\n",
    "    \n",
    "Evaluation Criteria:\n",
    "Coherence - the collective quality of all sentences.\\\n",
    " We align this dimension with the DUC quality question of structure and coherence whereby \\\n",
    " \"the summary should be well-structured and well-organized.\\\n",
    " The summary should not just be a heap of related information,\\\n",
    " but should build from sentence to a coherent body of information about a topic.\"\n",
    " \n",
    "Consistency - the factual alignment between the summary and the summarized source.\\\n",
    " A factually consistent summary contains only statements that are entailed by the source document.\\\n",
    " Annotators were also asked to penalize summaries that contained hallucinated facts. \n",
    "\n",
    "Relevance - selection of important content from the source. The summary should include only important information from the source document. Annotators were instructed to penalize summaries which contained redundancies and excess information.\n",
    "    \n",
    "Evaluation Steps for Coherence:\n",
    "1. Read the source document carefully and identify the main topic and key points.\n",
    "2. Read the summary and compare it to the source document.\\\n",
    "Check if the summary covers the main topic and key points of source document,\\\n",
    "and if it presents them in a clear and logical order\n",
    "3. Select a score for coherence among poor, fair, good, great, excellent. (poor is the lowest and excellent is the highest)\n",
    "\n",
    "Evaluation Steps for Consistency:\n",
    "1. Read the source document carefully and identify the main facts and details it presents.\n",
    "2. Read the summary and compare it to the source document.\\\n",
    " Check if the summary contains any factual errors that are not supported by the source document.\n",
    "3. Select a score for consistency among poor, fair, good, great, excellent. (poor is the lowest and excellent is the highest)\n",
    "\n",
    "Evaluation Steps for Relevance:\n",
    "1. Read the summary and the source document carefully.\n",
    "2. Compare the summary to the source document and identify the main points of the source document.\n",
    "3. Assess how well the summary covers the main points of the source document, and how much irrelevant or redundant information it contains.\n",
    "4. Select a score for relevance among poor, fair, good, great, excellent. (poor is the lowest and excellent is the highest)\n",
    "\n",
    "poor, fair, good, great, excellent, in that order, means a higher score.\n",
    "——\n",
    "Source text: {{gt}}\n",
    "Summary: {{hyp}}\n",
    "{{response_placeholder}}\n",
    "Coherence Score: {{select 'coherence' options=options}}\n",
    "Consistency Score: {{select 'consistency' options=options}}\n",
    "Relevance Score: {{select 'relevance' options=options}}\n",
    "'''"
   ]
  },
  {
   "cell_type": "code",
   "execution_count": 23,
   "metadata": {},
   "outputs": [],
   "source": [
    "rank = {'poor':1,\n",
    "        'fair':2,\n",
    "        'good':3,\n",
    "        'great':4,\n",
    "        'excellent':5}"
   ]
  },
  {
   "cell_type": "code",
   "execution_count": 24,
   "metadata": {},
   "outputs": [
    {
     "name": "stderr",
     "output_type": "stream",
     "text": [
      "  0%|          | 0/320 [00:00<?, ?it/s]"
     ]
    },
    {
     "name": "stderr",
     "output_type": "stream",
     "text": [
      "/opt/conda/envs/Eval4NLP23/lib/python3.10/site-packages/transformers/generation/configuration_utils.py:362: UserWarning: `do_sample` is set to `False`. However, `temperature` is set to `0.0` -- this flag is only used in sample-based generation modes. You should set `do_sample=True` or unset `temperature`.\n",
      "  warnings.warn(\n",
      "100%|██████████| 320/320 [03:47<00:00,  1.40it/s]\n"
     ]
    }
   ],
   "source": [
    "results_v2 = {\n",
    "           'coherence':[],\n",
    "           'consistency':[],\n",
    "           'relevance':[],\n",
    "           'summ':[],\n",
    "           'mean':[]\n",
    "           }\n",
    "\n",
    "SRC = summ_df['SRC']\n",
    "HYP = summ_df['HYP']\n",
    "\n",
    "for idx in tqdm(range(len(SRC))):\n",
    "    \n",
    "    guidance.llm.cache.clear()\n",
    "\n",
    "    eval_program = guidance('''\n",
    "    {{eval_v2_prompt}}\n",
    "    ''')\n",
    "\n",
    "    executed_program = eval_program(\n",
    "        gt=SRC[idx],\n",
    "        hyp=HYP[idx],\n",
    "        eval_v2_prompt=eval_v2_prompt,\n",
    "        prompt_placeholder=u_prompt,\n",
    "        response_placeholder=a_prompt,\n",
    "        options=options,\n",
    "        silent=True)()\n",
    "    \n",
    "    coherence = rank[executed_program['coherence']]\n",
    "    consistency = rank[executed_program['consistency']]\n",
    "    relevance = rank[executed_program['relevance']]\n",
    "    summ = coherence + consistency + relevance\n",
    "    mean = summ/3\n",
    "\n",
    "    results_v2['coherence'].append(coherence)\n",
    "    results_v2['consistency'].append(consistency)\n",
    "    results_v2['relevance'].append(relevance)\n",
    "    results_v2['summ'].append(summ)\n",
    "    results_v2['mean'].append(mean)\n",
    "    "
   ]
  },
  {
   "cell_type": "code",
   "execution_count": 25,
   "metadata": {},
   "outputs": [],
   "source": [
    "results_v2 = pd.DataFrame(results_v2)"
   ]
  },
  {
   "cell_type": "code",
   "execution_count": 30,
   "metadata": {},
   "outputs": [
    {
     "name": "stderr",
     "output_type": "stream",
     "text": [
      "/opt/conda/envs/Eval4NLP23/lib/python3.10/site-packages/seaborn/axisgrid.py:118: UserWarning: The figure layout has changed to tight\n",
      "  self._figure.tight_layout(*args, **kwargs)\n"
     ]
    },
    {
     "data": {
      "text/plain": [
       "<seaborn.axisgrid.FacetGrid at 0x7fa5dd8e32b0>"
      ]
     },
     "execution_count": 30,
     "metadata": {},
     "output_type": "execute_result"
    },
    {
     "data": {
      "image/png": "[encoded data removed]",
      "text/plain": [
       "<Figure size 500x500 with 1 Axes>"
      ]
     },
     "metadata": {},
     "output_type": "display_data"
    }
   ],
   "source": [
    "sns.displot(results_v2['coherence'])"
   ]
  },
  {
   "cell_type": "code",
   "execution_count": 31,
   "metadata": {},
   "outputs": [
    {
     "name": "stderr",
     "output_type": "stream",
     "text": [
      "/opt/conda/envs/Eval4NLP23/lib/python3.10/site-packages/seaborn/axisgrid.py:118: UserWarning: The figure layout has changed to tight\n",
      "  self._figure.tight_layout(*args, **kwargs)\n"
     ]
    },
    {
     "data": {
      "text/plain": [
       "<seaborn.axisgrid.FacetGrid at 0x7fa5dd81eb00>"
      ]
     },
     "execution_count": 31,
     "metadata": {},
     "output_type": "execute_result"
    },
    {
     "data": {
      "image/png": "[encoded data removed]",
      "text/plain": [
       "<Figure size 500x500 with 1 Axes>"
      ]
     },
     "metadata": {},
     "output_type": "display_data"
    }
   ],
   "source": [
    "sns.displot(results_v2['consistency'])"
   ]
  },
  {
   "cell_type": "code",
   "execution_count": 32,
   "metadata": {},
   "outputs": [
    {
     "name": "stderr",
     "output_type": "stream",
     "text": [
      "/opt/conda/envs/Eval4NLP23/lib/python3.10/site-packages/seaborn/axisgrid.py:118: UserWarning: The figure layout has changed to tight\n",
      "  self._figure.tight_layout(*args, **kwargs)\n"
     ]
    },
    {
     "data": {
      "text/plain": [
       "<seaborn.axisgrid.FacetGrid at 0x7faa684fe0b0>"
      ]
     },
     "execution_count": 32,
     "metadata": {},
     "output_type": "execute_result"
    },
    {
     "data": {
      "image/png": "[encoded data removed]",
      "text/plain": [
       "<Figure size 500x500 with 1 Axes>"
      ]
     },
     "metadata": {},
     "output_type": "display_data"
    }
   ],
   "source": [
    "sns.displot(results_v2['relevance'])"
   ]
  },
  {
   "cell_type": "code",
   "execution_count": 33,
   "metadata": {},
   "outputs": [
    {
     "name": "stderr",
     "output_type": "stream",
     "text": [
      "/opt/conda/envs/Eval4NLP23/lib/python3.10/site-packages/seaborn/axisgrid.py:118: UserWarning: The figure layout has changed to tight\n",
      "  self._figure.tight_layout(*args, **kwargs)\n"
     ]
    },
    {
     "data": {
      "text/plain": [
       "<seaborn.axisgrid.FacetGrid at 0x7fa5dd7f2680>"
      ]
     },
     "execution_count": 33,
     "metadata": {},
     "output_type": "execute_result"
    },
    {
     "data": {
      "image/png": "[encoded data removed]",
      "text/plain": [
       "<Figure size 500x500 with 1 Axes>"
      ]
     },
     "metadata": {},
     "output_type": "display_data"
    }
   ],
   "source": [
    "sns.displot(results_v2['mean'])"
   ]
  },
  {
   "cell_type": "markdown",
   "metadata": {},
   "source": [
    "## Corr"
   ]
  },
  {
   "cell_type": "code",
   "execution_count": 42,
   "metadata": {},
   "outputs": [],
   "source": [
    "from evaluation import dev_evaluation\n",
    "import scipy.stats"
   ]
  },
  {
   "cell_type": "code",
   "execution_count": 14,
   "metadata": {},
   "outputs": [
    {
     "name": "stderr",
     "output_type": "stream",
     "text": [
      "/opt/conda/envs/Eval4NLP23/lib/python3.10/site-packages/seaborn/axisgrid.py:118: UserWarning: The figure layout has changed to tight\n",
      "  self._figure.tight_layout(*args, **kwargs)\n"
     ]
    },
    {
     "data": {
      "text/plain": [
       "<seaborn.axisgrid.FacetGrid at 0x7f1c243f8520>"
      ]
     },
     "execution_count": 14,
     "metadata": {},
     "output_type": "execute_result"
    },
    {
     "data": {
      "image/png": "[encoded data removed]",
      "text/plain": [
       "<Figure size 500x500 with 1 Axes>"
      ]
     },
     "metadata": {},
     "output_type": "display_data"
    }
   ],
   "source": [
    "sns.displot(summ_df['Score'])"
   ]
  },
  {
   "cell_type": "code",
   "execution_count": 43,
   "metadata": {},
   "outputs": [
    {
     "data": {
      "text/plain": [
       "-0.008341628272395176"
      ]
     },
     "execution_count": 43,
     "metadata": {},
     "output_type": "execute_result"
    }
   ],
   "source": [
    "scipy.stats.kendalltau(result_v1['mean'], summ_df['Score'])[0]"
   ]
  },
  {
   "cell_type": "code",
   "execution_count": 44,
   "metadata": {},
   "outputs": [
    {
     "data": {
      "text/plain": [
       "0.1128013114419469"
      ]
     },
     "execution_count": 44,
     "metadata": {},
     "output_type": "execute_result"
    }
   ],
   "source": [
    "scipy.stats.kendalltau(results_v2['mean'], summ_df['Score'])[0]"
   ]
  },
  {
   "cell_type": "code",
   "execution_count": 36,
   "metadata": {},
   "outputs": [],
   "source": [
    "result_v1.to_json('./results/result_v1.json')"
   ]
  },
  {
   "cell_type": "code",
   "execution_count": 38,
   "metadata": {},
   "outputs": [],
   "source": [
    "results_v2.to_json('./results/result_v2.json')"
   ]
  },
  {
   "cell_type": "code",
   "execution_count": null,
   "metadata": {},
   "outputs": [],
   "source": []
  },
  {
   "cell_type": "markdown",
   "metadata": {},
   "source": [
    "# Baseline Eval (poor fair good great excellent) confidence"
   ]
  },
  {
   "cell_type": "code",
   "execution_count": 82,
   "metadata": {},
   "outputs": [],
   "source": [
    "guidance.llm.cache.clear()\n",
    "torch.cuda.empty_cache()"
   ]
  },
  {
   "cell_type": "code",
   "execution_count": 83,
   "metadata": {},
   "outputs": [],
   "source": [
    "options = ['poor', 'fair', 'good', 'great', 'excellent']"
   ]
  },
  {
   "cell_type": "code",
   "execution_count": 84,
   "metadata": {},
   "outputs": [],
   "source": [
    "eval_v2_confidence_prompt = '''\n",
    "{{prompt_placeholder}}\n",
    "You will be given one summary written for a source document.\n",
    "Your task is to rate the summary on one metric.\n",
    "Please make sure you read and understand these instructions carefully. Please keep this document open while reviewing, and refer to it as needed.\n",
    "    \n",
    "Evaluation Criteria:\n",
    "Coherence - the collective quality of all sentences.\\\n",
    " We align this dimension with the DUC quality question of structure and coherence whereby \\\n",
    " \"the summary should be well-structured and well-organized.\\\n",
    " The summary should not just be a heap of related information,\\\n",
    " but should build from sentence to a coherent body of information about a topic.\"\n",
    " \n",
    "Consistency - the factual alignment between the summary and the summarized source.\\\n",
    " A factually consistent summary contains only statements that are entailed by the source document.\\\n",
    " Annotators were also asked to penalize summaries that contained hallucinated facts. \n",
    "\n",
    "Relevance - selection of important content from the source. The summary should include only important information from the source document. Annotators were instructed to penalize summaries which contained redundancies and excess information.\n",
    "    \n",
    "Evaluation Steps for Coherence:\n",
    "1. Read the source document carefully and identify the main topic and key points.\n",
    "2. Read the summary and compare it to the source document.\\\n",
    "Check if the summary covers the main topic and key points of source document,\\\n",
    "and if it presents them in a clear and logical order\n",
    "3. Select a score for coherence among poor, fair, good, great, excellent. (poor is the lowest and excellent is the highest)\n",
    "\n",
    "Evaluation Steps for Consistency:\n",
    "1. Read the source document carefully and identify the main facts and details it presents.\n",
    "2. Read the summary and compare it to the source document.\\\n",
    " Check if the summary contains any factual errors that are not supported by the source document.\n",
    "3. Select a score for consistency among poor, fair, good, great, excellent. (poor is the lowest and excellent is the highest)\n",
    "\n",
    "Evaluation Steps for Relevance:\n",
    "1. Read the summary and the source document carefully.\n",
    "2. Compare the summary to the source document and identify the main points of the source document.\n",
    "3. Assess how well the summary covers the main points of the source document, and how much irrelevant or redundant information it contains.\n",
    "4. Select a score for relevance among poor, fair, good, great, excellent. (poor is the lowest and excellent is the highest)\n",
    "\n",
    "poor, fair, good, great, excellent, in that order, means a higher score.\n",
    "——\n",
    "Source text: {{gt}}\n",
    "Summary: {{hyp}}\n",
    "{{response_placeholder}}\n",
    "Coherence Score: {{select 'coherence' logprobs='coherence_probs' options=options}}\n",
    "Consistency Score: {{select 'consistency' logprobs='consistency_probs' options=options}}\n",
    "Relevance Score: {{select 'relevance' logprobs='relevance_probs' options=options}}\n",
    "'''"
   ]
  },
  {
   "cell_type": "code",
   "execution_count": 85,
   "metadata": {},
   "outputs": [
    {
     "name": "stderr",
     "output_type": "stream",
     "text": [
      "  0%|          | 0/320 [00:00<?, ?it/s]/opt/conda/envs/Eval4NLP23/lib/python3.10/site-packages/transformers/generation/configuration_utils.py:362: UserWarning: `do_sample` is set to `False`. However, `temperature` is set to `0.0` -- this flag is only used in sample-based generation modes. You should set `do_sample=True` or unset `temperature`.\n",
      "  warnings.warn(\n",
      "100%|██████████| 320/320 [03:46<00:00,  1.42it/s]\n"
     ]
    }
   ],
   "source": [
    "results_v2_confidence = {\n",
    "           'coherence':[],\n",
    "           'consistency':[],\n",
    "           'relevance':[],\n",
    "           'summ':[],\n",
    "           'mean':[]\n",
    "           }\n",
    "\n",
    "SRC = summ_df['SRC']\n",
    "HYP = summ_df['HYP']\n",
    "score_of_rank = np.array(list(rank.values()))\n",
    "\n",
    "for idx in tqdm(range(len(SRC))):\n",
    "    \n",
    "    guidance.llm.cache.clear()\n",
    "\n",
    "    eval_program = guidance('''\n",
    "    {{eval_v2_prompt}}\n",
    "    ''')\n",
    "\n",
    "    executed_program = eval_program(\n",
    "        gt=SRC[idx],\n",
    "        hyp=HYP[idx],\n",
    "        eval_v2_prompt=eval_v2_confidence_prompt,\n",
    "        prompt_placeholder=u_prompt,\n",
    "        response_placeholder=a_prompt,\n",
    "        options=options,\n",
    "        silent=True)()\n",
    "    \n",
    "    coherence = np.sum(np.exp(list(executed_program['coherence_probs'].values()))*score_of_rank)\n",
    "    consistency = np.sum(np.exp(list(executed_program['consistency_probs'].values()))*score_of_rank)\n",
    "    relevance = np.sum(np.exp(list(executed_program['relevance_probs'].values()))*score_of_rank)\n",
    "    summ = coherence + consistency + relevance\n",
    "    mean = summ/3\n",
    "\n",
    "    results_v2_confidence['coherence'].append(coherence)\n",
    "    results_v2_confidence['consistency'].append(consistency)\n",
    "    results_v2_confidence['relevance'].append(relevance)\n",
    "    results_v2_confidence['summ'].append(summ)\n",
    "    results_v2_confidence['mean'].append(mean)\n",
    "    "
   ]
  },
  {
   "cell_type": "code",
   "execution_count": 86,
   "metadata": {},
   "outputs": [],
   "source": [
    "results_v2_confidence = pd.DataFrame(results_v2_confidence)"
   ]
  },
  {
   "cell_type": "code",
   "execution_count": 87,
   "metadata": {},
   "outputs": [
    {
     "name": "stderr",
     "output_type": "stream",
     "text": [
      "/opt/conda/envs/Eval4NLP23/lib/python3.10/site-packages/seaborn/axisgrid.py:118: UserWarning: The figure layout has changed to tight\n",
      "  self._figure.tight_layout(*args, **kwargs)\n"
     ]
    },
    {
     "data": {
      "text/plain": [
       "<seaborn.axisgrid.FacetGrid at 0x7fa55f9b4430>"
      ]
     },
     "execution_count": 87,
     "metadata": {},
     "output_type": "execute_result"
    },
    {
     "data": {
      "image/png": "[encoded data removed]",
      "text/plain": [
       "<Figure size 500x500 with 1 Axes>"
      ]
     },
     "metadata": {},
     "output_type": "display_data"
    }
   ],
   "source": [
    "sns.displot(results_v2_confidence['coherence'])"
   ]
  },
  {
   "cell_type": "code",
   "execution_count": 88,
   "metadata": {},
   "outputs": [
    {
     "name": "stderr",
     "output_type": "stream",
     "text": [
      "/opt/conda/envs/Eval4NLP23/lib/python3.10/site-packages/seaborn/axisgrid.py:118: UserWarning: The figure layout has changed to tight\n",
      "  self._figure.tight_layout(*args, **kwargs)\n"
     ]
    },
    {
     "data": {
      "text/plain": [
       "<seaborn.axisgrid.FacetGrid at 0x7fa55e5a7190>"
      ]
     },
     "execution_count": 88,
     "metadata": {},
     "output_type": "execute_result"
    },
    {
     "data": {
      "image/png": "[encoded data removed]",
      "text/plain": [
       "<Figure size 500x500 with 1 Axes>"
      ]
     },
     "metadata": {},
     "output_type": "display_data"
    }
   ],
   "source": [
    "sns.displot(results_v2_confidence['consistency'])"
   ]
  },
  {
   "cell_type": "code",
   "execution_count": 89,
   "metadata": {},
   "outputs": [
    {
     "name": "stderr",
     "output_type": "stream",
     "text": [
      "/opt/conda/envs/Eval4NLP23/lib/python3.10/site-packages/seaborn/axisgrid.py:118: UserWarning: The figure layout has changed to tight\n",
      "  self._figure.tight_layout(*args, **kwargs)\n"
     ]
    },
    {
     "data": {
      "text/plain": [
       "<seaborn.axisgrid.FacetGrid at 0x7fa55f7bdb70>"
      ]
     },
     "execution_count": 89,
     "metadata": {},
     "output_type": "execute_result"
    },
    {
     "data": {
      "image/png": "[encoded data removed]",
      "text/plain": [
       "<Figure size 500x500 with 1 Axes>"
      ]
     },
     "metadata": {},
     "output_type": "display_data"
    }
   ],
   "source": [
    "sns.displot(results_v2_confidence['relevance'])"
   ]
  },
  {
   "cell_type": "code",
   "execution_count": 90,
   "metadata": {},
   "outputs": [
    {
     "name": "stderr",
     "output_type": "stream",
     "text": [
      "/opt/conda/envs/Eval4NLP23/lib/python3.10/site-packages/seaborn/axisgrid.py:118: UserWarning: The figure layout has changed to tight\n",
      "  self._figure.tight_layout(*args, **kwargs)\n"
     ]
    },
    {
     "data": {
      "text/plain": [
       "<seaborn.axisgrid.FacetGrid at 0x7fa55f837e50>"
      ]
     },
     "execution_count": 90,
     "metadata": {},
     "output_type": "execute_result"
    },
    {
     "data": {
      "image/png": "[encoded data removed]",
      "text/plain": [
       "<Figure size 500x500 with 1 Axes>"
      ]
     },
     "metadata": {},
     "output_type": "display_data"
    }
   ],
   "source": [
    "sns.displot(results_v2_confidence['mean'])"
   ]
  },
  {
   "cell_type": "code",
   "execution_count": 91,
   "metadata": {},
   "outputs": [
    {
     "data": {
      "text/plain": [
       "0.13260597780327482"
      ]
     },
     "execution_count": 91,
     "metadata": {},
     "output_type": "execute_result"
    }
   ],
   "source": [
    "scipy.stats.kendalltau(results_v2_confidence['mean'], summ_df['Score'])[0]"
   ]
  },
  {
   "cell_type": "code",
   "execution_count": 101,
   "metadata": {},
   "outputs": [
    {
     "data": {
      "image/png": "[encoded data removed]",
      "text/plain": [
       "<Figure size 1600x400 with 1 Axes>"
      ]
     },
     "metadata": {},
     "output_type": "display_data"
    }
   ],
   "source": [
    "plt.figure(figsize=(16,4))\n",
    "plt.plot(summ_df['Score'], label='gt')\n",
    "plt.plot(results_v2_confidence['mean'], label='gen')\n",
    "plt.legend()\n",
    "plt.show()"
   ]
  },
  {
   "cell_type": "code",
   "execution_count": 102,
   "metadata": {},
   "outputs": [],
   "source": [
    "results_v2_confidence.to_json('./results/results_v2_confidence.json')"
   ]
  },
  {
   "cell_type": "code",
   "execution_count": null,
   "metadata": {},
   "outputs": [],
   "source": []
  },
  {
   "cell_type": "markdown",
   "metadata": {},
   "source": [
    "# Submission"
   ]
  },
  {
   "cell_type": "code",
   "execution_count": 1,
   "metadata": {},
   "outputs": [
    {
     "name": "stderr",
     "output_type": "stream",
     "text": [
      "/opt/conda/envs/Eval4NLP23/lib/python3.10/site-packages/tqdm/auto.py:21: TqdmWarning: IProgress not found. Please update jupyter and ipywidgets. See https://ipywidgets.readthedocs.io/en/stable/user_install.html\n",
      "  from .autonotebook import tqdm as notebook_tqdm\n"
     ]
    }
   ],
   "source": [
    "import sys\n",
    "sys.path.append(\"./src\")\n",
    "from model_dict import *\n",
    "from inference import *\n",
    "import pandas as pd\n",
    "import guidance\n",
    "import json\n",
    "from tqdm import tqdm\n",
    "import matplotlib.pyplot as plt\n",
    "import seaborn as sns\n",
    "import numpy as np"
   ]
  },
  {
   "cell_type": "code",
   "execution_count": 2,
   "metadata": {},
   "outputs": [],
   "source": [
    "summ_path = '/Workspace/jh/SharedTask2023/data/summarization/dev_summarization.tsv'\n",
    "summ_df = pd.read_csv(summ_path, delimiter=\"\\t\", quoting=csv.QUOTE_NONE)"
   ]
  },
  {
   "cell_type": "code",
   "execution_count": 4,
   "metadata": {},
   "outputs": [
    {
     "name": "stderr",
     "output_type": "stream",
     "text": [
      "You are using the default legacy behaviour of the <class 'transformers.models.llama.tokenization_llama.LlamaTokenizer'>. If you see this, DO NOT PANIC! This is expected, and simply means that the `legacy` (previous) behavior will be used so nothing changes for you. If you want to use the new behaviour, set `legacy=True`. This should only be set if you understand what it means, and thouroughly read the reason why this was added as explained in https://github.com/huggingface/transformers/pull/24565\n"
     ]
    }
   ],
   "source": [
    "# WizardLM-13B-V1.1-GPTQ\n",
    "# Nous-Hermes-13b\n",
    "# guanaco-65B-GPTQ\n",
    "\n",
    "model_name = 'Nous-Hermes-13b'\n",
    "model_path = f'/Workspace/jh/SharedTask2023/models/{model_name}'\n",
    "\n",
    "model, tokenizer, u_prompt, a_prompt = load_from_catalogue(model_name, model_path)"
   ]
  },
  {
   "cell_type": "code",
   "execution_count": 5,
   "metadata": {},
   "outputs": [],
   "source": [
    "g_model = guidance.llms.Transformers(\n",
    "            model, tokenizer=tokenizer, trust_remote_code=True,\n",
    ")\n",
    "guidance.llms.Transformers.cache.clear()"
   ]
  },
  {
   "cell_type": "code",
   "execution_count": 6,
   "metadata": {},
   "outputs": [],
   "source": [
    "# we will use GPT-3 for most of the examples in this tutorial\n",
    "guidance.llm = g_model"
   ]
  },
  {
   "cell_type": "code",
   "execution_count": 7,
   "metadata": {},
   "outputs": [],
   "source": [
    "guidance.llm.cache.clear()\n",
    "torch.cuda.empty_cache()"
   ]
  },
  {
   "cell_type": "code",
   "execution_count": 8,
   "metadata": {},
   "outputs": [],
   "source": [
    "options = ['poor', 'fair', 'good', 'great', 'excellent']"
   ]
  },
  {
   "cell_type": "code",
   "execution_count": 11,
   "metadata": {},
   "outputs": [],
   "source": [
    "rank = {'poor':1,\n",
    "        'fair':2,\n",
    "        'good':3,\n",
    "        'great':4,\n",
    "        'excellent':5}"
   ]
  },
  {
   "cell_type": "code",
   "execution_count": 12,
   "metadata": {},
   "outputs": [],
   "source": [
    "eval_v2_confidence_prompt = '''\n",
    "{{prompt_placeholder}}\n",
    "You will be given one summary written for a source document.\n",
    "Your task is to rate the summary on one metric.\n",
    "Please make sure you read and understand these instructions carefully. Please keep this document open while reviewing, and refer to it as needed.\n",
    "    \n",
    "Evaluation Criteria:\n",
    "Coherence - the collective quality of all sentences.\\\n",
    " We align this dimension with the DUC quality question of structure and coherence whereby \\\n",
    " \"the summary should be well-structured and well-organized.\\\n",
    " The summary should not just be a heap of related information,\\\n",
    " but should build from sentence to a coherent body of information about a topic.\"\n",
    " \n",
    "Consistency - the factual alignment between the summary and the summarized source.\\\n",
    " A factually consistent summary contains only statements that are entailed by the source document.\\\n",
    " Annotators were also asked to penalize summaries that contained hallucinated facts. \n",
    "\n",
    "Relevance - selection of important content from the source. The summary should include only important information from the source document. Annotators were instructed to penalize summaries which contained redundancies and excess information.\n",
    "    \n",
    "Evaluation Steps for Coherence:\n",
    "1. Read the source document carefully and identify the main topic and key points.\n",
    "2. Read the summary and compare it to the source document.\\\n",
    "Check if the summary covers the main topic and key points of source document,\\\n",
    "and if it presents them in a clear and logical order\n",
    "3. Select a score for coherence among poor, fair, good, great, excellent. (poor is the lowest and excellent is the highest)\n",
    "\n",
    "Evaluation Steps for Consistency:\n",
    "1. Read the source document carefully and identify the main facts and details it presents.\n",
    "2. Read the summary and compare it to the source document.\\\n",
    " Check if the summary contains any factual errors that are not supported by the source document.\n",
    "3. Select a score for consistency among poor, fair, good, great, excellent. (poor is the lowest and excellent is the highest)\n",
    "\n",
    "Evaluation Steps for Relevance:\n",
    "1. Read the summary and the source document carefully.\n",
    "2. Compare the summary to the source document and identify the main points of the source document.\n",
    "3. Assess how well the summary covers the main points of the source document, and how much irrelevant or redundant information it contains.\n",
    "4. Select a score for relevance among poor, fair, good, great, excellent. (poor is the lowest and excellent is the highest)\n",
    "\n",
    "poor, fair, good, great, excellent, in that order, means a higher score.\n",
    "——\n",
    "Source text: {{gt}}\n",
    "Summary: {{hyp}}\n",
    "{{response_placeholder}}\n",
    "Coherence Score: {{select 'coherence' logprobs='coherence_probs' options=options}}\n",
    "Consistency Score: {{select 'consistency' logprobs='consistency_probs' options=options}}\n",
    "Relevance Score: {{select 'relevance' logprobs='relevance_probs' options=options}}\n",
    "'''"
   ]
  },
  {
   "cell_type": "code",
   "execution_count": 13,
   "metadata": {},
   "outputs": [
    {
     "name": "stderr",
     "output_type": "stream",
     "text": [
      "  0%|          | 0/1280 [00:00<?, ?it/s]/opt/conda/envs/Eval4NLP23/lib/python3.10/site-packages/transformers/generation/configuration_utils.py:362: UserWarning: `do_sample` is set to `False`. However, `temperature` is set to `0.0` -- this flag is only used in sample-based generation modes. You should set `do_sample=True` or unset `temperature`.\n",
      "  warnings.warn(\n",
      "100%|██████████| 1280/1280 [15:26<00:00,  1.38it/s]\n"
     ]
    }
   ],
   "source": [
    "results_v2_confidence = {\n",
    "           'coherence':[],\n",
    "           'consistency':[],\n",
    "           'relevance':[],\n",
    "           'summ':[],\n",
    "           'mean':[]\n",
    "           }\n",
    "\n",
    "SRC = summ_df['SRC']\n",
    "HYP = summ_df['HYP']\n",
    "score_of_rank = np.array(list(rank.values()))\n",
    "\n",
    "for idx in tqdm(range(len(SRC))):\n",
    "    \n",
    "    guidance.llm.cache.clear()\n",
    "\n",
    "    eval_program = guidance('''\n",
    "    {{eval_v2_prompt}}\n",
    "    ''')\n",
    "\n",
    "    executed_program = eval_program(\n",
    "        gt=SRC[idx],\n",
    "        hyp=HYP[idx],\n",
    "        eval_v2_prompt=eval_v2_confidence_prompt,\n",
    "        prompt_placeholder=u_prompt,\n",
    "        response_placeholder=a_prompt,\n",
    "        options=options,\n",
    "        silent=True)()\n",
    "    \n",
    "    coherence = np.sum(np.exp(list(executed_program['coherence_probs'].values()))*score_of_rank)\n",
    "    consistency = np.sum(np.exp(list(executed_program['consistency_probs'].values()))*score_of_rank)\n",
    "    relevance = np.sum(np.exp(list(executed_program['relevance_probs'].values()))*score_of_rank)\n",
    "    summ = coherence + consistency + relevance\n",
    "    mean = summ/3\n",
    "\n",
    "    results_v2_confidence['coherence'].append(coherence)\n",
    "    results_v2_confidence['consistency'].append(consistency)\n",
    "    results_v2_confidence['relevance'].append(relevance)\n",
    "    results_v2_confidence['summ'].append(summ)\n",
    "    results_v2_confidence['mean'].append(mean)\n",
    "    "
   ]
  },
  {
   "cell_type": "code",
   "execution_count": 16,
   "metadata": {},
   "outputs": [],
   "source": [
    "results_v2_confidence = pd.DataFrame(results_v2_confidence)"
   ]
  },
  {
   "cell_type": "code",
   "execution_count": 17,
   "metadata": {},
   "outputs": [],
   "source": [
    "output_path = '/Workspace/ky/SharedTask2023/results/summarization/Nous-Hermes-13b/dev/confidence'\n",
    "results_v2_confidence['mean'].to_csv(output_path + \".seg.scores\", header=False, index=False)"
   ]
  },
  {
   "cell_type": "code",
   "execution_count": null,
   "metadata": {},
   "outputs": [],
   "source": []
  },
  {
   "cell_type": "code",
   "execution_count": null,
   "metadata": {},
   "outputs": [],
   "source": []
  },
  {
   "cell_type": "markdown",
   "metadata": {},
   "source": [
    "# ToT test"
   ]
  },
  {
   "cell_type": "code",
   "execution_count": 6,
   "metadata": {},
   "outputs": [],
   "source": [
    "guidance.llm.cache.clear()\n",
    "torch.cuda.empty_cache()"
   ]
  },
  {
   "cell_type": "code",
   "execution_count": 7,
   "metadata": {},
   "outputs": [],
   "source": [
    "eval_prompt = '''\n",
    "{{prompt_placeholder}}\n",
    "You will be given one summary written for a source document.\n",
    "Your task is to rate the summary on one metric.\n",
    "Please make sure you read and understand these instructions carefully. Please keep this document open while reviewing, and refer to it as needed.\n",
    "    \n",
    "Evaluation Criteria:\n",
    "Coherence (1-5) - the collective quality of all sentences.\\\n",
    " We align this dimension with the DUC quality question of structure and coherence whereby \\\n",
    " \"the summary should be well-structured and well-organized.\\\n",
    " The summary should not just be a heap of related information,\\\n",
    " but should build from sentence to a coherent body of information about a topic.\"\n",
    " \n",
    "Consistency (1-5) - the factual alignment between the summary and the summarized source.\\\n",
    " A factually consistent summary contains only statements that are entailed by the source document.\\\n",
    " Annotators were also asked to penalize summaries that contained hallucinated facts. \n",
    "\n",
    "Relevance (1-5) - selection of important content from the source. The summary should include only important information from the source document. Annotators were instructed to penalize summaries which contained redundancies and excess information.\n",
    "    \n",
    "Evaluation Steps for Coherence:\n",
    "1. Read the source document carefully and identify the main topic and key points.\n",
    "2. Read the summary and compare it to the source document.\\\n",
    "Check if the summary covers the main topic and key points of source document,\\\n",
    "and if it presents them in a clear and logical order\n",
    "3. Assign a score for coherence on a scale of 1 to 5, where 1 is the lowest and 5 is the highest based on the Evaluation Criteria.\n",
    "\n",
    "Evaluation Steps for Consistency:\n",
    "1. Read the source document carefully and identify the main facts and details it presents.\n",
    "2. Read the summary and compare it to the source document.\\\n",
    " Check if the summary contains any factual errors that are not supported by the source document.\n",
    "3. Assign a score for consistency based on the Evaluation Criteria.\n",
    "\n",
    "Evaluation Steps for Relevance:\n",
    "1. Read the summary and the source document carefully.\n",
    "2. Compare the summary to the source document and identify the main points of the source document.\n",
    "3. Assess how well the summary covers the main points of the source document, and how much irrelevant or redundant information it contains.\n",
    "4. Assign a relevance score from 1 to 5.\n",
    "\n",
    "——\n",
    "Source text: {{gt}}\n",
    "Summary: {{hyp}}\n",
    "{{response_placeholder}}\n",
    "Coherence Score: {{gen 'coherence' pattern='(100|[1-9]?[0-9])'}}\n",
    "Consistency Score: {{gen 'consistency' pattern='(100|[1-9]?[0-9])'}}\n",
    "Relevance Score: {{gen 'relevance' pattern='(100|[1-9]?[0-9])'}}\n",
    "'''"
   ]
  },
  {
   "cell_type": "code",
   "execution_count": null,
   "metadata": {},
   "outputs": [],
   "source": [
    "summarization_prompt = '''\n",
    "{{prompt_placeholder}}\n",
    "You will be given a source document.\n",
    "Your task is to make the summary of the document.\n",
    "Please make sure you read and understand these instructions carefully. Please keep this document open while reviewing, and refer to it as needed.\n",
    "    \n",
    "Evaluation Criteria:\n",
    "Coherence (1-5) - the collective quality of all sentences.\\\n",
    " We align this dimension with the DUC quality question of structure and coherence whereby \\\n",
    " \"the summary should be well-structured and well-organized.\\\n",
    " The summary should not just be a heap of related information,\\\n",
    " but should build from sentence to a coherent body of information about a topic.\"\n",
    " \n",
    "Consistency (1-5) - the factual alignment between the summary and the summarized source.\\\n",
    " A factually consistent summary contains only statements that are entailed by the source document.\\\n",
    " Annotators were also asked to penalize summaries that contained hallucinated facts. \n",
    "\n",
    "Relevance (1-5) - selection of important content from the source. The summary should include only important information from the source document. Annotators were instructed to penalize summaries which contained redundancies and excess information.\n",
    "    \n",
    "Evaluation Steps for Coherence:\n",
    "1. Read the source document carefully and identify the main topic and key points.\n",
    "2. Read the summary and compare it to the source document.\\\n",
    "Check if the summary covers the main topic and key points of source document,\\\n",
    "and if it presents them in a clear and logical order\n",
    "3. Assign a score for coherence on a scale of 1 to 5, where 1 is the lowest and 5 is the highest based on the Evaluation Criteria.\n",
    "\n",
    "Evaluation Steps for Consistency:\n",
    "1. Read the source document carefully and identify the main facts and details it presents.\n",
    "2. Read the summary and compare it to the source document.\\\n",
    " Check if the summary contains any factual errors that are not supported by the source document.\n",
    "3. Assign a score for consistency based on the Evaluation Criteria.\n",
    "\n",
    "Evaluation Steps for Relevance:\n",
    "1. Read the summary and the source document carefully.\n",
    "2. Compare the summary to the source document and identify the main points of the source document.\n",
    "3. Assess how well the summary covers the main points of the source document, and how much irrelevant or redundant information it contains.\n",
    "4. Assign a relevance score from 1 to 5.\n",
    "\n",
    "——\n",
    "Source text: {{gt}}\n",
    "Summary: {{hyp}}\n",
    "{{response_placeholder}}\n",
    "Coherence Score: {{gen 'coherence' pattern='(100|[1-9]?[0-9])'}}\n",
    "Consistency Score: {{gen 'consistency' pattern='(100|[1-9]?[0-9])'}}\n",
    "Relevance Score: {{gen 'relevance' pattern='(100|[1-9]?[0-9])'}}"
   ]
  },
  {
   "cell_type": "code",
   "execution_count": 8,
   "metadata": {},
   "outputs": [],
   "source": [
    "import time\n",
    "import random"
   ]
  },
  {
   "cell_type": "code",
   "execution_count": 13,
   "metadata": {},
   "outputs": [],
   "source": [
    "random_prompt_key = str(time.time()*random.randint(1000,100000000))"
   ]
  },
  {
   "cell_type": "code",
   "execution_count": 14,
   "metadata": {},
   "outputs": [],
   "source": [
    " def invert_dicionary(obj):   \n",
    "    return {value: key for key, value in obj.items()}"
   ]
  },
  {
   "cell_type": "code",
   "execution_count": 15,
   "metadata": {},
   "outputs": [],
   "source": [
    "vocab = tokenizer.vocab"
   ]
  },
  {
   "cell_type": "code",
   "execution_count": 16,
   "metadata": {},
   "outputs": [
    {
     "data": {
      "text/plain": [
       "{'inkel': 27136,\n",
       " 'фа': 8685,\n",
       " 'meisterschaft': 28110,\n",
       " '▁dois': 19760,\n",
       " 'ском': 5540,\n",
       " '▁Notice': 16393,\n",
       " 'html': 1420,\n",
       " '▁BB': 29449,\n",
       " 'uture': 9130,\n",
       " '号': 30850,\n",
       " 'tol': 25027,\n",
       " 'Ġ': 31937,\n",
       " '▁Pfl': 28888,\n",
       " 'ping': 15702,\n",
       " '▁ursprüng': 24904,\n",
       " 'orithm': 4540,\n",
       " '▁Adams': 20359,\n",
       " 'varphi': 6827,\n",
       " 'equals': 10954,\n",
       " '▁Дж': 10626,\n",
       " 'istre': 22715,\n",
       " 'fluss': 26944,\n",
       " 'зин': 22745,\n",
       " 'ір': 15429,\n",
       " '▁Baron': 15991,\n",
       " '▁Anim': 24980,\n",
       " '▁deriv': 7750,\n",
       " 'ィ': 30532,\n",
       " '▁happ': 2250,\n",
       " '接': 31092,\n",
       " 'iec': 21199,\n",
       " '▁Polish': 19919,\n",
       " '▁reserved': 21676,\n",
       " '▁difficulty': 14656,\n",
       " 'hem': 8008,\n",
       " '▁especial': 11605,\n",
       " '▁Sir': 6290,\n",
       " 'нат': 29824,\n",
       " 'agi': 17698,\n",
       " '▁giving': 6820,\n",
       " 'old': 1025,\n",
       " 'integr': 14146,\n",
       " '▁Schauspieler': 19002,\n",
       " '▁[_': 23160,\n",
       " 'Active': 9966,\n",
       " '▁las': 1869,\n",
       " 'ган': 7478,\n",
       " 'products': 14456,\n",
       " '▁Mira': 29422,\n",
       " 'Cannot': 29089,\n",
       " 'ئ': 30818,\n",
       " '▁($\\\\': 20430,\n",
       " 'Brain': 22097,\n",
       " '▁herm': 18606,\n",
       " '▁business': 5381,\n",
       " 'operator': 6891,\n",
       " 'Tool': 12229,\n",
       " '▁bunch': 14928,\n",
       " 'ple': 552,\n",
       " 'Brush': 27680,\n",
       " '▁dét': 20854,\n",
       " '▁courage': 19872,\n",
       " '▁transform': 4327,\n",
       " '▁statistical': 24148,\n",
       " '▁soil': 22473,\n",
       " 'INT': 10192,\n",
       " '▁$$': 2046,\n",
       " '▁Film': 4643,\n",
       " '▁adj': 12109,\n",
       " 'версите': 10622,\n",
       " 'diff': 12765,\n",
       " '▁Phot': 19040,\n",
       " '▁Added': 25601,\n",
       " '▁NGC': 13928,\n",
       " '▁Mam': 27287,\n",
       " '▁Euro': 11652,\n",
       " '▁Nau': 26700,\n",
       " 'appendChild': 23850,\n",
       " 'I': 29902,\n",
       " 'ientes': 13833,\n",
       " '▁#': 396,\n",
       " 'ා': 31712,\n",
       " 'itung': 10125,\n",
       " 'bay': 27495,\n",
       " \"'.\": 4286,\n",
       " 'station': 19569,\n",
       " '▁coh': 16165,\n",
       " '▁characters': 4890,\n",
       " '▁акаде': 17670,\n",
       " '>>': 6778,\n",
       " '▁Britannica': 18940,\n",
       " '▁nie': 4930,\n",
       " 'psilon': 3232,\n",
       " '▁Roc': 25111,\n",
       " '▁\"</': 25225,\n",
       " '▁ID': 3553,\n",
       " '在': 30505,\n",
       " '▁Again': 11454,\n",
       " '▁sim': 1027,\n",
       " '▁Enc': 11346,\n",
       " '发': 30910,\n",
       " '▁modifications': 26278,\n",
       " '▁transaction': 10804,\n",
       " '▁Frei': 26272,\n",
       " 'च': 31132,\n",
       " '▁везе': 15871,\n",
       " 'ägt': 27512,\n",
       " '▁Cultura': 29685,\n",
       " '▁використову': 26720,\n",
       " '}}$': 7920,\n",
       " '▁protocol': 9608,\n",
       " 'occupation': 26601,\n",
       " '▁tabs': 18859,\n",
       " '▁filesystem': 22101,\n",
       " 'η': 30183,\n",
       " 'ended': 2760,\n",
       " 'ි': 31485,\n",
       " 'cial': 1455,\n",
       " 'Table': 3562,\n",
       " '▁describe': 8453,\n",
       " 'bank': 9157,\n",
       " '▁squad': 10023,\n",
       " 'éch': 17192,\n",
       " 'ове': 8381,\n",
       " '▁Bit': 18531,\n",
       " 'кал': 29228,\n",
       " 'Λ': 30455,\n",
       " '<0x7A>': 125,\n",
       " 'pass': 3364,\n",
       " 'ій': 3932,\n",
       " 'Microsoft': 11277,\n",
       " '▁scan': 12812,\n",
       " '▁bundle': 11846,\n",
       " '▁park': 14089,\n",
       " 'пня': 14840,\n",
       " '▁segunda': 17329,\n",
       " 'roph': 19783,\n",
       " 'icha': 24227,\n",
       " '▁requires': 6858,\n",
       " '▁ble': 10767,\n",
       " '▁mús': 12228,\n",
       " '▁pt': 19592,\n",
       " 'ieron': 10243,\n",
       " '▁chip': 29830,\n",
       " 'notin': 29842,\n",
       " '▁humor': 27448,\n",
       " 'Tags': 28089,\n",
       " '▁ней': 25755,\n",
       " '▁surv': 10503,\n",
       " '▁()': 3861,\n",
       " 'al': 284,\n",
       " 'is': 275,\n",
       " '\\\\<^': 10553,\n",
       " '▁kindly': 25036,\n",
       " '▁Neg': 12610,\n",
       " '▁Victor': 12684,\n",
       " '▁Lu': 3182,\n",
       " 'դ': 31387,\n",
       " '王': 30462,\n",
       " '▁ignored': 17262,\n",
       " '▁\"%': 11860,\n",
       " 'dst': 22992,\n",
       " '▁zip': 14319,\n",
       " 'зо': 4734,\n",
       " 'ualmente': 14162,\n",
       " 'bundle': 16718,\n",
       " 'man': 1171,\n",
       " '▁miejsce': 16045,\n",
       " '▁suggested': 7829,\n",
       " 'heet': 4155,\n",
       " '▁Pl': 1858,\n",
       " '▁turn': 2507,\n",
       " '▁escape': 10169,\n",
       " '▁kül': 26337,\n",
       " 'ты': 3327,\n",
       " '▁Hyper': 26078,\n",
       " '▁Geb': 6882,\n",
       " 'yellow': 29136,\n",
       " '▁he': 540,\n",
       " '▁women': 5866,\n",
       " '▁stock': 10961,\n",
       " '▁appe': 5929,\n",
       " 'brand': 16472,\n",
       " 'Ind': 2568,\n",
       " 'schnitt': 19564,\n",
       " 'Ready': 28181,\n",
       " '▁genu': 29120,\n",
       " 'dar': 16702,\n",
       " '▁Presidente': 28828,\n",
       " 'Lock': 16542,\n",
       " '▁Rav': 28093,\n",
       " 'ieux': 13805,\n",
       " '▁ря': 22894,\n",
       " '▁random': 4036,\n",
       " 'user': 1792,\n",
       " 'storage': 12925,\n",
       " 'gender': 26098,\n",
       " 'cente': 21450,\n",
       " 'ughing': 29700,\n",
       " '▁PS': 11323,\n",
       " '▁doi': 13102,\n",
       " 'books': 12733,\n",
       " '<0xC0>': 195,\n",
       " 'äl': 5581,\n",
       " 'Bob': 29362,\n",
       " '▁Storia': 19719,\n",
       " '▁raggi': 21359,\n",
       " 'че': 1093,\n",
       " 'onaut': 20546,\n",
       " '▁loss': 6410,\n",
       " '▁com': 419,\n",
       " 'Sim': 8942,\n",
       " '▁Ier': 26107,\n",
       " 'leq': 3797,\n",
       " '▁vs': 7186,\n",
       " 'nabla': 8511,\n",
       " '}>': 17428,\n",
       " '▁Arnold': 20720,\n",
       " 'xhtml': 28392,\n",
       " '▁Федерации': 29343,\n",
       " '▁intersection': 17686,\n",
       " '▁elev': 11858,\n",
       " 'ighth': 18919,\n",
       " '▁ful': 6095,\n",
       " 'zahl': 17301,\n",
       " '▁drums': 28987,\n",
       " 'aker': 5790,\n",
       " '▁estruct': 26530,\n",
       " '▁calculate': 8147,\n",
       " 'Multimedia': 11930,\n",
       " 'нос': 22953,\n",
       " '“': 30015,\n",
       " '\\\\}$': 11854,\n",
       " '▁Finale': 29518,\n",
       " 'ナ': 30576,\n",
       " 'turn': 685,\n",
       " 'pub': 5467,\n",
       " '▁famille': 11449,\n",
       " '▁contrast': 12814,\n",
       " '/\"': 12975,\n",
       " 'ete': 2650,\n",
       " '▁uncertain': 17999,\n",
       " '.....': 18598,\n",
       " '▁bid': 21000,\n",
       " 'oux': 13375,\n",
       " '▁guerre': 12573,\n",
       " 'elte': 14248,\n",
       " 'Th': 1349,\n",
       " '▁così': 16425,\n",
       " 'ographic': 12122,\n",
       " '▁Mon': 2598,\n",
       " 'вет': 7616,\n",
       " '▁{{': 8620,\n",
       " 'зня': 17050,\n",
       " 'heart': 23057,\n",
       " 'orton': 26342,\n",
       " 'fred': 18447,\n",
       " '▁райо': 9328,\n",
       " 'FO': 5800,\n",
       " 'ético': 23284,\n",
       " '▁gros': 26379,\n",
       " '▁Lady': 10040,\n",
       " '▁Cape': 20922,\n",
       " '▁Josef': 17374,\n",
       " '▁hope': 4966,\n",
       " '▁Кара': 28969,\n",
       " 'ären': 22482,\n",
       " 'ountry': 9729,\n",
       " \"'];\": 8219,\n",
       " 'orter': 9555,\n",
       " '▁numer': 4825,\n",
       " '▁November': 3979,\n",
       " '\\\\,': 5940,\n",
       " '▁city': 4272,\n",
       " 'той': 14820,\n",
       " 'keeper': 23935,\n",
       " '▁Demo': 27819,\n",
       " 'itled': 17707,\n",
       " '▁girl': 7826,\n",
       " '▁spher': 26903,\n",
       " '▁whites': 18960,\n",
       " '▁conjug': 25482,\n",
       " '▁thread': 3244,\n",
       " 'нів': 14052,\n",
       " 'student': 18945,\n",
       " '▁grado': 25794,\n",
       " 'ʹ': 30820,\n",
       " '▁interpreted': 21551,\n",
       " 'boost': 17079,\n",
       " 'ure': 545,\n",
       " 'mag': 11082,\n",
       " '▁device': 4742,\n",
       " 'nothing': 28450,\n",
       " '▁Bureau': 18903,\n",
       " 'heiten': 21795,\n",
       " '▁funkc': 25357,\n",
       " '▁Ressource': 27365,\n",
       " 'cza': 28849,\n",
       " '食': 31855,\n",
       " 'illiant': 23951,\n",
       " '▁proportion': 18618,\n",
       " '▁ri': 10107,\n",
       " '▁dus': 28226,\n",
       " '▁intuit': 27951,\n",
       " 'HE': 9606,\n",
       " '▁trim': 17151,\n",
       " '▁Алек': 23225,\n",
       " '▁tuple': 18761,\n",
       " 'addle': 22352,\n",
       " 'прия': 22346,\n",
       " 'ços': 16152,\n",
       " \"(['\": 18959,\n",
       " '▁detect': 6459,\n",
       " '▁searched': 17371,\n",
       " 'substr': 27790,\n",
       " '▁odd': 7736,\n",
       " '▁fueron': 12004,\n",
       " '>();': 8295,\n",
       " 'ai': 1794,\n",
       " '▁któ': 6738,\n",
       " '▁embed': 8297,\n",
       " 'Su': 5091,\n",
       " '▁Administr': 24510,\n",
       " 'Esp': 15784,\n",
       " '▁\\\\[\\\\': 18024,\n",
       " '▁decid': 18937,\n",
       " '⁻': 30760,\n",
       " 'angle': 2521,\n",
       " '▁nag': 17995,\n",
       " 'ività': 22409,\n",
       " 'erner': 15479,\n",
       " '▁Tr': 1605,\n",
       " 'see': 4149,\n",
       " '▁Spo': 24674,\n",
       " 'get': 657,\n",
       " '<0x54>': 87,\n",
       " '▁jobs': 17643,\n",
       " '▁Å': 11260,\n",
       " 'Edit': 6103,\n",
       " 'ο': 30123,\n",
       " '者': 30767,\n",
       " '▁зна': 6253,\n",
       " 'keiten': 14027,\n",
       " 'hor': 2015,\n",
       " 'sel': 2838,\n",
       " '▁Entertainment': 18189,\n",
       " '▁diffus': 25876,\n",
       " '▁través': 18198,\n",
       " 'flug': 24545,\n",
       " '<0xA1>': 164,\n",
       " 'стве': 9374,\n",
       " 'egy': 11125,\n",
       " 'primary': 16072,\n",
       " '▁Gun': 21429,\n",
       " 'rong': 29373,\n",
       " 'UTE': 26027,\n",
       " '▁similar': 2788,\n",
       " '▁riv': 9050,\n",
       " 'hoff': 29327,\n",
       " 'Ori': 15988,\n",
       " '▁Mexican': 24777,\n",
       " 'ssl': 16265,\n",
       " '▁пу': 8430,\n",
       " '▁Dup': 18733,\n",
       " 'ഷ': 31921,\n",
       " '▁Nation': 22900,\n",
       " '智': 31676,\n",
       " '▁Dor': 9579,\n",
       " 'lach': 22617,\n",
       " 'щее': 27483,\n",
       " 'cide': 8204,\n",
       " '▁zw': 5263,\n",
       " 'ero': 1489,\n",
       " 'alty': 18745,\n",
       " 'icki': 26894,\n",
       " 'formation': 5404,\n",
       " '▁notice': 8369,\n",
       " '主': 30888,\n",
       " '伝': 31445,\n",
       " 'Europe': 15654,\n",
       " '▁attitude': 26309,\n",
       " 'зько': 28471,\n",
       " '▁rectangle': 16701,\n",
       " '▁Pin': 17434,\n",
       " '▁réseau': 28710,\n",
       " '▁bir': 29773,\n",
       " '▁getting': 2805,\n",
       " '▁Да': 8371,\n",
       " 'tags': 11338,\n",
       " '을': 31286,\n",
       " \">';\": 23625,\n",
       " '▁relax': 26681,\n",
       " '▁lavor': 17656,\n",
       " '▁impos': 7275,\n",
       " 'Standard': 15449,\n",
       " 'kb': 21066,\n",
       " '▁Corporation': 15025,\n",
       " '********': 4189,\n",
       " 'Default': 4592,\n",
       " 'sen': 4881,\n",
       " 'Manager': 3260,\n",
       " 'ály': 7837,\n",
       " '▁robot': 19964,\n",
       " 'ками': 13021,\n",
       " 'CUR': 22484,\n",
       " 'ína': 28309,\n",
       " 'ública': 11632,\n",
       " '▁rende': 19643,\n",
       " 'ulse': 19994,\n",
       " 'iry': 16129,\n",
       " 'owski': 11716,\n",
       " '▁convenience': 29703,\n",
       " 'strong': 1110,\n",
       " '▁Title': 18527,\n",
       " '▁joy': 15331,\n",
       " 'space': 3493,\n",
       " '▁Wilson': 13015,\n",
       " '▁Bibliografía': 29054,\n",
       " '▁categories': 13997,\n",
       " 'ensuremath': 8065,\n",
       " '▁Bildern': 11588,\n",
       " 'oker': 17933,\n",
       " 'ourg': 18041,\n",
       " 'erd': 2018,\n",
       " '▁logic': 5900,\n",
       " 'empre': 25049,\n",
       " '▁between': 1546,\n",
       " 'admin': 6406,\n",
       " 'ologne': 13835,\n",
       " 'ry': 719,\n",
       " '▁Colonel': 16893,\n",
       " 'rowser': 8777,\n",
       " 'ológ': 13567,\n",
       " 'Managed': 26542,\n",
       " '▁Silver': 16466,\n",
       " '▁multiple': 2999,\n",
       " '▁lire': 22272,\n",
       " 'ния': 1587,\n",
       " '▁counted': 29115,\n",
       " '▁Saturday': 24211,\n",
       " '▁medical': 16083,\n",
       " '▁Agent': 28330,\n",
       " 'ft': 615,\n",
       " 'bes': 5707,\n",
       " 'Generated': 24565,\n",
       " '▁marc': 25335,\n",
       " 'jem': 12701,\n",
       " '▁presente': 20753,\n",
       " '▁(\"': 4852,\n",
       " '▁tanto': 12264,\n",
       " '▁Y': 612,\n",
       " 'ző': 9357,\n",
       " '▁gravity': 20953,\n",
       " '▁compress': 27122,\n",
       " '▁Kloster': 25916,\n",
       " 'lp': 22833,\n",
       " 'elin': 24446,\n",
       " '합': 31980,\n",
       " '▁initialization': 17865,\n",
       " '寺': 30951,\n",
       " '▁попу': 21440,\n",
       " '▁гово': 29554,\n",
       " 'ке': 2476,\n",
       " 'зь': 8904,\n",
       " 'хів': 9198,\n",
       " '▁Jew': 9576,\n",
       " 'varepsilon': 6018,\n",
       " 'ské': 10746,\n",
       " '▁zam': 14583,\n",
       " 'chain': 14153,\n",
       " 'agnet': 22414,\n",
       " '▁axes': 27815,\n",
       " '∆': 31576,\n",
       " 'uid': 5416,\n",
       " 'zone': 8028,\n",
       " 'Қ': 30925,\n",
       " '▁H': 379,\n",
       " 'dated': 9715,\n",
       " '▁Lith': 27620,\n",
       " '▁Cry': 22121,\n",
       " 'iteit': 22634,\n",
       " '▁azon': 26363,\n",
       " 'valueOf': 25835,\n",
       " 'рито': 10942,\n",
       " 'Keys': 15506,\n",
       " '▁seis': 26251,\n",
       " '▁Sele': 28051,\n",
       " 'gre': 7979,\n",
       " 'utes': 2667,\n",
       " '¤': 30435,\n",
       " 'お': 30697,\n",
       " 'iro': 3350,\n",
       " '▁equ': 1592,\n",
       " 'slider': 23165,\n",
       " '▁Edinburgh': 25200,\n",
       " 'ése': 10237,\n",
       " 'ierung': 7263,\n",
       " 'widget': 8030,\n",
       " ')\\\\,': 24224,\n",
       " '▁reviews': 21804,\n",
       " 'umeric': 25099,\n",
       " '▁UEFA': 18633,\n",
       " '▁punk': 21356,\n",
       " '▁в': 490,\n",
       " '▁Mr': 3237,\n",
       " '▁sacr': 19886,\n",
       " 'issance': 9948,\n",
       " '▁Sp': 1706,\n",
       " '▁calcul': 3408,\n",
       " '▁Lat': 7053,\n",
       " '角': 31432,\n",
       " '▁exc': 5566,\n",
       " '▁Stefan': 21512,\n",
       " 'ements': 4110,\n",
       " '▁haven': 7359,\n",
       " '▁positions': 11909,\n",
       " '▁precip': 25720,\n",
       " '▁historian': 27629,\n",
       " 'alter': 13794,\n",
       " '▁expensive': 19390,\n",
       " '▁cou': 3581,\n",
       " '▁très': 9577,\n",
       " '▁intensity': 26171,\n",
       " '▁];': 12940,\n",
       " 'Cmd': 23651,\n",
       " '▁interview': 15593,\n",
       " '▁Match': 14514,\n",
       " '▁Arn': 13767,\n",
       " 'ivamente': 11778,\n",
       " 'mor': 12257,\n",
       " '▁ing': 2348,\n",
       " '▁struck': 15469,\n",
       " 'ikan': 7941,\n",
       " 'ATH': 7534,\n",
       " '▁layer': 7546,\n",
       " '▁Ti': 18439,\n",
       " '▁inserting': 23800,\n",
       " 'ק': 30433,\n",
       " '▁overlay': 27292,\n",
       " '▁merchant': 29055,\n",
       " '▁recognize': 18720,\n",
       " '▁black': 4628,\n",
       " '▁fairly': 12558,\n",
       " '▁Select': 7605,\n",
       " '▁General': 4593,\n",
       " '▁sta': 9523,\n",
       " 'atra': 16546,\n",
       " '▁півні': 28182,\n",
       " '▁gegründ': 18183,\n",
       " ')(': 5033,\n",
       " 'û': 30095,\n",
       " '▁вико': 13570,\n",
       " 'ze': 911,\n",
       " '▁Warsza': 12999,\n",
       " '▁Pad': 18011,\n",
       " 'wei': 26599,\n",
       " '▁sm': 1560,\n",
       " '▁Yan': 23094,\n",
       " '▁placing': 24421,\n",
       " '▁supported': 6969,\n",
       " '▁Fix': 24778,\n",
       " 'Cookie': 24914,\n",
       " 'Gen': 15462,\n",
       " '▁haben': 10290,\n",
       " '▁este': 4404,\n",
       " 'mine': 24669,\n",
       " '▁против': 12411,\n",
       " '▁Bra': 5032,\n",
       " '▁Height': 22907,\n",
       " 'ítás': 18223,\n",
       " '▁место': 14179,\n",
       " 'pez': 14001,\n",
       " '▁since': 1951,\n",
       " '▁lock': 7714,\n",
       " '▁Royal': 7021,\n",
       " '▁law': 4307,\n",
       " 'ila': 4233,\n",
       " '▁CURL': 24222,\n",
       " '▁Mike': 12828,\n",
       " '▁Hockey': 19993,\n",
       " 'ún': 7012,\n",
       " '▁lé': 22109,\n",
       " '▁Perform': 27313,\n",
       " '▁fet': 27431,\n",
       " '日': 30325,\n",
       " '甲': 31843,\n",
       " '▁forty': 20949,\n",
       " '▁Agr': 16503,\n",
       " 'operatorname': 9158,\n",
       " 'riors': 28739,\n",
       " 'тор': 2374,\n",
       " 'se': 344,\n",
       " 'од': 10285,\n",
       " 'REE': 21661,\n",
       " 'panel': 15119,\n",
       " 'ný': 16484,\n",
       " '▁optimize': 24656,\n",
       " '▁Old': 8198,\n",
       " 'ien': 819,\n",
       " '▁cd': 14965,\n",
       " 'ol': 324,\n",
       " '▁dying': 27116,\n",
       " 'ḥ': 30327,\n",
       " 'bling': 21435,\n",
       " '▁Cav': 20354,\n",
       " '▁Бо': 6281,\n",
       " '▁instead': 2012,\n",
       " 'DA': 7698,\n",
       " '........': 11296,\n",
       " '▁Total': 14990,\n",
       " 'rol': 1467,\n",
       " 'pmod': 28871,\n",
       " 'Choice': 29620,\n",
       " 'Sem': 28516,\n",
       " '<0x62>': 101,\n",
       " 'áv': 10025,\n",
       " 'wort': 17572,\n",
       " 'ństw': 29698,\n",
       " 'with': 2541,\n",
       " 'rolled': 24476,\n",
       " '▁Gü': 26315,\n",
       " 'Release': 19729,\n",
       " 'osph': 25715,\n",
       " '▁советский': 25412,\n",
       " '▁Jur': 16081,\n",
       " '▁imperial': 26990,\n",
       " '▁normal': 4226,\n",
       " 'éső': 29464,\n",
       " 'Po': 9837,\n",
       " '▁invånare': 17076,\n",
       " '▁−': 13935,\n",
       " '▁absolv': 28994,\n",
       " '▁lá': 24303,\n",
       " '▁Organisation': 25783,\n",
       " '▁monitoring': 29652,\n",
       " '▁provincial': 25750,\n",
       " 'lywood': 16239,\n",
       " '▁recognized': 14831,\n",
       " 'let': 1026,\n",
       " '选': 31333,\n",
       " 'Pro': 1184,\n",
       " '▁Ses': 22948,\n",
       " '▁mayo': 7502,\n",
       " '▁///': 4363,\n",
       " '▁eastern': 18632,\n",
       " 'My': 3421,\n",
       " '▁tap': 18751,\n",
       " 'verify': 27902,\n",
       " 'цион': 9610,\n",
       " '▁voltage': 11749,\n",
       " '▁due': 2861,\n",
       " '▁Jas': 28725,\n",
       " 'ens': 575,\n",
       " '▁facing': 14870,\n",
       " 'лько': 9298,\n",
       " '▁dependence': 26307,\n",
       " '▁siempre': 26692,\n",
       " '▁rok': 28159,\n",
       " 'schau': 29172,\n",
       " '▁Schutz': 27651,\n",
       " '▁variance': 20162,\n",
       " '▁Geschäft': 27670,\n",
       " '▁javax': 11317,\n",
       " 'ambda': 2269,\n",
       " 'fur': 22613,\n",
       " 'bos': 27737,\n",
       " '弘': 31998,\n",
       " 'notification': 24671,\n",
       " 'ancement': 27967,\n",
       " 'categories': 20683,\n",
       " 'ople': 1991,\n",
       " '▁###': 835,\n",
       " '体': 30988,\n",
       " '▁enter': 3896,\n",
       " 'demic': 24552,\n",
       " 'atherine': 16490,\n",
       " '▁vert': 4837,\n",
       " 'ý': 30052,\n",
       " '▁спи': 27768,\n",
       " '▁Haus': 10727,\n",
       " 'рей': 10786,\n",
       " '▁alive': 18758,\n",
       " '▁newer': 20687,\n",
       " '▁ggplot': 25662,\n",
       " '▁these': 1438,\n",
       " '}=': 5369,\n",
       " 'Sh': 2713,\n",
       " '▁жизни': 23101,\n",
       " '▁revis': 23484,\n",
       " '▁broadcast': 12672,\n",
       " '▁singer': 15640,\n",
       " 'agyar': 27913,\n",
       " '▁virtue': 27935,\n",
       " '▁’': 16156,\n",
       " '清': 30989,\n",
       " '▁associ': 4067,\n",
       " '▁theme': 10929,\n",
       " 'flutter': 20126,\n",
       " '▁персона': 27485,\n",
       " '▁занима': 18812,\n",
       " 'न': 30424,\n",
       " '▁dont': 4555,\n",
       " 'Binding': 9270,\n",
       " 'cri': 699,\n",
       " '▁autres': 10890,\n",
       " '▁Douglas': 16721,\n",
       " '▁stick': 12070,\n",
       " 'apache': 4288,\n",
       " 'second': 7496,\n",
       " '▁suggesting': 26233,\n",
       " '▁closely': 16467,\n",
       " 'ombres': 20934,\n",
       " '▁Александ': 11743,\n",
       " ':--': 20296,\n",
       " '▁Naz': 11409,\n",
       " 'cola': 15519,\n",
       " 'ná': 13980,\n",
       " '▁providing': 13138,\n",
       " '沙': 31476,\n",
       " '()))': 22130,\n",
       " '▁Ara': 25953,\n",
       " 'halb': 11820,\n",
       " 'лли': 15216,\n",
       " '<0x72>': 117,\n",
       " '...)': 11410,\n",
       " 'viously': 16604,\n",
       " 'kv': 27049,\n",
       " '▁auteurs': 19117,\n",
       " '▁Updated': 25723,\n",
       " '▁walls': 14603,\n",
       " 'Formatter': 18522,\n",
       " '▁Point': 8984,\n",
       " 'osed': 2662,\n",
       " '▁Ehe': 24180,\n",
       " '▁fork': 27350,\n",
       " '▁Uri': 21670,\n",
       " '死': 31580,\n",
       " 'erten': 19106,\n",
       " '▁quantity': 14728,\n",
       " '▁refused': 15964,\n",
       " 'Ć': 30479,\n",
       " 'ashion': 10904,\n",
       " 'itare': 25952,\n",
       " '羅': 31741,\n",
       " 'udent': 10385,\n",
       " '▁Dialog': 18878,\n",
       " '▁Byte': 19831,\n",
       " '▁kap': 10494,\n",
       " '▁subm': 11834,\n",
       " '▁Houston': 24327,\n",
       " '▁röm': 26248,\n",
       " '洞': 31886,\n",
       " 'perl': 22032,\n",
       " '▁tyl': 28918,\n",
       " 'ম': 31006,\n",
       " '▁automatically': 6336,\n",
       " '▁selection': 9262,\n",
       " '▁cho': 3060,\n",
       " 'xiv': 26560,\n",
       " '▁Vue': 22518,\n",
       " '▁Cette': 10793,\n",
       " '影': 31619,\n",
       " '▁einer': 3422,\n",
       " '▁lose': 14074,\n",
       " '▁estava': 24137,\n",
       " '▁ensuite': 18158,\n",
       " 'び': 31298,\n",
       " 'Je': 13836,\n",
       " 'txt': 3945,\n",
       " '▁nej': 17315,\n",
       " '▁none': 5642,\n",
       " '▁grounds': 25502,\n",
       " '▁speed': 6210,\n",
       " '▁osc': 15199,\n",
       " 'INFO': 11690,\n",
       " 'Head': 5494,\n",
       " '▁story': 5828,\n",
       " '▁execut': 6704,\n",
       " '),(': 21336,\n",
       " '▁Studien': 27989,\n",
       " '▁Phoenix': 29715,\n",
       " 'ската': 20276,\n",
       " '▁elect': 3546,\n",
       " '▁wounded': 19747,\n",
       " 'vens': 9852,\n",
       " 'érique': 20600,\n",
       " '▁directories': 17525,\n",
       " '▁street': 11952,\n",
       " '▁adding': 4417,\n",
       " '▁moi': 19601,\n",
       " 'scene': 24645,\n",
       " 'comes': 26807,\n",
       " '▁vida': 10828,\n",
       " '联': 31986,\n",
       " '▁clean': 5941,\n",
       " 'esi': 10100,\n",
       " '▁города': 13867,\n",
       " '▁sensor': 23530,\n",
       " '\\\\]': 18899,\n",
       " '▁esterni': 7683,\n",
       " 'Upload': 17553,\n",
       " '▁zwischen': 7831,\n",
       " '▁listener': 13254,\n",
       " '▁лет': 10975,\n",
       " '▁analyz': 29537,\n",
       " 'zych': 18794,\n",
       " 'Ë': 30949,\n",
       " '▁län': 11633,\n",
       " '▁Ko': 8224,\n",
       " 'down': 3204,\n",
       " 'ferred': 14373,\n",
       " 'ственной': 15138,\n",
       " '▁última': 19463,\n",
       " 'iv': 440,\n",
       " '▁feature': 4682,\n",
       " 'rock': 20821,\n",
       " 'änn': 21922,\n",
       " '▁cas': 3209,\n",
       " '▁cardinal': 21008,\n",
       " 'èces': 17893,\n",
       " '▁cantante': 23689,\n",
       " 'orith': 3751,\n",
       " '▁cinemat': 25955,\n",
       " 'OW': 9806,\n",
       " '▁cha': 10329,\n",
       " '▁sympt': 25828,\n",
       " 'bij': 19352,\n",
       " '▁plot': 6492,\n",
       " '▁provin': 8482,\n",
       " '▁Sample': 21029,\n",
       " '▁compute': 10272,\n",
       " 'DR': 8353,\n",
       " '▁inve': 22808,\n",
       " '▁decimal': 13677,\n",
       " '▁cross': 4891,\n",
       " 'Rob': 21860,\n",
       " '▁statement': 3229,\n",
       " '▁Zone': 24385,\n",
       " '▁nada': 25801,\n",
       " 'Lond': 26682,\n",
       " '▁bin': 9016,\n",
       " '▁Erik': 23599,\n",
       " '▁polski': 26685,\n",
       " '▁assume': 5251,\n",
       " '井': 30945,\n",
       " '典': 31259,\n",
       " 'now': 3707,\n",
       " 'fection': 20309,\n",
       " '▁название': 24143,\n",
       " '▁DR': 26900,\n",
       " '▁eredet': 21243,\n",
       " '▁overlap': 25457,\n",
       " '▁commits': 25741,\n",
       " '▁eq': 11594,\n",
       " 'aka': 8245,\n",
       " '▁Kind': 13187,\n",
       " '▁prevents': 28057,\n",
       " '▁frü': 16974,\n",
       " '▁сельсов': 29162,\n",
       " '▁paździer': 23795,\n",
       " '▁oktober': 19306,\n",
       " 'odia': 26942,\n",
       " '▁indu': 9013,\n",
       " '▁begin': 3380,\n",
       " '--\"': 13869,\n",
       " '▁puede': 11493,\n",
       " '▁mare': 19287,\n",
       " 'тература': 12261,\n",
       " '▁aos': 21405,\n",
       " '▁hem': 9736,\n",
       " '过': 31138,\n",
       " '▁gentle': 9914,\n",
       " '▁ge': 1737,\n",
       " 'anim': 11576,\n",
       " '▁variations': 21833,\n",
       " 'world': 11526,\n",
       " 'out': 449,\n",
       " \"▁$('#\": 7552,\n",
       " '▁apply': 3394,\n",
       " 'œuvre': 19898,\n",
       " 'seite': 11485,\n",
       " '▁hold': 4808,\n",
       " '▁differently': 17587,\n",
       " '▁Andre': 27221,\n",
       " 'atura': 7969,\n",
       " '▁SQL': 3758,\n",
       " '▁meets': 28103,\n",
       " 'Subject': 20622,\n",
       " '▁FROM': 3895,\n",
       " 'рал': 12454,\n",
       " 'xls': 20267,\n",
       " '▁Stato': 29481,\n",
       " 'àt': 29155,\n",
       " '▁Ross': 13693,\n",
       " 'String': 1231,\n",
       " 'oon': 6150,\n",
       " '▁`--': 22974,\n",
       " 'loading': 13234,\n",
       " '▁Hmm': 28756,\n",
       " 'blem': 1031,\n",
       " 'ἡ': 31598,\n",
       " '▁Ch': 678,\n",
       " ')^': 4887,\n",
       " '▁así': 12606,\n",
       " '▁Cz': 15185,\n",
       " 'ensure': 7469,\n",
       " 'General': 15263,\n",
       " '₁': 30148,\n",
       " '▁Janu': 3612,\n",
       " 'рак': 10006,\n",
       " '▁planned': 20458,\n",
       " '▁games': 8090,\n",
       " '▁dv': 14897,\n",
       " '▁Ener': 15163,\n",
       " '▁Gust': 12512,\n",
       " '▁Cov': 25669,\n",
       " 'оло': 6157,\n",
       " '▁Daar': 26105,\n",
       " '▁Toul': 24649,\n",
       " '▁ent': 875,\n",
       " '▁contradict': 27877,\n",
       " 'create': 3258,\n",
       " '▁callback': 6939,\n",
       " '▁){': 29545,\n",
       " '▁ded': 28262,\n",
       " '▁condado': 25450,\n",
       " '▁tiene': 10258,\n",
       " '▁faced': 20050,\n",
       " 'ibility': 4127,\n",
       " 'ե': 30516,\n",
       " '▁médec': 25974,\n",
       " '▁Site': 10781,\n",
       " 'ди': 956,\n",
       " 'рес': 19961,\n",
       " 'iszt': 26409,\n",
       " '▁Adolf': 21834,\n",
       " '▁god': 7339,\n",
       " 'oggle': 9804,\n",
       " 'KS': 17557,\n",
       " '▁hom': 3632,\n",
       " 'ственных': 26090,\n",
       " '▁supply': 11421,\n",
       " '▁Vor': 6266,\n",
       " 'tero': 24175,\n",
       " '▁firewall': 25570,\n",
       " '▁seemed': 6140,\n",
       " '▁hinter': 22013,\n",
       " '▁amen': 28332,\n",
       " '▁представ': 11876,\n",
       " '▁terrest': 27386,\n",
       " '▁<': 529,\n",
       " '完': 31366,\n",
       " 'amb': 1117,\n",
       " '▁ство': 21417,\n",
       " 'iale': 4379,\n",
       " 'кли': 24018,\n",
       " 'вич': 9614,\n",
       " '▁special': 4266,\n",
       " 'ang': 574,\n",
       " 'жан': 23211,\n",
       " 'limp': 12552,\n",
       " 'agli': 27273,\n",
       " 'し': 30326,\n",
       " '▁reports': 13676,\n",
       " '.—': 22416,\n",
       " '▁eigen': 7388,\n",
       " 'pr': 558,\n",
       " 'ural': 3631,\n",
       " 'fonts': 28586,\n",
       " 'ニ': 30635,\n",
       " 'ensoort': 26006,\n",
       " '<0x13>': 22,\n",
       " '▁named': 4257,\n",
       " '▁partitions': 23629,\n",
       " ',”': 3995,\n",
       " 'esehen': 25310,\n",
       " 'UIView': 26726,\n",
       " '▁not': 451,\n",
       " '▁functions': 3168,\n",
       " '▁coloc': 28853,\n",
       " 'ta': 941,\n",
       " 'ettes': 21158,\n",
       " 'フ': 30423,\n",
       " '▁gradient': 16030,\n",
       " 'agrant': 29592,\n",
       " 'ர': 30966,\n",
       " '▁beide': 23847,\n",
       " '▁invariant': 22619,\n",
       " 'Begin': 17946,\n",
       " 'преде': 16143,\n",
       " '▁Aug': 22333,\n",
       " '▁website': 4700,\n",
       " 'Env': 21745,\n",
       " '▁besch': 8702,\n",
       " '▁листо': 24621,\n",
       " '龍': 31239,\n",
       " '▁савез': 17391,\n",
       " 'ulative': 28524,\n",
       " '▁foc': 12789,\n",
       " '▁Gor': 18686,\n",
       " ...}"
      ]
     },
     "execution_count": 16,
     "metadata": {},
     "output_type": "execute_result"
    }
   ],
   "source": [
    "vocab"
   ]
  },
  {
   "cell_type": "code",
   "execution_count": 17,
   "metadata": {},
   "outputs": [],
   "source": [
    "vocab = tokenizer.vocab"
   ]
  },
  {
   "cell_type": "code",
   "execution_count": 18,
   "metadata": {},
   "outputs": [],
   "source": [
    "inverted_vocab = invert_dicionary(vocab)"
   ]
  },
  {
   "cell_type": "code",
   "execution_count": 19,
   "metadata": {},
   "outputs": [
    {
     "data": {
      "text/plain": [
       "'UD'"
      ]
     },
     "execution_count": 19,
     "metadata": {},
     "output_type": "execute_result"
    }
   ],
   "source": [
    "inverted_vocab[random.randint(0,32000)]"
   ]
  },
  {
   "cell_type": "code",
   "execution_count": 20,
   "metadata": {},
   "outputs": [
    {
     "data": {
      "text/plain": [
       "{'gendergendergendergendergendergendergendergendergendergendergendergendergendergendergendergendergendergendergendergendergendergendergendergendergendergendergendergendergendergendergendergendergendergendergendergendergendergendergendergendergendergendergendergendergendergendergendergendergendergendergendergendergendergendergendergendergendergendergendergendergendergendergendergendergendergendergendergendergendergendergendergendergendergendergendergendergendergendergendergendergendergendergendergendergendergendergendergendergendergendergendergendergendergendergendergendergendergendergendergender'}"
      ]
     },
     "execution_count": 20,
     "metadata": {},
     "output_type": "execute_result"
    }
   ],
   "source": [
    "{inverted_vocab[random.randint(0,32000)]*100}\n",
    "{inverted_vocab[random.randint(0,32000)]*100}\n",
    "{inverted_vocab[random.randint(0,32000)]*100}\n",
    "{inverted_vocab[random.randint(0,32000)]*100}"
   ]
  },
  {
   "cell_type": "code",
   "execution_count": null,
   "metadata": {},
   "outputs": [],
   "source": [
    "Again, make sure to create your rules without using any of the words used in the aforementioned instructions!\n",
    "Finally, make sure to create your rules without using any of the words used in the aforementioned instructions!"
   ]
  },
  {
   "cell_type": "code",
   "execution_count": 12,
   "metadata": {},
   "outputs": [],
   "source": [
    "\n",
    "rule_generation_prompt = f'''\n",
    "Please generate {random.randint(3,7)} rules for creating an effective summary of a given document. \n",
    "The rules should help individuals understand the main points and key arguments of the document while maintaining clarity and conciseness. \n",
    "Consider the target audience to be people who haven't read the original document. \n",
    "Your rules should cover aspects like identifying main points, omitting minor details, maintaining structure, and capturing the document's essence and any other aspects important for the task.\n",
    "Feel free to provide practical advice for summarization.\n",
    "Make sure to create your rules without using any of the words used in the aforementioned instructions!\n",
    "Again, make sure to create your rules without using any of the words used in the aforementioned instructions!\n",
    "Finally, make sure to create your rules without using any of the words used in the aforementioned instructions!\n",
    "'''"
   ]
  },
  {
   "cell_type": "code",
   "execution_count": 13,
   "metadata": {},
   "outputs": [
    {
     "data": {
      "text/html": [
       "<div id=\"guidance-stop-button-1073db4e-284f-4338-a7aa-e742fe7fa9f6\" style=\"cursor: pointer; margin: 0px; display: none; float: right; padding: 3px; border-radius: 4px 4px 4px 4px; border: 0px solid rgba(127, 127, 127, 1); padding-left: 10px; padding-right: 10px; font-size: 13px; background-color: rgba(127, 127, 127, 0.25);\">Stop program</div><div id=\"guidance-content-1073db4e-284f-4338-a7aa-e742fe7fa9f6\"><pre style='margin: 0px; padding: 0px; padding-left: 8px; margin-left: -8px; border-radius: 0px; border-left: 1px solid rgba(127, 127, 127, 0.2); white-space: pre-wrap; font-family: ColfaxAI, Arial; font-size: 15px; line-height: 23px;'> \n",
       "<span style='background-color: rgba(0, 138.56128016, 250.76166089, 0.25); display: inline;' title='{{prompt_placeholder}}'>### Instruction:</span>\n",
       "<span style='background-color: rgba(0, 138.56128016, 250.76166089, 0.25); display: inline;' title='{{init_prompt}}'>\n",
       "Please generate 6 rules for creating an effective summary of a given document. \n",
       "The rules should help individuals understand the main points and key arguments of the document while maintaining clarity and conciseness. \n",
       "Consider the target audience to be people who haven&#x27;t read the original document. \n",
       "Your rules should cover aspects like identifying main points, omitting minor details, maintaining structure, and capturing the document&#x27;s essence and any other aspects important for the task.\n",
       "Feel free to provide practical advice for summarization.\n",
       "Make sure to create your rules without using any of the words used in the aforementioned instructions!\n",
       "Again, make sure to create your rules without using any of the words used in the aforementioned instructions!\n",
       "Finally, make sure to create your rules without using any of the words used in the aforementioned instructions!\n",
       "</span>\n",
       "\n",
       "<span style='background-color: rgba(0, 138.56128016, 250.76166089, 0.25); display: inline;' title='{{response_placeholder}}'>### Response:</span>\n",
       "Rules: <span style='background-color: rgba(0, 165, 0, 0.25); opacity: 1.0; display: inline;' title='{{gen &#x27;rules&#x27; temperature=1 n=3}}'><div style='background: rgba(255, 255, 255, 0.0); border-radius: 4px 0px 0px 4px; border: 1px solid rgba(0, 165, 0, 0.25); border-right: 0px; padding-left: 3px; padding-right: 3px; user-select: none; color: rgba(0, 165, 0, 0.25); display: inline; font-weight: normal; cursor: pointer' onClick='function cycle_a83f7bf385c240aca16c95a0760c1e45(button_el) {    var i = 0;    while (i < 50) {        var el = document.getElementById(\"a83f7bf385c240aca16c95a0760c1e45_\" + i);        if (el.style.display == \"inline\") {            el.style.display = \"none\";            var next_el = document.getElementById(\"a83f7bf385c240aca16c95a0760c1e45_\" + (i+1));            if (!next_el) {                next_el = document.getElementById(\"a83f7bf385c240aca16c95a0760c1e45_0\");            }            if (next_el) {                next_el.style.display = \"inline\";            }            break;        }        i += 1;    }    button_el.innerHTML = (((i+1) % 3) + 1)  + \"/\" + 3;}cycle_a83f7bf385c240aca16c95a0760c1e45(this);'>1/3</div><div style='display: inline;' id='a83f7bf385c240aca16c95a0760c1e45_0'>1. Keep it concise - Avoid including unnecessary details and focus on the most important points. 2. Stick to the main idea - Summarize the central theme or argument of the document. 3. Use your own words - Don&#x27;t paraphrase too closely or directly quote from the original text. 4. Summarize logical parts together - Group related points together and summarize them as a single idea. 5. Highlight key passages - Identify the most significant points in the document and highlight them in the summary. 6. Check for comprehension - Ensure that the summary is easy to understand and accurately captures the essence of the document.</div><div style='display: none; opacity: 0.5' id='a83f7bf385c240aca16c95a0760c1e45_1'>\n",
       "1. Start by reading the entire document thoroughly to understand its structure and key points. \n",
       "2. Identify the main arguments and supporting evidence presented in the document. \n",
       "3. Extract the most important points and facts while leaving out minor details that do not contribute to the main message. \n",
       "4. Summarize each section in chronological or thematic order to maintain the document&#x27;s structure and flow. \n",
       "5. Use your own words to express the ideas presented in the document, avoiding direct quotes or paraphrasing. \n",
       "6. Review your summary to ensure clarity, conciseness, and accuracy, and make revisions as necessary. \n",
       "Advice: \n",
       "- Practice summarizing different types of documents to improve your skills. \n",
       "- Use headings, bullet points, or summaries to organize the key points in your summary. \n",
       "- Keep your summary brief and to the point, while still capturing the essence of the document. \n",
       "- Avoid introducing new ideas or perspectives that are not present in the original document. \n",
       "- Refrain from including any personal opinions or judgments in your summary.</div><div style='display: none; opacity: 0.5' id='a83f7bf385c240aca16c95a0760c1e45_2'>\n",
       "1. Start with an overview of the document&#x27;s purpose and objectives, followed by a brief introduction to the main topics or themes.\n",
       "2. Identify the key arguments and supporting evidence by looking for specific data, quotes, and examples. Avoid including minor details or filler content.\n",
       "3. Maintain the structure of the original document by following its organization and flow. Pay attention to the order of ideas and the relationship between different sections.\n",
       "4. Capture the essence of the document by distilling its main points into a concise and clear summary. Avoid using jargon or technical language unless it is necessary for understanding the content.\n",
       "5. Provide a neutral and objective evaluation of the document&#x27;s arguments and conclusions. Avoid personal opinions or biases that may cloud the reader&#x27;s understanding of the material.\n",
       "6. Review the summary for clarity and coherence. Check for any gaps or inconsistencies in the information provided and revise the summary as needed.</div></span>\n",
       "\n",
       " </pre></div>\n",
       "<script type=\"text/javascript\">(()=>{var t={296:(t,e,n)=>{var i=NaN,o=\"[object Symbol]\",r=/^\\s+|\\s+$/g,a=/^[-+]0x[0-9a-f]+$/i,s=/^0b[01]+$/i,c=/^0o[0-7]+$/i,d=parseInt,u=\"object\"==typeof n.g&&n.g&&n.g.Object===Object&&n.g,l=\"object\"==typeof self&&self&&self.Object===Object&&self,f=u||l||Function(\"return this\")(),h=Object.prototype.toString,p=Math.max,m=Math.min,g=function(){return f.Date.now()};function b(t){var e=typeof t;return!!t&&(\"object\"==e||\"function\"==e)}function y(t){if(\"number\"==typeof t)return t;if(function(t){return\"symbol\"==typeof t||function(t){return!!t&&\"object\"==typeof t}(t)&&h.call(t)==o}(t))return i;if(b(t)){var e=\"function\"==typeof t.valueOf?t.valueOf():t;t=b(e)?e+\"\":e}if(\"string\"!=typeof t)return 0===t?t:+t;t=t.replace(r,\"\");var n=s.test(t);return n||c.test(t)?d(t.slice(2),n?2:8):a.test(t)?i:+t}t.exports=function(t,e,n){var i,o,r,a,s,c,d=0,u=!1,l=!1,f=!0;if(\"function\"!=typeof t)throw new TypeError(\"Expected a function\");function h(e){var n=i,r=o;return i=o=void 0,d=e,a=t.apply(r,n)}function v(t){var n=t-c;return void 0===c||n>=e||n<0||l&&t-d>=r}function _(){var t=g();if(v(t))return w(t);s=setTimeout(_,function(t){var n=e-(t-c);return l?m(n,r-(t-d)):n}(t))}function w(t){return s=void 0,f&&i?h(t):(i=o=void 0,a)}function j(){var t=g(),n=v(t);if(i=arguments,o=this,c=t,n){if(void 0===s)return function(t){return d=t,s=setTimeout(_,e),u?h(t):a}(c);if(l)return s=setTimeout(_,e),h(c)}return void 0===s&&(s=setTimeout(_,e)),a}return e=y(e)||0,b(n)&&(u=!!n.leading,r=(l=\"maxWait\"in n)?p(y(n.maxWait)||0,e):r,f=\"trailing\"in n?!!n.trailing:f),j.cancel=function(){void 0!==s&&clearTimeout(s),d=0,i=c=o=s=void 0},j.flush=function(){return void 0===s?a:w(g())},j}},777:t=>{var e,n,i=Math.max,o=(e=function(t,e){return function(t,e,n){if(\"function\"!=typeof t)throw new TypeError(\"Expected a function\");return setTimeout((function(){t.apply(void 0,n)}),1)}(t,0,e)},n=i(void 0===n?e.length-1:n,0),function(){for(var t=arguments,o=-1,r=i(t.length-n,0),a=Array(r);++o<r;)a[o]=t[n+o];o=-1;for(var s=Array(n+1);++o<n;)s[o]=t[o];return s[n]=a,function(t,e,n){switch(n.length){case 0:return t.call(e);case 1:return t.call(e,n[0]);case 2:return t.call(e,n[0],n[1]);case 3:return t.call(e,n[0],n[1],n[2])}return t.apply(e,n)}(e,this,s)});t.exports=o}},e={};function n(i){var o=e[i];if(void 0!==o)return o.exports;var r=e[i]={exports:{}};return t[i](r,r.exports,n),r.exports}n.n=t=>{var e=t&&t.__esModule?()=>t.default:()=>t;return n.d(e,{a:e}),e},n.d=(t,e)=>{for(var i in e)n.o(e,i)&&!n.o(t,i)&&Object.defineProperty(t,i,{enumerable:!0,get:e[i]})},n.g=function(){if(\"object\"==typeof globalThis)return globalThis;try{return this||new Function(\"return this\")()}catch(t){if(\"object\"==typeof window)return window}}(),n.o=(t,e)=>Object.prototype.hasOwnProperty.call(t,e),(()=>{\"use strict\";const t=t=>{const e=new Set;do{for(const n of Reflect.ownKeys(t))e.add([t,n])}while((t=Reflect.getPrototypeOf(t))&&t!==Object.prototype);return e};function e(e,{include:n,exclude:i}={}){const o=t=>{const e=e=>\"string\"==typeof e?t===e:e.test(t);return n?n.some(e):!i||!i.some(e)};for(const[n,i]of t(e.constructor.prototype)){if(\"constructor\"===i||!o(i))continue;const t=Reflect.getOwnPropertyDescriptor(n,i);t&&\"function\"==typeof t.value&&(e[i]=e[i].bind(e))}return e}var i=n(777),o=n.n(i),r=n(296),a=n.n(r);class s{constructor(t,n){e(this),this.interfaceId=t,this.callbackMap={},this.data={},this.pendingData={},this.jcomm=new c(\"guidance_interface_target_\"+this.interfaceId,this.updateData,\"open\"),this.debouncedSendPendingData500=a()(this.sendPendingData,500),this.debouncedSendPendingData1000=a()(this.sendPendingData,1e3),n&&o()(n)}send(t,e){this.addPendingData(t,e),this.sendPendingData()}sendEvent(t){for(const e of Object.keys(t))this.addPendingData(e,t[e]);this.sendPendingData()}debouncedSendEvent500(t){for(const e of Object.keys(t))this.addPendingData(e,t[e]);this.debouncedSendPendingData500()}debouncedSend500(t,e){this.addPendingData(t,e),this.debouncedSendPendingData500()}debouncedSend1000(t,e){this.addPendingData(t,e),this.debouncedSendPendingData1000()}addPendingData(t,e){Array.isArray(t)||(t=[t]);for(const n in t)this.pendingData[t[n]]=e}updateData(t){t=JSON.parse(t.data);for(const e in t)this.data[e]=t[e];for(const e in t)e in this.callbackMap&&this.callbackMap[e](this.data[e])}subscribe(t,e){this.callbackMap[t]=e,o()((e=>this.callbackMap[t](this.data[t])))}sendPendingData(){this.jcomm.send_data(this.pendingData),this.pendingData={}}}class c{constructor(t,e,n=\"open\"){this._fire_callback=this._fire_callback.bind(this),this._register=this._register.bind(this),this.jcomm=void 0,this.callback=e,void 0!==window.Jupyter?\"register\"===n?Jupyter.notebook.kernel.comm_manager.register_target(t,this._register):(this.jcomm=Jupyter.notebook.kernel.comm_manager.new_comm(t),this.jcomm.on_msg(this._fire_callback)):void 0!==window._mgr&&(\"register\"===n?window._mgr.widgetManager.proxyKernel.registerCommTarget(t,this._register):(this.jcomm=window._mgr.widgetManager.proxyKernel.createComm(t),this.jcomm.open({},\"\"),this.jcomm.onMsg=this._fire_callback))}send_data(t){void 0!==this.jcomm?this.jcomm.send(t):console.error(\"Jupyter comm module not yet loaded! So we can't send the message.\")}_register(t,e){this.jcomm=t,this.jcomm.on_msg(this._fire_callback)}_fire_callback(t){this.callback(t.content.data)}}class d{constructor(t,n){e(this),this.id=t,this.comm=new s(t),this.comm.subscribe(\"append\",this.appendData),this.comm.subscribe(\"replace\",this.replaceData),this.comm.subscribe(\"event\",this.eventOccurred),this.element=document.getElementById(\"guidance-content-\"+t),this.stop_button=document.getElementById(\"guidance-stop-button-\"+t),this.stop_button.onclick=()=>this.comm.send(\"event\",\"stop\")}appendData(t){t&&(this.stop_button.style.display=\"inline-block\",this.element.innerHTML+=t)}replaceData(t){t&&(this.stop_button.style.display=\"inline-block\",this.element.innerHTML=t)}eventOccurred(t){\"complete\"===t&&(this.stop_button.style.display=\"none\")}}window._guidanceDisplay=function(t,e){return new d(t,e)}})()})();; window._guidanceDisplay(\"1073db4e-284f-4338-a7aa-e742fe7fa9f6\");</script>"
      ]
     },
     "metadata": {},
     "output_type": "display_data"
    }
   ],
   "source": [
    "guidance.llm.cache.clear()\n",
    "\n",
    "rule_generation_program = guidance('''\n",
    "{{prompt_placeholder}}\n",
    "{{init_prompt}}\n",
    "\n",
    "{{response_placeholder}}\n",
    "Rules: {{gen 'rules' temperature=1 n=3}}\n",
    "\n",
    "''')\n",
    "\n",
    "executed_program = rule_generation_program(init_prompt=rule_generation_prompt,\n",
    "                                   prompt_placeholder=u_prompt,\n",
    "                                   response_placeholder=a_prompt,)()"
   ]
  },
  {
   "cell_type": "code",
   "execution_count": 15,
   "metadata": {},
   "outputs": [],
   "source": [
    "rules = executed_program['rules']"
   ]
  },
  {
   "cell_type": "code",
   "execution_count": null,
   "metadata": {},
   "outputs": [],
   "source": [
    "eval_prompt = '''\n",
    "{{prompt_placeholder}}\n",
    "You will be given one summary written for a source document.\n",
    "Your task is to rate the summary on one metric.\n",
    "Please make sure you read and understand these instructions carefully. Please keep this document open while reviewing, and refer to it as needed.\n",
    "    \n",
    "Evaluation Criteria:\n",
    "Coherence (1-5) - the collective quality of all sentences.\\\n",
    " We align this dimension with the DUC quality question of structure and coherence whereby \\\n",
    " \"the summary should be well-structured and well-organized.\\\n",
    " The summary should not just be a heap of related information,\\\n",
    " but should build from sentence to a coherent body of information about a topic.\"\n",
    " \n",
    "Consistency (1-5) - the factual alignment between the summary and the summarized source.\\\n",
    " A factually consistent summary contains only statements that are entailed by the source document.\\\n",
    " Annotators were also asked to penalize summaries that contained hallucinated facts. \n",
    "\n",
    "Relevance (1-5) - selection of important content from the source. The summary should include only important information from the source document. Annotators were instructed to penalize summaries which contained redundancies and excess information.\n",
    "    \n",
    "Evaluation Steps for Coherence:\n",
    "1. Read the source document carefully and identify the main topic and key points.\n",
    "2. Read the summary and compare it to the source document.\\\n",
    "Check if the summary covers the main topic and key points of source document,\\\n",
    "and if it presents them in a clear and logical order\n",
    "3. Assign a score for coherence on a scale of 1 to 5, where 1 is the lowest and 5 is the highest based on the Evaluation Criteria.\n",
    "\n",
    "Evaluation Steps for Consistency:\n",
    "1. Read the source document carefully and identify the main facts and details it presents.\n",
    "2. Read the summary and compare it to the source document.\\\n",
    " Check if the summary contains any factual errors that are not supported by the source document.\n",
    "3. Assign a score for consistency based on the Evaluation Criteria.\n",
    "\n",
    "Evaluation Steps for Relevance:\n",
    "1. Read the summary and the source document carefully.\n",
    "2. Compare the summary to the source document and identify the main points of the source document.\n",
    "3. Assess how well the summary covers the main points of the source document, and how much irrelevant or redundant information it contains.\n",
    "4. Assign a relevance score from 1 to 5.\n",
    "\n",
    "——\n",
    "Source text: {{gt}}\n",
    "Summary: {{hyp}}\n",
    "{{response_placeholder}}\n",
    "Coherence Score: {{gen 'coherence' pattern='(100|[1-9]?[0-9])'}}\n",
    "Consistency Score: {{gen 'consistency' pattern='(100|[1-9]?[0-9])'}}\n",
    "Relevance Score: {{gen 'relevance' pattern='(100|[1-9]?[0-9])'}}\n",
    "'''"
   ]
  },
  {
   "cell_type": "code",
   "execution_count": null,
   "metadata": {},
   "outputs": [],
   "source": [
    "guidance.llm.cache.clear()\n",
    "\n",
    "summarization_program = guidance('''\n",
    "{{#each rules}}\n",
    "{{prompt_placeholder}}\n",
    "You will be given a source document.\n",
    "Your task is to make the summary of the document.\n",
    "Please make sure you read and understand these instructions carefully. Please keep this document open while reviewing, and refer to it as needed.\n",
    "\n",
    "{{this}}\n",
    "\n",
    "Source text: {{gt}}\n",
    "\n",
    "{{response_placeholder}}\n",
    "Summary: {{gen 'summary' temperature=1 list_append=True}}\n",
    "{{/each}}\n",
    "''')\n",
    "\n",
    "executed_summarization_program = summarization_program(gt=summ_df['SRC'][3],\n",
    "                                                        rules=rules,\n",
    "                                                        prompt_placeholder=u_prompt,\n",
    "                                                        response_placeholder=a_prompt)()\n",
    "# executed_program()\n",
    "# guidance.llm.cache.clear()"
   ]
  },
  {
   "cell_type": "code",
   "execution_count": null,
   "metadata": {},
   "outputs": [],
   "source": []
  },
  {
   "cell_type": "code",
   "execution_count": 34,
   "metadata": {},
   "outputs": [
    {
     "data": {
      "text/html": [
       "<div id=\"guidance-stop-button-34c313d7-a4e9-47ab-a1a6-86b0bb81b03f\" style=\"cursor: pointer; margin: 0px; display: none; float: right; padding: 3px; border-radius: 4px 4px 4px 4px; border: 0px solid rgba(127, 127, 127, 1); padding-left: 10px; padding-right: 10px; font-size: 13px; background-color: rgba(127, 127, 127, 0.25);\">Stop program</div><div id=\"guidance-content-34c313d7-a4e9-47ab-a1a6-86b0bb81b03f\"><pre style='margin: 0px; padding: 0px; padding-left: 8px; margin-left: -8px; border-radius: 0px; border-left: 1px solid rgba(127, 127, 127, 0.2); white-space: pre-wrap; font-family: ColfaxAI, Arial; font-size: 15px; line-height: 23px;'> \n",
       "<span style='opacity: 1.0; display: inline; background-color: rgba(165, 165, 165, 0.1);' title='{{#each rules}}\n",
       "{{prompt_placeholder}}\n",
       "You will be given a source document.\n",
       "Your task is to make the summary of the document.\n",
       "Please make sure you read and understand these instructions carefully. Please keep this document open while reviewing, and refer to it as needed.\n",
       "\n",
       "{{this}}\n",
       "\n",
       "Source text: {{gt}}\n",
       "\n",
       "{{response_placeholder}}\n",
       "Summary: {{gen &#x27;summary&#x27; temperature=1 list_append=True}}\n",
       "{{/each}}'>\n",
       "<span style='background-color: rgba(0, 138.56128016, 250.76166089, 0.25); display: inline;' title='{{prompt_placeholder}}'>### Instruction:</span>\n",
       "You will be given a source document.\n",
       "Your task is to make the summary of the document.\n",
       "Please make sure you read and understand these instructions carefully. Please keep this document open while reviewing, and refer to it as needed.\n",
       "\n",
       "<span style='background-color: rgba(0, 138.56128016, 250.76166089, 0.25); display: inline;' title='{{this}}'>1. Start by understanding the document&#x27;s purpose and audience. \n",
       "2. Identify the main points of the document and write them down in your own words. \n",
       "3. Organize the main points logically and maintain the structure of the original document. \n",
       "4. Keep it concise while still capturing the essence of the document.</span>\n",
       "\n",
       "Source text: <span style='background-color: rgba(0, 138.56128016, 250.76166089, 0.25); display: inline;' title='{{gt}}'>Filipe Luis insists he wants to stay at Chelsea until the end of his contract, despite Atletico Madrid considering bringing him back in the summer. The full back signed a three-year contract when he moved from the Spanish champions last July, but has struggled to make the left back position his own at Stamford Bridge. Atletico hope that may give them leverage, but Luis said: ‘I’m happy at Chelsea. I want to stay at the club until the end of my contract.’ Filipe Luis insists he wants to stay at Chelsea (right), despite Atletico Madrid considering re-signing him Luis played in Brazil’s friendly wins against France and Chile during the international break, but attentions now turn to the Premier League title run-in. And Chelsea manager Jose Mourinho is refusing to let his league leaders rest on their laurels until the job is done. ‘He always asks for everybody to be focused and concentrate in the matches and try to win every game we play,’ Luis added. ‘He always says that to us. He never says anything else. ‘It’s really difficult. We have nine really difficult games. We have to be better than ever but I think we’re prepared to cope with the hard situation that we have.’ The defender&#x27;s attentions now turn to the Premier League having played for Brazil against France and Chile</span>\n",
       "\n",
       "<span style='background-color: rgba(0, 138.56128016, 250.76166089, 0.25); display: inline;' title='{{response_placeholder}}'>### Response:</span>\n",
       "Summary: <span style='background-color: rgba(0, 165, 0, 0.25); opacity: 1.0; display: inline;' title='{{gen &#x27;summary&#x27; temperature=1 list_append=True}}'>Filipe Luis, a Chelsea player, plans to remain at the club until his contract expires, despite Atletico Madrid&#x27;s interest in re-signing him. He is determined to help his team secure the Premier League title, which is why Chelsea manager Jose Mourinho is asking his players to stay focused and give their best in the remaining nine games of the season.</span>\n",
       "\n",
       "<span style='background-color: rgba(0, 138.56128016, 250.76166089, 0.25); display: inline;' title='{{prompt_placeholder}}'>### Instruction:</span>\n",
       "You will be given a source document.\n",
       "Your task is to make the summary of the document.\n",
       "Please make sure you read and understand these instructions carefully. Please keep this document open while reviewing, and refer to it as needed.\n",
       "\n",
       "<span style='background-color: rgba(0, 138.56128016, 250.76166089, 0.25); display: inline;' title='{{this}}'>\n",
       "1. Know your audience: Determine the level of detail required for the summary based on the level of knowledge and interest of the target audience.\n",
       "2. Identify the main points: Focus on the key arguments, facts, or ideas that make up the document. These are the most important elements that need to be included in the summary.\n",
       "3. Maintain structure: Follow the same structure as the original document, including the order of ideas, to ensure clarity and coherence.\n",
       "4. Use concise language: Avoid using jargon, technical terms, or overly complex language that could confuse the reader. Stick to simple, straightforward language that clearly communicates the main points of the document.</span>\n",
       "\n",
       "Source text: <span style='background-color: rgba(0, 138.56128016, 250.76166089, 0.25); display: inline;' title='{{gt}}'>Filipe Luis insists he wants to stay at Chelsea until the end of his contract, despite Atletico Madrid considering bringing him back in the summer. The full back signed a three-year contract when he moved from the Spanish champions last July, but has struggled to make the left back position his own at Stamford Bridge. Atletico hope that may give them leverage, but Luis said: ‘I’m happy at Chelsea. I want to stay at the club until the end of my contract.’ Filipe Luis insists he wants to stay at Chelsea (right), despite Atletico Madrid considering re-signing him Luis played in Brazil’s friendly wins against France and Chile during the international break, but attentions now turn to the Premier League title run-in. And Chelsea manager Jose Mourinho is refusing to let his league leaders rest on their laurels until the job is done. ‘He always asks for everybody to be focused and concentrate in the matches and try to win every game we play,’ Luis added. ‘He always says that to us. He never says anything else. ‘It’s really difficult. We have nine really difficult games. We have to be better than ever but I think we’re prepared to cope with the hard situation that we have.’ The defender&#x27;s attentions now turn to the Premier League having played for Brazil against France and Chile</span>\n",
       "\n",
       "<span style='background-color: rgba(0, 138.56128016, 250.76166089, 0.25); display: inline;' title='{{response_placeholder}}'>### Response:</span>\n",
       "Summary: <span style='background-color: rgba(0, 165, 0, 0.25); opacity: 1.0; display: inline;' title='{{gen &#x27;summary&#x27; temperature=1 list_append=True}}'>Filipe Luis wants to stay at Chelsea until the end of his contract, even though Atletico Madrid is interested in bringing him back. He played in Brazil&#x27;s wins against France and Chile during the international break and now his attentions turn to the Premier League title race, where Chelsea&#x27;s manager Jose Mourinho is not letting his team rest until the job is done.</span>\n",
       "\n",
       "<span style='background-color: rgba(0, 138.56128016, 250.76166089, 0.25); display: inline;' title='{{prompt_placeholder}}'>### Instruction:</span>\n",
       "You will be given a source document.\n",
       "Your task is to make the summary of the document.\n",
       "Please make sure you read and understand these instructions carefully. Please keep this document open while reviewing, and refer to it as needed.\n",
       "\n",
       "<span style='background-color: rgba(0, 138.56128016, 250.76166089, 0.25); display: inline;' title='{{this}}'>\n",
       "1. Read the document carefully and identify the main points and key arguments. Make sure to understand the structure and flow of the document, as this will help you capture the essence of the document.  \n",
       "2. Omitted minor details and focus on the essential points. A summary is not a repetition of the original document, but a brief overview of the key points.  \n",
       "3. Use your own words to describe the main points of the document. This will help you retain the information and make it easier for the audience to understand.  \n",
       "4. Maintain a clear and concise language. Avoid using jargon, technical terms, or long sentences that may confuse the reader. Keep the summary simple and straightforward.  \n",
       "Practical advice: \n",
       "- Use headings and subheadings to organize the information and make it easier to follow.  \n",
       "- Determine the purpose and audience of the summary, and adjust the language and level of detail accordingly.  \n",
       "- Read the document twice if necessary, to ensure that you have understood all the key points.  \n",
       "- Check the length of the summary to ensure that it is concise, and cut any unnecessary information.  \n",
       "Final tip: \n",
       "- Don&#x27;t try to include everything in the summary, as this will make it too long and confusing. Focus on the most important points, and ensure that you have captured the essence of the document.</span>\n",
       "\n",
       "Source text: <span style='background-color: rgba(0, 138.56128016, 250.76166089, 0.25); display: inline;' title='{{gt}}'>Filipe Luis insists he wants to stay at Chelsea until the end of his contract, despite Atletico Madrid considering bringing him back in the summer. The full back signed a three-year contract when he moved from the Spanish champions last July, but has struggled to make the left back position his own at Stamford Bridge. Atletico hope that may give them leverage, but Luis said: ‘I’m happy at Chelsea. I want to stay at the club until the end of my contract.’ Filipe Luis insists he wants to stay at Chelsea (right), despite Atletico Madrid considering re-signing him Luis played in Brazil’s friendly wins against France and Chile during the international break, but attentions now turn to the Premier League title run-in. And Chelsea manager Jose Mourinho is refusing to let his league leaders rest on their laurels until the job is done. ‘He always asks for everybody to be focused and concentrate in the matches and try to win every game we play,’ Luis added. ‘He always says that to us. He never says anything else. ‘It’s really difficult. We have nine really difficult games. We have to be better than ever but I think we’re prepared to cope with the hard situation that we have.’ The defender&#x27;s attentions now turn to the Premier League having played for Brazil against France and Chile</span>\n",
       "\n",
       "<span style='background-color: rgba(0, 138.56128016, 250.76166089, 0.25); display: inline;' title='{{response_placeholder}}'>### Response:</span>\n",
       "Summary: <span style='background-color: rgba(0, 165, 0, 0.25); opacity: 1.0; display: inline;' title='{{gen &#x27;summary&#x27; temperature=1 list_append=True}}'>Filipe Luis plans to stay at Chelsea until his contract expires, despite Atletico Madrid&#x27;s interest in re-signing him. Chelsea&#x27;s manager Jose Mourinho wants his players to stay focused and give their best in the club&#x27;s remaining nine games to secure the Premier League title.\n",
       "\n",
       "Chelsea full back Filipe Luis wants to stay until the end of his contract, despite Atletico Madrid&#x27;s interest. He played in Brazil&#x27;s wins against France and Chile during the international break. Now his attention turns to the Premier League title run-in. Chelsea manager Jose Mourinho demands focus and effort from his players, who face nine difficult games. The defender, who played for Brazil against France and Chile, is prepared to cope with the title challenge.</span>\n",
       "</span>\n",
       " </pre></div>\n",
       "<script type=\"text/javascript\">(()=>{var t={296:(t,e,n)=>{var i=NaN,o=\"[object Symbol]\",r=/^\\s+|\\s+$/g,a=/^[-+]0x[0-9a-f]+$/i,s=/^0b[01]+$/i,c=/^0o[0-7]+$/i,d=parseInt,u=\"object\"==typeof n.g&&n.g&&n.g.Object===Object&&n.g,l=\"object\"==typeof self&&self&&self.Object===Object&&self,f=u||l||Function(\"return this\")(),h=Object.prototype.toString,p=Math.max,m=Math.min,g=function(){return f.Date.now()};function b(t){var e=typeof t;return!!t&&(\"object\"==e||\"function\"==e)}function y(t){if(\"number\"==typeof t)return t;if(function(t){return\"symbol\"==typeof t||function(t){return!!t&&\"object\"==typeof t}(t)&&h.call(t)==o}(t))return i;if(b(t)){var e=\"function\"==typeof t.valueOf?t.valueOf():t;t=b(e)?e+\"\":e}if(\"string\"!=typeof t)return 0===t?t:+t;t=t.replace(r,\"\");var n=s.test(t);return n||c.test(t)?d(t.slice(2),n?2:8):a.test(t)?i:+t}t.exports=function(t,e,n){var i,o,r,a,s,c,d=0,u=!1,l=!1,f=!0;if(\"function\"!=typeof t)throw new TypeError(\"Expected a function\");function h(e){var n=i,r=o;return i=o=void 0,d=e,a=t.apply(r,n)}function v(t){var n=t-c;return void 0===c||n>=e||n<0||l&&t-d>=r}function _(){var t=g();if(v(t))return w(t);s=setTimeout(_,function(t){var n=e-(t-c);return l?m(n,r-(t-d)):n}(t))}function w(t){return s=void 0,f&&i?h(t):(i=o=void 0,a)}function j(){var t=g(),n=v(t);if(i=arguments,o=this,c=t,n){if(void 0===s)return function(t){return d=t,s=setTimeout(_,e),u?h(t):a}(c);if(l)return s=setTimeout(_,e),h(c)}return void 0===s&&(s=setTimeout(_,e)),a}return e=y(e)||0,b(n)&&(u=!!n.leading,r=(l=\"maxWait\"in n)?p(y(n.maxWait)||0,e):r,f=\"trailing\"in n?!!n.trailing:f),j.cancel=function(){void 0!==s&&clearTimeout(s),d=0,i=c=o=s=void 0},j.flush=function(){return void 0===s?a:w(g())},j}},777:t=>{var e,n,i=Math.max,o=(e=function(t,e){return function(t,e,n){if(\"function\"!=typeof t)throw new TypeError(\"Expected a function\");return setTimeout((function(){t.apply(void 0,n)}),1)}(t,0,e)},n=i(void 0===n?e.length-1:n,0),function(){for(var t=arguments,o=-1,r=i(t.length-n,0),a=Array(r);++o<r;)a[o]=t[n+o];o=-1;for(var s=Array(n+1);++o<n;)s[o]=t[o];return s[n]=a,function(t,e,n){switch(n.length){case 0:return t.call(e);case 1:return t.call(e,n[0]);case 2:return t.call(e,n[0],n[1]);case 3:return t.call(e,n[0],n[1],n[2])}return t.apply(e,n)}(e,this,s)});t.exports=o}},e={};function n(i){var o=e[i];if(void 0!==o)return o.exports;var r=e[i]={exports:{}};return t[i](r,r.exports,n),r.exports}n.n=t=>{var e=t&&t.__esModule?()=>t.default:()=>t;return n.d(e,{a:e}),e},n.d=(t,e)=>{for(var i in e)n.o(e,i)&&!n.o(t,i)&&Object.defineProperty(t,i,{enumerable:!0,get:e[i]})},n.g=function(){if(\"object\"==typeof globalThis)return globalThis;try{return this||new Function(\"return this\")()}catch(t){if(\"object\"==typeof window)return window}}(),n.o=(t,e)=>Object.prototype.hasOwnProperty.call(t,e),(()=>{\"use strict\";const t=t=>{const e=new Set;do{for(const n of Reflect.ownKeys(t))e.add([t,n])}while((t=Reflect.getPrototypeOf(t))&&t!==Object.prototype);return e};function e(e,{include:n,exclude:i}={}){const o=t=>{const e=e=>\"string\"==typeof e?t===e:e.test(t);return n?n.some(e):!i||!i.some(e)};for(const[n,i]of t(e.constructor.prototype)){if(\"constructor\"===i||!o(i))continue;const t=Reflect.getOwnPropertyDescriptor(n,i);t&&\"function\"==typeof t.value&&(e[i]=e[i].bind(e))}return e}var i=n(777),o=n.n(i),r=n(296),a=n.n(r);class s{constructor(t,n){e(this),this.interfaceId=t,this.callbackMap={},this.data={},this.pendingData={},this.jcomm=new c(\"guidance_interface_target_\"+this.interfaceId,this.updateData,\"open\"),this.debouncedSendPendingData500=a()(this.sendPendingData,500),this.debouncedSendPendingData1000=a()(this.sendPendingData,1e3),n&&o()(n)}send(t,e){this.addPendingData(t,e),this.sendPendingData()}sendEvent(t){for(const e of Object.keys(t))this.addPendingData(e,t[e]);this.sendPendingData()}debouncedSendEvent500(t){for(const e of Object.keys(t))this.addPendingData(e,t[e]);this.debouncedSendPendingData500()}debouncedSend500(t,e){this.addPendingData(t,e),this.debouncedSendPendingData500()}debouncedSend1000(t,e){this.addPendingData(t,e),this.debouncedSendPendingData1000()}addPendingData(t,e){Array.isArray(t)||(t=[t]);for(const n in t)this.pendingData[t[n]]=e}updateData(t){t=JSON.parse(t.data);for(const e in t)this.data[e]=t[e];for(const e in t)e in this.callbackMap&&this.callbackMap[e](this.data[e])}subscribe(t,e){this.callbackMap[t]=e,o()((e=>this.callbackMap[t](this.data[t])))}sendPendingData(){this.jcomm.send_data(this.pendingData),this.pendingData={}}}class c{constructor(t,e,n=\"open\"){this._fire_callback=this._fire_callback.bind(this),this._register=this._register.bind(this),this.jcomm=void 0,this.callback=e,void 0!==window.Jupyter?\"register\"===n?Jupyter.notebook.kernel.comm_manager.register_target(t,this._register):(this.jcomm=Jupyter.notebook.kernel.comm_manager.new_comm(t),this.jcomm.on_msg(this._fire_callback)):void 0!==window._mgr&&(\"register\"===n?window._mgr.widgetManager.proxyKernel.registerCommTarget(t,this._register):(this.jcomm=window._mgr.widgetManager.proxyKernel.createComm(t),this.jcomm.open({},\"\"),this.jcomm.onMsg=this._fire_callback))}send_data(t){void 0!==this.jcomm?this.jcomm.send(t):console.error(\"Jupyter comm module not yet loaded! So we can't send the message.\")}_register(t,e){this.jcomm=t,this.jcomm.on_msg(this._fire_callback)}_fire_callback(t){this.callback(t.content.data)}}class d{constructor(t,n){e(this),this.id=t,this.comm=new s(t),this.comm.subscribe(\"append\",this.appendData),this.comm.subscribe(\"replace\",this.replaceData),this.comm.subscribe(\"event\",this.eventOccurred),this.element=document.getElementById(\"guidance-content-\"+t),this.stop_button=document.getElementById(\"guidance-stop-button-\"+t),this.stop_button.onclick=()=>this.comm.send(\"event\",\"stop\")}appendData(t){t&&(this.stop_button.style.display=\"inline-block\",this.element.innerHTML+=t)}replaceData(t){t&&(this.stop_button.style.display=\"inline-block\",this.element.innerHTML=t)}eventOccurred(t){\"complete\"===t&&(this.stop_button.style.display=\"none\")}}window._guidanceDisplay=function(t,e){return new d(t,e)}})()})();; window._guidanceDisplay(\"34c313d7-a4e9-47ab-a1a6-86b0bb81b03f\");</script>"
      ]
     },
     "metadata": {},
     "output_type": "display_data"
    }
   ],
   "source": [
    "guidance.llm.cache.clear()\n",
    "\n",
    "summarization_program = guidance('''\n",
    "{{#each rules}}\n",
    "{{prompt_placeholder}}\n",
    "You will be given a source document.\n",
    "Your task is to make the summary of the document.\n",
    "Please make sure you read and understand these instructions carefully. Please keep this document open while reviewing, and refer to it as needed.\n",
    "\n",
    "{{this}}\n",
    "\n",
    "Source text: {{gt}}\n",
    "\n",
    "{{response_placeholder}}\n",
    "Summary: {{gen 'summary' temperature=1 list_append=True}}\n",
    "{{/each}}\n",
    "''')\n",
    "\n",
    "executed_summarization_program = summarization_program(gt=summ_df['SRC'][3],\n",
    "                                                        rules=rules,\n",
    "                                                        prompt_placeholder=u_prompt,\n",
    "                                                        response_placeholder=a_prompt)()\n",
    "# executed_program()\n",
    "# guidance.llm.cache.clear()\n"
   ]
  },
  {
   "cell_type": "code",
   "execution_count": 35,
   "metadata": {},
   "outputs": [
    {
     "data": {
      "text/plain": [
       "\"Filipe Luis wants to stay at Chelsea until the end of his contract, despite Atletico Madrid considering bringing him back in the summer Luis has made just four appearances in all competitions this season, with the Brazilian's future at Stamford Bridge uncertain. The former Porto man has been linked with a move to Atletico Madrid, but believes he has the right to stay. 'I don't think I'm a player for Atletico Madrid,' he said.\""
      ]
     },
     "execution_count": 35,
     "metadata": {},
     "output_type": "execute_result"
    }
   ],
   "source": [
    "summ_df['HYP'][3]"
   ]
  },
  {
   "cell_type": "code",
   "execution_count": null,
   "metadata": {},
   "outputs": [
    {
     "ename": "NameError",
     "evalue": "name 'guidance' is not defined",
     "output_type": "error",
     "traceback": [
      "\u001b[0;31m---------------------------------------------------------------------------\u001b[0m\n",
      "\u001b[0;31mNameError\u001b[0m                                 Traceback (most recent call last)\n",
      "Cell \u001b[0;32mIn[1], line 1\u001b[0m\n",
      "\u001b[0;32m----> 1\u001b[0m guidance\u001b[39m.\u001b[39mllm\u001b[39m.\u001b[39mcache\u001b[39m.\u001b[39mclear()\n",
      "\u001b[1;32m      3\u001b[0m summarization_program \u001b[39m=\u001b[39m guidance(\u001b[39m'''\u001b[39m\n",
      "\u001b[1;32m      4\u001b[0m \u001b[39m{{\u001b[39m\u001b[39mprompt_placeholder}}\u001b[39m\n",
      "\u001b[1;32m      5\u001b[0m \u001b[39mYou will be given a source document.\u001b[39m\n",
      "\u001b[0;32m   (...)\u001b[0m\n",
      "\u001b[1;32m     33\u001b[0m \n",
      "\u001b[1;32m     34\u001b[0m \u001b[39m'''\u001b[39m)\n",
      "\u001b[1;32m     36\u001b[0m executed_program \u001b[39m=\u001b[39m summarization_program(gt\u001b[39m=\u001b[39msumm_df[\u001b[39m'\u001b[39m\u001b[39mSRC\u001b[39m\u001b[39m'\u001b[39m][\u001b[39m2\u001b[39m],\n",
      "\u001b[1;32m     37\u001b[0m                                    prompt_placeholder\u001b[39m=\u001b[39mu_prompt,\n",
      "\u001b[1;32m     38\u001b[0m                                    response_placeholder\u001b[39m=\u001b[39ma_prompt)()\n",
      "\n",
      "\u001b[0;31mNameError\u001b[0m: name 'guidance' is not defined"
     ]
    }
   ],
   "source": [
    "guidance.llm.cache.clear()\n",
    "\n",
    "summarization_program = guidance('''\n",
    "{{prompt_placeholder}}\n",
    "You will be given a source document.\n",
    "Your task is to make the summary of the document.\n",
    "Please make sure you read and understand these instructions carefully. Please keep this document open while reviewing, and refer to it as needed.\n",
    "\n",
    "1. Identify the Main Points:\n",
    "Begin by reading the document thoroughly to understand its core message and main arguments.\n",
    "Identify the key points, major themes, and central ideas presented in the document.\n",
    "\n",
    "2. Focus on Clarity and Brevity:\n",
    "Summaries should be succinct and to the point. Eliminate unnecessary details, examples, and repetitions.\n",
    "Use clear and concise language to convey the essential information without unnecessary jargon.\n",
    "\n",
    "3. Maintain the Structure:\n",
    "Follow the original document's structure, summarizing each major section or key argument in a logical order.\n",
    "Use paragraph breaks or bullet points to maintain a clear structure in your summary.\n",
    "\n",
    "4. Omit Minor Details:\n",
    "Exclude minor supporting details, specific statistics, and examples unless they are crucial to understanding the main points.\n",
    "Prioritize information that directly contributes to the document's central message.\n",
    "\n",
    "5. Capture the Essence:\n",
    "Your summary should encapsulate the essence of the original document, conveying its main ideas accurately and impartially.\n",
    "Avoid injecting personal opinions, interpretations, or biases into the summary.\n",
    "\n",
    "Source text: {{gt}}\n",
    "\n",
    "{{response_placeholder}}\n",
    "Summary: {{gen 'summary'}}\n",
    "\n",
    "''')\n",
    "\n",
    "executed_program = summarization_program(gt=summ_df['SRC'][2],\n",
    "                                   prompt_placeholder=u_prompt,\n",
    "                                   response_placeholder=a_prompt)()\n",
    "# executed_program()\n",
    "# guidance.llm.cache.clear()\n"
   ]
  },
  {
   "cell_type": "code",
   "execution_count": 11,
   "metadata": {},
   "outputs": [
    {
     "data": {
      "text/plain": [
       "\"tim durkan photographed aerial shots of the sunset warming the city 's skyline and shared them on cnn ireport . the fires were started in southeastern siberia , by farmers burning grass in their fields . the flames quickly grew out of control because of strong winds and spread throughout the region .\""
      ]
     },
     "execution_count": 11,
     "metadata": {},
     "output_type": "execute_result"
    }
   ],
   "source": [
    "summ_df['HYP'][2]"
   ]
  },
  {
   "cell_type": "code",
   "execution_count": 10,
   "metadata": {},
   "outputs": [
    {
     "data": {
      "text/plain": [
       "{'llm': <guidance.llms._transformers.Transformers at 0x7f5194592e30>,\n",
       " 'logging': False,\n",
       " 'gt': '\"(CNN)A fiery sunset greeted people in Washington Sunday. The deep reddish color caught Seattle native Tim Durkan\\'s eye. He photographed a handful of aerial shots of the sunset warming the city\\'s skyline and shared them on CNN iReport. The stunning sunsets were the result of raging wildfires in parts of Siberia. \"\"The dramatic sunsets began showing up over the weekend and had Seattle locals wondering where the amber-colored haze was originating from,\"\" Durken said. The fires were started in southeastern Siberia, by farmers burning grass in their fields. But on April 14, it is believed that the flames quickly grew out of control because of strong winds and spread throughout the region, according to CNN affiliate KOMO-TV. As a result, the fires have destroyed dozens of villages in the region. Rescue crews were able to put out the flames. However, the lingering smoke from the widespread fires were picked up by atmospheric winds. The winds carried the smoke from Siberia across the Pacific Ocean and brought it to the Pacific Northwest. Parts of Oregon, Washington and British Columbia are seeing the results of the smoke, wind and solar light combination. The reason people are seeing an intense red sunset is a result of smoke particles filtering out the shorter wavelength colors from the sunlight like greens, blues, yellows and purples, KOMO-TV said. That means colors like red and orange are able to penetrate the air unfiltered. The colors are especially intense during sunrises and sunsets because there is more atmosphere for the light to travel through to get to a person\\'s eye. As the smoke starts to dissipate, air quality will get better and these fiery sunsets will lose their reddish hue.\"',\n",
       " 'prompt_placeholder': '### Instruction:',\n",
       " 'response_placeholder': '### Response:',\n",
       " '@raw_prefix': '\\n{{!--GMARKER_START_variable_ref$&#123;&#123;prompt_placeholder&#125;&#125;$--}}### Instruction:{{!--GMARKER_END_variable_ref$$--}}\\nYou will be given a source document.\\nYour task is to make the summary of the document.\\nPlease make sure you read and understand these instructions carefully. Please keep this document open while reviewing, and refer to it as needed.\\n\\n1. Identify the Main Points:\\nBegin by reading the document thoroughly to understand its core message and main arguments.\\nIdentify the key points, major themes, and central ideas presented in the document.\\n\\n2. Focus on Clarity and Brevity:\\nSummaries should be succinct and to the point. Eliminate unnecessary details, examples, and repetitions.\\nUse clear and concise language to convey the essential information without unnecessary jargon.\\n\\n3. Maintain the Structure:\\nFollow the original document\\'s structure, summarizing each major section or key argument in a logical order.\\nUse paragraph breaks or bullet points to maintain a clear structure in your summary.\\n\\n4. Omit Minor Details:\\nExclude minor supporting details, specific statistics, and examples unless they are crucial to understanding the main points.\\nPrioritize information that directly contributes to the document\\'s central message.\\n\\n5. Capture the Essence:\\nYour summary should encapsulate the essence of the original document, conveying its main ideas accurately and impartially.\\nAvoid injecting personal opinions, interpretations, or biases into the summary.\\n\\nSource text: {{!--GMARKER_START_variable_ref$&#123;&#123;gt&#125;&#125;$--}}\"(CNN)A fiery sunset greeted people in Washington Sunday. The deep reddish color caught Seattle native Tim Durkan\\'s eye. He photographed a handful of aerial shots of the sunset warming the city\\'s skyline and shared them on CNN iReport. The stunning sunsets were the result of raging wildfires in parts of Siberia. \"\"The dramatic sunsets began showing up over the weekend and had Seattle locals wondering where the amber-colored haze was originating from,\"\" Durken said. The fires were started in southeastern Siberia, by farmers burning grass in their fields. But on April 14, it is believed that the flames quickly grew out of control because of strong winds and spread throughout the region, according to CNN affiliate KOMO-TV. As a result, the fires have destroyed dozens of villages in the region. Rescue crews were able to put out the flames. However, the lingering smoke from the widespread fires were picked up by atmospheric winds. The winds carried the smoke from Siberia across the Pacific Ocean and brought it to the Pacific Northwest. Parts of Oregon, Washington and British Columbia are seeing the results of the smoke, wind and solar light combination. The reason people are seeing an intense red sunset is a result of smoke particles filtering out the shorter wavelength colors from the sunlight like greens, blues, yellows and purples, KOMO-TV said. That means colors like red and orange are able to penetrate the air unfiltered. The colors are especially intense during sunrises and sunsets because there is more atmosphere for the light to travel through to get to a person\\'s eye. As the smoke starts to dissipate, air quality will get better and these fiery sunsets will lose their reddish hue.\"{{!--GMARKER_END_variable_ref$$--}}\\n\\n{{!--GMARKER_START_variable_ref$&#123;&#123;response_placeholder&#125;&#125;$--}}### Response:{{!--GMARKER_END_variable_ref$$--}}\\nSummary: {{!--GMARKER_START_gen$&#123;&#123;gen \\'summary\\'&#125;&#125;$--}}\\nA fiery sunset in Washington, Seattle, was captured in photographs by Tim Durkan and shared on CNN iReport. The stunning sunsets were caused by raging wildfires in Siberia, resulting in dozens of villages being destroyed. The fires were started by farmers burning grass in their fields, but strong winds caused the flames to grow out of control. The lingering smoke from the fires was carried across the Pacific Ocean by atmospheric winds, affecting parts of Oregon, Washington, and British Columbia. The intense red sunset is due to smoke particles filtering out shorter wavelength colors from sunlight, allowing red and orange to penetrate the air unfiltered. As the smoke dissipates, air quality will improve and the fiery sunsets will lose their reddish hue.{{!--GMARKER_END_gen$$--}}\\n\\n',\n",
       " 'summary': '\\nA fiery sunset in Washington, Seattle, was captured in photographs by Tim Durkan and shared on CNN iReport. The stunning sunsets were caused by raging wildfires in Siberia, resulting in dozens of villages being destroyed. The fires were started by farmers burning grass in their fields, but strong winds caused the flames to grow out of control. The lingering smoke from the fires was carried across the Pacific Ocean by atmospheric winds, affecting parts of Oregon, Washington, and British Columbia. The intense red sunset is due to smoke particles filtering out shorter wavelength colors from sunlight, allowing red and orange to penetrate the air unfiltered. As the smoke dissipates, air quality will improve and the fiery sunsets will lose their reddish hue.'}"
      ]
     },
     "execution_count": 10,
     "metadata": {},
     "output_type": "execute_result"
    }
   ],
   "source": [
    "executed_program.variables()"
   ]
  },
  {
   "cell_type": "code",
   "execution_count": null,
   "metadata": {},
   "outputs": [],
   "source": [
    "# by putting an `await` inside a `geneach` loop you can create agents that consume some\n",
    "# varable, then do something and then wait for more content\n",
    "program = guidance('''\n",
    "{{#system~}}\n",
    "You are a helpful assistant\n",
    "{{~/system}}\n",
    "\n",
    "{{~#geneach 'conversation' stop=False}}\n",
    "{{#user~}}\n",
    "{{set 'this.user_text' (await 'user_text')}}\n",
    "{{~/user}}\n",
    "\n",
    "{{#assistant~}}\n",
    "{{gen 'this.ai_text' temperature=0 max_tokens=300}}\n",
    "{{~/assistant}}\n",
    "{{~/geneach}}''')\n",
    "program = program(user_text ='hi there')"
   ]
  },
  {
   "cell_type": "code",
   "execution_count": null,
   "metadata": {},
   "outputs": [],
   "source": [
    "strategy_objective = 'Generate a strategy to summarize {{category}} news which has content like \"{{summary}}\"'\n",
    "strategy_program = guidance('''\n",
    "News:{{news}}\n",
    "Select a category for a given news and create a one-sentence summary of the news.\n",
    "Category: {{select \"category\" options=options}}\n",
    "One-sentence-summary:{{gen \"summary\"}}\n",
    "\n",
    "{{strategy_objective}}\n",
    "Strategy: {{gen \"strategies\" n=5 temperature=0.7}}\n",
    "''')\n",
    "\n",
    "\n",
    "executed_program = strategy_program(news=news, strategy_objective=strategy_objective, options=options)"
   ]
  },
  {
   "cell_type": "code",
   "execution_count": null,
   "metadata": {},
   "outputs": [],
   "source": [
    "strategy_objective = 'Generate a strategy to summarize {{category}} news which has content like \"{{summary}}\"'\n",
    "strategy_program = guidance('''\n",
    "News:{{news}}\n",
    "Select a category for a given news and create a one-sentence summary of the news.\n",
    "Category: {{select \"category\" options=options}}\n",
    "One-sentence-summary:{{gen \"summary\"}}\n",
    "\n",
    "{{strategy_objective}}\n",
    "Strategy: {{gen \"strategies\" n=5 temperature=0.7}}\n",
    "''')\n",
    "\n",
    "\n",
    "executed_program = strategy_program(news=news, strategy_objective=strategy_objective, options=options)\n"
   ]
  },
  {
   "cell_type": "code",
   "execution_count": null,
   "metadata": {},
   "outputs": [],
   "source": [
    "evaluation_objective = 'Score pessimistically the input based on the objective on a continuous scale from 0 to 10, where a score of zero means\\\n",
    "irrelevant, factually incorrect and not readable\" and score of ten means\\\n",
    "relevant, factually correct, good readability.'\n",
    "# evaluation_objective = 'Score pessimistically the input based on the objective on a continuous scale from 0 to 100, where a score of zero means\\\n",
    "# irrelevant, factually incorrect and not readable\" and score of one hundred means\\\n",
    "# relevant, factually correct, good readability.'\n",
    "evaluation_program = guidance('''\n",
    "Objective: {{evaluation_objective}}\n",
    "Input: {{input}}\n",
    "Score: {{gen 'score' pattern='(10|[0-9])'}}\n",
    "''')"
   ]
  },
  {
   "cell_type": "code",
   "execution_count": null,
   "metadata": {},
   "outputs": [],
   "source": [
    "total_score = []\n",
    "for strategy in executed_program[\"strategies\"]:\n",
    "    executed_eval_program = evaluation_program(input=strategy, evaluation_objective=evaluation_objective)\n",
    "    total_score.append(executed_eval_program['score'])\n",
    "    guidance.llm.cache.clear()"
   ]
  },
  {
   "cell_type": "code",
   "execution_count": null,
   "metadata": {},
   "outputs": [],
   "source": [
    "total_score"
   ]
  },
  {
   "cell_type": "code",
   "execution_count": null,
   "metadata": {},
   "outputs": [],
   "source": [
    "program = guidance('''\n",
    "News:{{news}}\n",
    "Select a category for a given news and create a one-sentence summary of the news.\n",
    "Category: {{select \"category\" options=options}}\n",
    "One-sentence-summary:{{gen \"summary\"}}\n",
    "\n",
    "Generate a strategy to summarize {{category}} news which has content like \"{{summary}}\" \n",
    "Strategy: {{gen \"strategy\" temperature=0.7 n=3}}\n",
    "\n",
    "News:{{news}}\n",
    "{{#each strategy}}\n",
    "Summarize the news based on the strategy below.\n",
    "Strategy: {{this}}\n",
    "Summarization: {{gen 'summarization'}}\n",
    "\n",
    "{{/each}}\n",
    "\n",
    "''')\n",
    "\n",
    "executed_program = program(news=news, options=options)"
   ]
  },
  {
   "cell_type": "code",
   "execution_count": null,
   "metadata": {},
   "outputs": [],
   "source": [
    "executed_program['summarization']"
   ]
  },
  {
   "cell_type": "code",
   "execution_count": null,
   "metadata": {},
   "outputs": [],
   "source": [
    "program = guidance('''\n",
    "News:{{news}}\n",
    "Select a category for a given news and create a one-sentence summary of the news.\n",
    "Category: {{select \"category\" options=options}}\n",
    "One-sentence-summary:{{gen \"summary\"}}\n",
    "\n",
    "Generate a strategy to summarize {{category}} news which has content like \"{{summary}}\" \n",
    "Strategy: {{gen \"strategy\" temperature=0.7 n=3}}\n",
    "\n",
    "{{#each strategy}}Strategy: {{this}}\n",
    "Score the strategy based on how appropriate it is to summarize {{category}} news which has content like \"{{summary}}\"\n",
    "Score: {{gen 'score' pattern='(100|[1-9]?[0-9])'}}\n",
    "\n",
    "{{/each}}\n",
    "\n",
    "''')\n",
    "\n",
    "executed_program = program(news=news, options=options, silent=True)"
   ]
  },
  {
   "cell_type": "code",
   "execution_count": null,
   "metadata": {},
   "outputs": [],
   "source": [
    "# it is often useful to execute a part of the program, but then not include that part in later context\n",
    "# given to the language model. This can be done using the hidden=True argument. Several commands support\n",
    "# hidden=True, but here we use the {{#block}} command (which is just a generic block command that does\n",
    "# nothing other than what the arguments you pass to it do)\n",
    "program = guidance('''Based on the category and facts of a given news story, generate summary approache to summarize the news in a brief but compelling way:\n",
    "{{#block hidden=True}}{{news}}{{/block}}\n",
    "Strategies:{{gen \"strategies\" temperature=1 n=3}}\n",
    "I will show you a news and three straties for summarizing the news, and you should score each of them on a continuous scale from 0 to 100\n",
    "focusing on how appropriate it is for making brief and informative summarization and call them score_1, score_2 and score_3.\n",
    "News: {{news}}.\n",
    "Strategies: {{strategies}}\n",
    "\n",
    "''')\n",
    "\n",
    "executed_program = program(news=news)"
   ]
  },
  {
   "cell_type": "code",
   "execution_count": null,
   "metadata": {},
   "outputs": [],
   "source": [
    "executed_program['logprobs']"
   ]
  },
  {
   "attachments": {},
   "cell_type": "markdown",
   "metadata": {},
   "source": [
    "Silent execution"
   ]
  },
  {
   "cell_type": "code",
   "execution_count": null,
   "metadata": {},
   "outputs": [],
   "source": [
    "# if you want to run a program without displaying the output, you can use the silent=True argument\n",
    "executed_program = program(email='I hate tacos', silent=True)\n",
    "executed_program['answer']"
   ]
  },
  {
   "attachments": {},
   "cell_type": "markdown",
   "metadata": {},
   "source": [
    "Generating with `n>1`"
   ]
  },
  {
   "cell_type": "code",
   "execution_count": null,
   "metadata": {},
   "outputs": [],
   "source": [
    "# the {{gen}} command the n=number argument to generate multiple completions\n",
    "# only the first completion is used for future context, but the variable set\n",
    "# by the command is a list of all the completions, and you can interactively\n",
    "# click through each completion in the notebook visualization\n",
    "program = guidance('''The best thing about the beach is{{gen 'best' n=3 temperature=0.7 max_tokens=7}}''')\n",
    "executed_program = program()"
   ]
  },
  {
   "cell_type": "code",
   "execution_count": null,
   "metadata": {},
   "outputs": [],
   "source": [
    "executed_program[\"best\"]"
   ]
  },
  {
   "attachments": {},
   "cell_type": "markdown",
   "metadata": {},
   "source": [
    "Calling custom user defined functions"
   ]
  },
  {
   "cell_type": "code",
   "execution_count": null,
   "metadata": {},
   "outputs": [],
   "source": [
    "# all the built in commands are functions from guidance.library.* but you can also pass in your own functions\n",
    "def aggregate(best):\n",
    "    return '\\n'.join(['- ' + x for x in best])\n",
    "\n",
    "# note that we use hidden=True to prevent the {{gen}} command from being included in the output, and instead\n",
    "# just use the variable it sets as an input to the aggregate function\n",
    "program = guidance('''The best thing about the beach is{{gen 'best' n=3 temperature=0.7 max_tokens=7 hidden=True}}\n",
    "{{aggregate best}}''')\n",
    "executed_program = program(aggregate=aggregate)"
   ]
  },
  {
   "attachments": {},
   "cell_type": "markdown",
   "metadata": {},
   "source": [
    "Await"
   ]
  },
  {
   "cell_type": "code",
   "execution_count": null,
   "metadata": {},
   "outputs": [],
   "source": [
    "# sometimes you want to partially execute a program, the `await` command allows you to do this\n",
    "# it awaits a variable and then consumes that variables (so after the await command the variable)\n",
    "prompt = guidance('''Generate a response to the following email:\n",
    "{{email}}.\n",
    "Response:{{gen \"response\"}}\n",
    "{{await 'instruction'}}\n",
    "{{gen 'updated_response'}}''', stream=True)\n",
    "\n",
    "# note how the executed program is only partially executed, it stops at the await command\n",
    "# because the instruction variable is not yet set\n",
    "prompt = prompt(email='Hello there')\n"
   ]
  },
  {
   "cell_type": "code",
   "execution_count": null,
   "metadata": {},
   "outputs": [],
   "source": [
    "prompt2 = prompt(instruction='Please translate the response above to Portuguese.')\n",
    "prompt2"
   ]
  },
  {
   "cell_type": "code",
   "execution_count": null,
   "metadata": {},
   "outputs": [],
   "source": [
    "prompt2 = prompt(instruction='Please translate the response above to Chinese.')\n",
    "prompt2"
   ]
  },
  {
   "attachments": {},
   "cell_type": "markdown",
   "metadata": {},
   "source": [
    "## Chat"
   ]
  },
  {
   "cell_type": "code",
   "execution_count": null,
   "metadata": {},
   "outputs": [],
   "source": [
    "# to use role based chat tags you need a chat model, here we use gpt-3.5-turbo but you can use 'gpt-4' as well\n",
    "guidance.llm = guidance.llms.OpenAI(\"gpt-3.5-turbo\")"
   ]
  },
  {
   "cell_type": "code",
   "execution_count": null,
   "metadata": {},
   "outputs": [],
   "source": [
    "# note that we enclose all of the text in one of the valid role tags for the model\n",
    "# `system`, `user`, and `assistant` are just shorthand for {{#role name=\"system\"}}...{{/role}}\n",
    "# the whitepace outside the role tags is ignored by gpt-4, the whitespace inside the role tags is not\n",
    "# so we use the ~ to remove the whitespace we don't want to give to the model (but want to keep in the code for clarity)\n",
    "program = guidance('''\n",
    "{{#system~}}\n",
    "You are a helpful assistant.\n",
    "{{~/system}}\n",
    "\n",
    "{{#user~}}\n",
    "{{conversation_question}}\n",
    "{{~/user}}\n",
    "\n",
    "{{! this is a comment. note that we don't have to use a stop=\"stop_string\" for the gen command below because Guidance infers the stop string from the role tag }}\n",
    "{{#assistant~}}\n",
    "{{gen 'response'}}\n",
    "{{~/assistant}}''')\n",
    "\n",
    "executed_program = program(conversation_question='What is the meaning of life?')"
   ]
  },
  {
   "attachments": {},
   "cell_type": "markdown",
   "metadata": {},
   "source": [
    "Multistep"
   ]
  },
  {
   "cell_type": "code",
   "execution_count": null,
   "metadata": {},
   "outputs": [],
   "source": [
    "# you can create and guide multi-turn conversations by using a series of role tags\n",
    "experts = guidance('''\n",
    "{{#system~}}\n",
    "You are a helpful assistant.\n",
    "{{~/system}}\n",
    "\n",
    "{{#user~}}\n",
    "I want a response to the following question:\n",
    "{{query}}\n",
    "Who are 3 world-class experts (past or present) who would be great at answering this?\n",
    "Please don't answer the question or comment on it yet.\n",
    "{{~/user}}\n",
    "\n",
    "{{#assistant~}}\n",
    "{{gen 'experts' temperature=0 max_tokens=300}}\n",
    "{{~/assistant}}\n",
    "\n",
    "{{#user~}}\n",
    "Great, now please answer the question as if these experts had collaborated in writing a joint anonymous answer.\n",
    "In other words, their identity is not revealed, nor is the fact that there is a panel of experts answering the question.\n",
    "If the experts would disagree, just present their different positions as alternatives in the answer itself (e.g. 'some might argue... others might argue...').\n",
    "Please start your answer with ANSWER:\n",
    "{{~/user}}\n",
    "\n",
    "{{#assistant~}}\n",
    "{{gen 'answer' temperature=0 max_tokens=500}}\n",
    "{{~/assistant}}''')\n",
    "                   \n",
    "experts(query='What is the meaning of life?')"
   ]
  },
  {
   "attachments": {},
   "cell_type": "markdown",
   "metadata": {},
   "source": [
    "With hidden"
   ]
  },
  {
   "cell_type": "code",
   "execution_count": null,
   "metadata": {},
   "outputs": [],
   "source": [
    "# if you want the model to have some inner dialog but then not include that dialog\n",
    "# in the context of later generations, you can use the {{#block}} command with hidden=True\n",
    "program = guidance('''\n",
    "{{#system~}}\n",
    "You are a helpful assistant.\n",
    "{{~/system}}\n",
    "\n",
    "{{#block hidden=True}}\n",
    "{{#user~}}\n",
    "Please tell me a joke\n",
    "{{~/user}}\n",
    "\n",
    "{{! note that we don't have guidance controls inside the assistant role because\n",
    "    the OpenAI API does not yet support that (Transformers chat models do) }}\n",
    "{{#assistant~}}\n",
    "{{gen 'joke'}}\n",
    "{{~/assistant}}\n",
    "{{~/block~}}\n",
    "\n",
    "{{#user~}}\n",
    "Is the following joke funny? Why or why not?\n",
    "{{joke}}\n",
    "{{~/user}}\n",
    "\n",
    "{{#assistant~}}\n",
    "{{gen 'funny'}}\n",
    "{{~/assistant}}''')\n",
    "program()\n"
   ]
  },
  {
   "attachments": {},
   "cell_type": "markdown",
   "metadata": {},
   "source": [
    "Agents"
   ]
  },
  {
   "cell_type": "code",
   "execution_count": null,
   "metadata": {},
   "outputs": [],
   "source": [
    "# by putting an `await` inside a `geneach` loop you can create agents that consume some\n",
    "# varable, then do something and then wait for more content\n",
    "program = guidance('''\n",
    "{{#system~}}\n",
    "You are a helpful assistant\n",
    "{{~/system}}\n",
    "\n",
    "{{~#geneach 'conversation' stop=False}}\n",
    "{{#user~}}\n",
    "{{set 'this.user_text' (await 'user_text')}}\n",
    "{{~/user}}\n",
    "\n",
    "{{#assistant~}}\n",
    "{{gen 'this.ai_text' temperature=0 max_tokens=300}}\n",
    "{{~/assistant}}\n",
    "{{~/geneach}}''')\n",
    "program = program(user_text ='hi there')"
   ]
  },
  {
   "cell_type": "code",
   "execution_count": null,
   "metadata": {},
   "outputs": [],
   "source": [
    "# as we go through the loop we build up a conversation variable that contains the history of the conversation\n",
    "# note that the last entry in the conversation variable is empty because the `await` call happens before any\n",
    "# content is added to the `this` variable that represents the current item in the geneach loop\n",
    "program['conversation']"
   ]
  },
  {
   "cell_type": "code",
   "execution_count": null,
   "metadata": {},
   "outputs": [],
   "source": [
    "# here we call the agent again and the loop continues, in this case building out a conversation\n",
    "program = program(user_text = 'What is the meaning of life?')"
   ]
  },
  {
   "cell_type": "code",
   "execution_count": null,
   "metadata": {},
   "outputs": [],
   "source": [
    "program['conversation']"
   ]
  },
  {
   "attachments": {},
   "cell_type": "markdown",
   "metadata": {},
   "source": [
    "Using tools\n",
    "\n",
    "The example below uses a search engine (or a mock of one) to answer user questions. The whole system is defined in a single `guidance` program, but you could also break it into multiple programs and `await` external calls if you don't want the guidance program to control the whole process."
   ]
  },
  {
   "cell_type": "code",
   "execution_count": null,
   "metadata": {},
   "outputs": [],
   "source": [
    "def is_search(completion):\n",
    "    return '<search>' in completion\n",
    "\n",
    "def search(query):\n",
    "    # Fake search results\n",
    "    return [{'title': 'How do I cancel a Subscription? | Facebook Help Center',\n",
    "        'snippet': \"To stop a monthly Subscription to a creator: Go to the creator's Facebook Page using the latest version of the Facebook app for iOS, Android or from a computer. Select Go to Supporter Hub. Select . Select Manage Subscription to go to the iTunes or Google Play Store and cancel your subscription. Cancel your Subscription at least 24 hours before ...\"},\n",
    "        {'title': 'News | FACEBOOK Stock Price Today | Analyst Opinions - Insider',\n",
    "        'snippet': 'Stock | News | FACEBOOK Stock Price Today | Analyst Opinions | Markets Insider Markets Stocks Indices Commodities Cryptocurrencies Currencies ETFs News Facebook Inc (A) Cert Deposito Arg Repr...'},\n",
    "        {'title': 'Facebook Stock Price Today (NASDAQ: META) Quote, Market Cap, Chart ...',\n",
    "        'snippet': 'Facebook Stock Price Today (NASDAQ: META) Quote, Market Cap, Chart | WallStreetZen Meta Platforms Inc Stock Add to Watchlist Overview Forecast Earnings Dividend Ownership Statistics $197.81 +2.20 (+1.12%) Updated Mar 20, 2023 Meta Platforms shares are trading... find out Why META Price Moved with a free WallStreetZen account Why Price Moved'}]\n",
    "\n",
    "search_demo = guidance('''Seach results:\n",
    "{{~#each results}}\n",
    "<result>\n",
    "{{this.title}}\n",
    "{{this.snippet}}\n",
    "</result>{{/each}}''')\n",
    "\n",
    "demo_results = [\n",
    "    {'title': 'OpenAI - Wikipedia', 'snippet': 'OpenAI systems run on the fifth most powerful supercomputer in the world. [5] [6] [7] The organization was founded in San Francisco in 2015 by Sam Altman, Reid Hoffman, Jessica Livingston, Elon Musk, Ilya Sutskever, Peter Thiel and others, [8] [1] [9] who collectively pledged US$ 1 billion. Musk resigned from the board in 2018 but remained a donor.'},\n",
    "    {'title': 'About - OpenAI', 'snippet': 'About OpenAI is an AI research and deployment company. Our mission is to ensure that artificial general intelligence benefits all of humanity. Our vision for the future of AGI Our mission is to ensure that artificial general intelligence—AI systems that are generally smarter than humans—benefits all of humanity. Read our plan for AGI'}, \n",
    "    {'title': 'Ilya Sutskever | Stanford HAI', 'snippet': '''Ilya Sutskever is Co-founder and Chief Scientist of OpenAI, which aims to build artificial general intelligence that benefits all of humanity. He leads research at OpenAI and is one of the architects behind the GPT models. Prior to OpenAI, Ilya was co-inventor of AlexNet and Sequence to Sequence Learning.'''}\n",
    "]\n",
    "\n",
    "s = search_demo(results=demo_results)\n",
    "\n",
    "practice_round = [\n",
    "    {'role': 'user', 'content' : 'Who are the founders of OpenAI?'},\n",
    "    {'role': 'assistant', 'content': '<search>Who are the founders of OpenAI</search>'},\n",
    "    {'role': 'user', 'content': str(search_demo(results=demo_results))},\n",
    "    {'role': 'assistant', 'content': 'The founders of OpenAI are Sam Altman, Reid Hoffman, Jessica Livingston, Elon Musk, Ilya Sutskever, Peter Thiel and others.'},\n",
    "]\n",
    "\n",
    "program = guidance('''\n",
    "{{#system~}}\n",
    "You are a helpful assistant.\n",
    "{{~/system}}\n",
    "\n",
    "{{#user~}}\n",
    "From now on, whenever your response depends on any factual information, please search the web by using the function <search>query</search> before responding. I will then paste web results in, and you can respond.\n",
    "{{~/user}}\n",
    "\n",
    "{{#assistant~}}\n",
    "Ok, I will do that. Let's do a practice round\n",
    "{{~/assistant}}\n",
    "\n",
    "{{#each practice}}\n",
    "{{#if (== this.role \"user\")}}\n",
    "{{#user}}{{this.content}}{{/user}}\n",
    "{{else}}\n",
    "{{#assistant}}{{this.content}}{{/assistant}}\n",
    "{{/if}}\n",
    "{{/each}}\n",
    "\n",
    "{{#user~}}\n",
    "That was great, now let's do another one.\n",
    "{{~/user}}\n",
    "\n",
    "{{#assistant~}}\n",
    "Sounds good\n",
    "{{~/assistant}}\n",
    "\n",
    "{{#user~}}\n",
    "{{user_query}}\n",
    "{{~/user}}\n",
    "\n",
    "{{#assistant~}}\n",
    "{{gen \"query\" stop=\"</search>\"}}{{#if (is_search query)}}</search>{{/if}}\n",
    "{{~/assistant}}\n",
    "\n",
    "{{#user~}}\n",
    "Search results: {{#each (search query)}}\n",
    "<result>\n",
    "{{this.title}}\n",
    "{{this.snippet}}\n",
    "</result>{{/each}}\n",
    "{{~/user}}\n",
    "\n",
    "{{#assistant~}}\n",
    "{{gen \"answer\"}}\n",
    "{{~/assistant}}\n",
    "''')\n",
    "\n",
    "query = \"What is Facebook's stock price right now?\"\n",
    "\n",
    "program = program(\n",
    "    user_query=query,\n",
    "    search=search,\n",
    "    is_search=is_search,\n",
    "    practice=practice_round\n",
    ")\n"
   ]
  },
  {
   "attachments": {},
   "cell_type": "markdown",
   "metadata": {},
   "source": [
    "<hr style=\"height: 1px; opacity: 0.5; border: none; background: #cccccc;\">\n",
    "<div style=\"text-align: center; opacity: 0.5\">Have an idea for more helpful examples? Pull requests that add to this documentation notebook are encouraged!</div>"
   ]
  }
 ],
 "metadata": {
  "kernelspec": {
   "display_name": "guidance",
   "language": "python",
   "name": "python3"
  },
  "language_info": {
   "codemirror_mode": {
    "name": "ipython",
    "version": 3
   },
   "file_extension": ".py",
   "mimetype": "text/x-python",
   "name": "python",
   "nbconvert_exporter": "python",
   "pygments_lexer": "ipython3",
   "version": "3.10.12"
  },
  "orig_nbformat": 4,
  "vscode": {
   "interpreter": {
    "hash": "fd8cabafb56980528edb83a46206c404687fdaed0bdad7c450ae020143ae38bc"
   }
  }
 },
 "nbformat": 4,
 "nbformat_minor": 2
}
